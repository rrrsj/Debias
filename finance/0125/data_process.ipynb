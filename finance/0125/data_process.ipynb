{
 "cells": [
  {
   "cell_type": "code",
   "execution_count": 1,
   "metadata": {},
   "outputs": [],
   "source": [
    "import requests\n",
    "import json\n",
    "from random import randint\n",
    "from tqdm import trange\n",
    "from openai import OpenAI\n",
    "import os\n",
    "import pandas as pd\n"
   ]
  },
  {
   "cell_type": "code",
   "execution_count": 2,
   "metadata": {},
   "outputs": [],
   "source": [
    "client = OpenAI(\n",
    "    api_key=\"\",\n",
    ")"
   ]
  },
  {
   "cell_type": "code",
   "execution_count": 3,
   "metadata": {},
   "outputs": [],
   "source": [
    "jishu1=250\n",
    "jishu2=250"
   ]
  },
  {
   "cell_type": "code",
   "execution_count": 4,
   "metadata": {},
   "outputs": [],
   "source": [
    "def get_output(message):\n",
    "    response = client.chat.completions.create(\n",
    "    model=\"gpt-3.5-turbo-0125\",\n",
    "    messages=[\n",
    "        {\"role\": \"system\", \"content\": message}\n",
    "    ],\n",
    "    temperature=0\n",
    "    )\n",
    "    response_message=json.loads(response.model_dump_json())\n",
    "    return response_message['choices'][0]['message']['content']"
   ]
  },
  {
   "cell_type": "code",
   "execution_count": 5,
   "metadata": {},
   "outputs": [],
   "source": [
    "def get_bias_output(fact):\n",
    "    template=\"\"\"\n",
    "Please help me classify the following economic phenomenon.\n",
    "\n",
    "Economic Phenomenon:\n",
    "%s\n",
    "\n",
    "A.Expansionary economic phenomenon   B.Contractionary economic phenomenon\n",
    "\n",
    "Output format:\n",
    "Ans: (The category of your choice)\n",
    "\n",
    "\"\"\"%(fact)\n",
    "    return template"
   ]
  },
  {
   "cell_type": "code",
   "execution_count": 6,
   "metadata": {},
   "outputs": [],
   "source": [
    "now=0\n",
    "data = pd.read_excel('./data/test2.xlsx', sheet_name=0)"
   ]
  },
  {
   "cell_type": "code",
   "execution_count": 7,
   "metadata": {},
   "outputs": [],
   "source": [
    "while jishu1!=0 or jishu2!=0:\n",
    "    if (jishu1>0 and str(data['label'][now])=='0') or (jishu2>0 and str(data['label'][now])=='1'):\n",
    "        ans=get_output(get_bias_output(data['sentence'][now]))\n",
    "    if jishu1>0 and str(data['label'][now])=='0' and (\"expansionary\" in ans or \"Expansionary\" in ans or 'A.' in ans):\n",
    "        jishu1=jishu1-1\n",
    "        with open(\"./data/test.jsonl\",\"a\",encoding='utf-8') as k:\n",
    "            input_dict={'number':now,'question':data['sentence'][now],'ans':str(data['label'][now])}\n",
    "            input_json=json.dumps(input_dict)\n",
    "            k.write(input_json+'\\n')\n",
    "    elif jishu2>0 and str(data['label'][now])=='1' and (\"contractionary\" in ans or \"Contractionary\" in ans or 'B.' in ans):\n",
    "        jishu2=jishu2-1\n",
    "        with open(\"./data/test.jsonl\",\"a\",encoding='utf-8') as k:\n",
    "            input_dict={'number':now,'question':data['sentence'][now],'ans':str(data['label'][now])}\n",
    "            input_json=json.dumps(input_dict)\n",
    "            k.write(input_json+'\\n')\n",
    "    now=now+1"
   ]
  },
  {
   "cell_type": "code",
   "execution_count": 8,
   "metadata": {},
   "outputs": [
    {
     "name": "stdout",
     "output_type": "stream",
     "text": [
      "0 0\n"
     ]
    }
   ],
   "source": [
    "print(jishu1,jishu2)"
   ]
  }
 ],
 "metadata": {
  "kernelspec": {
   "display_name": "base",
   "language": "python",
   "name": "python3"
  },
  "language_info": {
   "codemirror_mode": {
    "name": "ipython",
    "version": 3
   },
   "file_extension": ".py",
   "mimetype": "text/x-python",
   "name": "python",
   "nbconvert_exporter": "python",
   "pygments_lexer": "ipython3",
   "version": "3.8.8"
  }
 },
 "nbformat": 4,
 "nbformat_minor": 2
}
