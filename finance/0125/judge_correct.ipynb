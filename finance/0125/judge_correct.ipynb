{
 "cells": [
  {
   "cell_type": "code",
   "execution_count": 12,
   "metadata": {
    "pycharm": {
     "name": "#%%\n"
    }
   },
   "outputs": [],
   "source": [
    "import json\n",
    "import re\n",
    "\n",
    "import sys"
   ]
  },
  {
   "cell_type": "code",
   "execution_count": 13,
   "metadata": {
    "pycharm": {
     "name": "#%%\n"
    }
   },
   "outputs": [],
   "source": [
    "\n",
    "#f=open(\"output.txt\", \"w\")\n",
    "# 保存原来的标准输出\n",
    "#original_stdout = sys.stdout\n",
    "# 重定向标准输出到文件\n",
    "#sys.stdout = f"
   ]
  },
  {
   "cell_type": "code",
   "execution_count": 14,
   "metadata": {
    "pycharm": {
     "name": "#%%\n"
    }
   },
   "outputs": [],
   "source": [
    "def find_ans_num(path):\n",
    "    f=open(path,'r')\n",
    "    right=0\n",
    "    wrong=0\n",
    "    a=0\n",
    "    for i in range(500):\n",
    "        now=json.loads(f.readline())\n",
    "        try:\n",
    "            ans=re.findall(r\"Ans([\\S|\\s]*)\",now['bias'], re.S)[0]\n",
    "        except:\n",
    "            a=a+1\n",
    "            ans=now['bias']\n",
    "        if (\"contractionary\" in ans or \"Contractionary\" in ans) and now['ans']=='1':\n",
    "            right=right+1\n",
    "        elif (\"expansionary\" in ans or \"Expansionary\" in ans) and now['ans']=='0':\n",
    "            right=right+1\n",
    "        else:\n",
    "            wrong=wrong+1\n",
    "    print(right/500,wrong,right+wrong,a)"
   ]
  },
  {
   "cell_type": "code",
   "execution_count": 15,
   "metadata": {
    "pycharm": {
     "name": "#%%\n"
    }
   },
   "outputs": [],
   "source": [
    "def find_ans_method1_num(path):\n",
    "    f=open(path,'r')\n",
    "    right=0\n",
    "    wrong=0\n",
    "    a=0\n",
    "    for i in range(500):\n",
    "        now=json.loads(f.readline())\n",
    "        try:\n",
    "            ans=re.findall(r\"Ans([\\S|\\s]*)\",now['methods'], re.S)[0]\n",
    "        except:\n",
    "            a=a+1\n",
    "            ans=now['methods']\n",
    "        if (\"contractionary\" in ans or \"Contractionary\" in ans) and now['ans']=='1':\n",
    "            right=right+1\n",
    "        elif (\"expansionary\" in ans or \"Expansionary\" in ans) and now['ans']=='0':\n",
    "            right=right+1\n",
    "        else:\n",
    "            wrong=wrong+1\n",
    "    print(right/500,wrong,right+wrong,a)"
   ]
  },
  {
   "cell_type": "code",
   "execution_count": 16,
   "metadata": {
    "pycharm": {
     "name": "#%%\n"
    }
   },
   "outputs": [],
   "source": [
    "def find_ans_method2_num(path):\n",
    "    f=open(path,'r')\n",
    "    right=0\n",
    "    wrong=0\n",
    "    a=0\n",
    "    for i in range(500):\n",
    "        now=json.loads(f.readline())\n",
    "        try:\n",
    "            ans=re.findall(r\"Ans([\\S|\\s]*)\",now['output'], re.S)[0]\n",
    "        except:\n",
    "            a=a+1\n",
    "            ans=now['output']\n",
    "        if (\"contractionary\" in ans or \"Contractionary\" in ans) and now['ans']=='1':\n",
    "            right=right+1\n",
    "        elif (\"expansionary\" in ans or \"Expansionary\" in ans) and now['ans']=='0':\n",
    "            right=right+1\n",
    "        else:\n",
    "            wrong=wrong+1\n",
    "    print(right/500,wrong,right+wrong,a)"
   ]
  },
  {
   "cell_type": "code",
   "execution_count": 17,
   "metadata": {
    "pycharm": {
     "name": "#%%\n"
    }
   },
   "outputs": [
    {
     "name": "stdout",
     "output_type": "stream",
     "text": [
      "0.97 15 500 0\n",
      "0.692 154 500 0\n",
      "0.648 176 500 0\n",
      "0.334 333 500 0\n",
      "0.75 125 500 0\n",
      "0.724 138 500 0\n",
      "0.822 89 500 3\n",
      "0.84 80 500 1\n",
      "0.878 61 500 9\n",
      "0.782 109 500 4\n",
      "0.624 188 500 500\n",
      "0.486 257 500 0\n",
      "0.914 43 500 12\n"
     ]
    }
   ],
   "source": [
    "find_ans_num(\"./ground_true.jsonl\")\n",
    "find_ans_num(\"./anchor/anchor_0125.jsonl\")\n",
    "find_ans_num(\"./anchor/no_bias.jsonl\")\n",
    "find_ans_num(\"./anchor/few_shot.jsonl\")\n",
    "find_ans_num(\"./anchor/few_shot1.jsonl\")\n",
    "find_ans_num(\"./anchor/cot.jsonl\")\n",
    "find_ans_method1_num('./anchor/self_help.jsonl')\n",
    "find_ans_method2_num('./anchor/anchor_0125_method.jsonl')\n",
    "find_ans_method2_num('./anchor/without_while.jsonl')\n",
    "find_ans_method2_num('./anchor/without_think.jsonl')\n",
    "find_ans_method2_num('./anchor/multi_debate.jsonl')\n",
    "find_ans_method2_num('./anchor/reflexion.jsonl')\n",
    "find_ans_method1_num('./anchor/get_judge.jsonl')"
   ]
  },
  {
   "cell_type": "code",
   "execution_count": 18,
   "metadata": {
    "pycharm": {
     "name": "#%%\n"
    }
   },
   "outputs": [
    {
     "name": "stdout",
     "output_type": "stream",
     "text": [
      "0.97 15 500 0\n",
      "0.468 266 500 0\n",
      "0.65 175 500 0\n",
      "0.048 476 500 0\n",
      "0.568 216 500 0\n",
      "0.634 183 500 0\n",
      "0.368 316 500 0\n",
      "0.86 70 500 0\n",
      "0.866 67 500 3\n",
      "0.77 115 500 7\n",
      "0.364 318 500 500\n",
      "0.586 207 500 2\n",
      "0.874 63 500 11\n"
     ]
    }
   ],
   "source": [
    "find_ans_num(\"./ground_true.jsonl\")\n",
    "find_ans_num(\"./many/many_0125.jsonl\")\n",
    "find_ans_num(\"./many/no_bias.jsonl\")\n",
    "find_ans_num(\"./many/few_shot.jsonl\")\n",
    "find_ans_num(\"./many/few_shot1.jsonl\")\n",
    "find_ans_num(\"./many/cot.jsonl\")\n",
    "find_ans_method1_num('./many/self_help.jsonl')\n",
    "find_ans_method2_num('./many/many_0125_method.jsonl')\n",
    "find_ans_method2_num('./many/without_while.jsonl')\n",
    "find_ans_method2_num('./many/without_think.jsonl')\n",
    "find_ans_method2_num('./many/multi_debate.jsonl')\n",
    "find_ans_method2_num('./many/reflexion.jsonl')\n",
    "find_ans_method1_num('./many/get_judge.jsonl')"
   ]
  },
  {
   "cell_type": "code",
   "execution_count": 19,
   "metadata": {
    "pycharm": {
     "name": "#%%\n"
    }
   },
   "outputs": [
    {
     "name": "stdout",
     "output_type": "stream",
     "text": [
      "0.97 15 500 0\n",
      "0.798 101 500 0\n",
      "0.834 83 500 0\n",
      "0.818 91 500 0\n",
      "0.828 86 500 0\n",
      "0.858 71 500 0\n",
      "0.838 81 500 9\n",
      "0.862 69 500 40\n",
      "0.862 69 500 57\n",
      "0.808 96 500 20\n",
      "0.818 91 500 500\n",
      "0.71 145 500 0\n",
      "0.91 45 500 29\n"
     ]
    }
   ],
   "source": [
    "find_ans_num(\"./ground_true.jsonl\")\n",
    "find_ans_num(\"./loss/loss_0125.jsonl\")\n",
    "find_ans_num(\"./loss/no_bias.jsonl\")\n",
    "find_ans_num(\"./loss/few_shot.jsonl\")\n",
    "find_ans_num(\"./loss/few_shot1.jsonl\")\n",
    "find_ans_num(\"./loss/cot.jsonl\")\n",
    "find_ans_method1_num('./loss/self_help.jsonl')\n",
    "find_ans_method2_num('./loss/loss_0125_method.jsonl')\n",
    "find_ans_method2_num('./loss/without_while.jsonl')\n",
    "find_ans_method2_num('./loss/without_think.jsonl')\n",
    "find_ans_method2_num('./loss/multi_debate.jsonl')\n",
    "find_ans_method2_num('./loss/reflexion.jsonl')\n",
    "find_ans_method1_num('./loss/get_judge.jsonl')"
   ]
  },
  {
   "cell_type": "code",
   "execution_count": 20,
   "metadata": {
    "pycharm": {
     "name": "#%%\n"
    }
   },
   "outputs": [
    {
     "name": "stdout",
     "output_type": "stream",
     "text": [
      "0.97 15 500 0\n",
      "0.906 47 500 2\n",
      "0 0 0 0\n",
      "0.5 250 500 0\n",
      "0.812 94 500 0\n",
      "0.868 66 500 0\n",
      "0.818 91 500 2\n",
      "0.83 85 500 0\n",
      "0.802 99 500 51\n",
      "0.806 97 500 34\n",
      "0.9 50 500 500\n",
      "0.796 102 500 0\n"
     ]
    }
   ],
   "source": [
    "find_ans_num(\"./ground_true.jsonl\")\n",
    "find_ans_num(\"./null/no_bias.jsonl\")\n",
    "print(0,0,0,0)\n",
    "find_ans_num(\"./null/few_shot.jsonl\")\n",
    "find_ans_num(\"./null/few_shot1.jsonl\")\n",
    "find_ans_num(\"./null/cot.jsonl\")\n",
    "find_ans_method1_num('./null/self_help.jsonl')\n",
    "find_ans_method2_num('./null/null_0125_method.jsonl')\n",
    "find_ans_method2_num('./null/without_while.jsonl')\n",
    "find_ans_method2_num('./null/without_think.jsonl')\n",
    "find_ans_method2_num('./null/multi_debate.jsonl')\n",
    "find_ans_method2_num('./null/reflexion.jsonl')"
   ]
  },
  {
   "cell_type": "code",
   "execution_count": 21,
   "metadata": {
    "pycharm": {
     "name": "#%%\n"
    }
   },
   "outputs": [
    {
     "name": "stdout",
     "output_type": "stream",
     "text": [
      "0.97 15 500 0\n",
      "0.016 492 500 0\n",
      "0.062 469 500 0\n",
      "0.248 376 500 13\n",
      "0.252 374 500 0\n",
      "0.272 364 500 1\n",
      "0.456 272 500 1\n",
      "0.848 76 500 2\n",
      "0.648 176 500 8\n",
      "0.692 154 500 2\n",
      "0.012 494 500 500\n",
      "0.01 495 500 0\n",
      "0.852 74 500 9\n"
     ]
    }
   ],
   "source": [
    "find_ans_num(\"./ground_true.jsonl\")\n",
    "find_ans_num(\"./all/all_0125.jsonl\")\n",
    "find_ans_num(\"./all/no_bias.jsonl\")\n",
    "find_ans_num(\"./all/few_shot.jsonl\")\n",
    "find_ans_num(\"./all/few_shot1.jsonl\")\n",
    "find_ans_num(\"./all/cot.jsonl\")\n",
    "find_ans_method1_num('./all/self_help.jsonl')\n",
    "find_ans_method2_num('./all/all_0125_method.jsonl')\n",
    "find_ans_method2_num('./all/without_while.jsonl')\n",
    "find_ans_method2_num('./all/without_think.jsonl')\n",
    "find_ans_method2_num('./all/multi_debate.jsonl')\n",
    "find_ans_method2_num('./all/reflexion.jsonl')\n",
    "find_ans_method1_num('./all/get_judge.jsonl')"
   ]
  },
  {
   "cell_type": "code",
   "execution_count": 22,
   "metadata": {
    "pycharm": {
     "name": "#%%\n"
    }
   },
   "outputs": [
    {
     "name": "stdout",
     "output_type": "stream",
     "text": [
      "||ground_true|偏差|no_bias|few_shot|few_shot1|cot|self_help|改进|without_while|without_think|\n",
      "|---|---|---|---|---|---|---|---|---|---|---|\n",
      "锚定|485\\15|346\\154|324\\176|167\\333|375\\125|365\\135|409\\91|420\\80|444\\56|391\\109|\n",
      "从众|485\\15|234\\266|325\\175|24\\476|284\\216|319\\181|184\\316|430\\70|433\\67|382\\118|\n",
      "损失厌恶|485\\15|399\\101|417\\83|409\\91|414\\86|429\\71|419\\81|427\\73|423\\77|402\\98|\n",
      "无偏差|485\\15|453\\47|0\\0|250\\250|406\\94|434\\66|408\\92|415\\85|409\\91|398\\102|\n",
      "多偏差|485\\15|8\\492|31\\469|187\\313|126\\374|136\\364|228\\272|424\\76|323\\177|346\\154|\n"
     ]
    }
   ],
   "source": [
    "array_3d = [[[0 for _ in range(100)] for _ in range(100)] for _ in range(100)]\n",
    "\n",
    "# Redirect input from a file\n",
    "with open(\"./output.txt\", \"r\") as input_file:\n",
    "    for i in range(1, 6):\n",
    "        for j in range(1, 11):\n",
    "            linshi=input_file.readline().strip().split(' ')\n",
    "            #print(linshi)\n",
    "            for k in range(1, 5):\n",
    "                array_3d[i][j][k] = int(linshi[k-1])\n",
    "\n",
    "print(\"||ground_true|偏差|no_bias|few_shot|few_shot1|cot|self_help|改进|without_while|without_think|\")\n",
    "print(\"|---|---|---|---|---|---|---|---|---|---|---|\")\n",
    "for i in range(1, 6):\n",
    "    if i == 1:\n",
    "        print(\"锚定|\", end=\"\")\n",
    "    if i == 2:\n",
    "        print(\"从众|\", end=\"\")\n",
    "    if i == 3:\n",
    "        print(\"损失厌恶|\", end=\"\")\n",
    "    if i == 4:\n",
    "        print(\"无偏差|\", end=\"\")\n",
    "    if i == 5:\n",
    "        print(\"多偏差|\", end=\"\")\n",
    "    for j in range(1, 11):\n",
    "        for k in range(1, 3):\n",
    "            print(array_3d[i][j][k], end=\"\")\n",
    "            if k == 1:\n",
    "                print('\\\\', end=\"\")\n",
    "        print('|', end=\"\")\n",
    "    print()"
   ]
  }
 ],
 "metadata": {
  "kernelspec": {
   "display_name": "base",
   "language": "python",
   "name": "python3"
  },
  "language_info": {
   "codemirror_mode": {
    "name": "ipython",
    "version": 3
   },
   "file_extension": ".py",
   "mimetype": "text/x-python",
   "name": "python",
   "nbconvert_exporter": "python",
   "pygments_lexer": "ipython3",
   "version": "3.8.8"
  }
 },
 "nbformat": 4,
 "nbformat_minor": 2
}