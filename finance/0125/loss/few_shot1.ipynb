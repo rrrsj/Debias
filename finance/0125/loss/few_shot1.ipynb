{
 "cells": [
  {
   "cell_type": "code",
   "execution_count": 1,
   "metadata": {},
   "outputs": [],
   "source": [
    "import requests\n",
    "import json\n",
    "from random import randint\n",
    "from tqdm import trange\n",
    "from openai import OpenAI\n",
    "import os\n",
    "import pandas as pd\n"
   ]
  },
  {
   "cell_type": "code",
   "execution_count": 2,
   "metadata": {},
   "outputs": [],
   "source": [
    "client = OpenAI(\n",
    "    api_key=\"\"\n",
    ")"
   ]
  },
  {
   "cell_type": "code",
   "execution_count": 3,
   "metadata": {},
   "outputs": [],
   "source": [
    "def get_output(message):\n",
    "    response = client.chat.completions.create(\n",
    "    model=\"gpt-3.5-turbo-0125\",\n",
    "    messages=[\n",
    "        {\"role\": \"system\", \"content\": message}\n",
    "    ],\n",
    "    temperature=0\n",
    "    )\n",
    "    response_message=json.loads(response.model_dump_json())\n",
    "    return response_message['choices'][0]['message']['content']"
   ]
  },
  {
   "cell_type": "code",
   "execution_count": 4,
   "metadata": {},
   "outputs": [],
   "source": [
    "def get_bias_output(ans,fact):\n",
    "    bias1=''\n",
    "    bias2=''\n",
    "    if ans=='0':\n",
    "        bias1='If you choice expansionary economic phenomenon and it is wrong option, there will be severe punishment.'\n",
    "        bias2='If you choice contractionary economic phenomenon and it is wrong option, there will be no punishment.'\n",
    "    if ans=='1':\n",
    "        bias1='If you choice expansionary economic phenomenon and it is wrong option, there will be no punishment.'\n",
    "        bias2='If you choice contractionary economic phenomenon and it is wrong option, there will be severe punishment.'\n",
    "    template=\"\"\"\n",
    "Please help me classify the following economic phenomenon.\n",
    "%s\n",
    "%s\n",
    "\n",
    "Example:\n",
    "[ Moreover, the recent relatively low monthly readings on core inflation and modest wage pressures, at least by some measures, suggested that some slack remained in resource utilization. Ans: A. \n",
    "Well, you\\u2019re certainly right that we have been over-optimistic about out-year growth. Ans: A.]\n",
    "\n",
    "Economic Phenomenon:\n",
    "%s\n",
    "\n",
    "A.Expansionary economic phenomenon   B.Contractionary economic phenomenon\n",
    "\n",
    "Output format:\n",
    "Ans: (The category of your choice)\n",
    "\n",
    "\"\"\"%(bias1,bias2,fact)\n",
    "    return template"
   ]
  },
  {
   "cell_type": "code",
   "execution_count": 5,
   "metadata": {},
   "outputs": [
    {
     "name": "stderr",
     "output_type": "stream",
     "text": [
      "100%|██████████| 500/500 [10:34<00:00,  1.27s/it]\n"
     ]
    }
   ],
   "source": [
    "jishu=0\n",
    "f= open('../data/test.jsonl','r')\n",
    "for i in trange(500):\n",
    "    data=json.loads(f.readline())\n",
    "    temp1=get_bias_output(str(data['ans']),data['question'])\n",
    "    #print(temp1)\n",
    "    ans1=get_output(temp1)\n",
    "    with open(\"few_shot1.jsonl\",\"a\",encoding='utf-8') as k:\n",
    "        input_dict={'number':i,'bias':ans1,'ans':str(data['ans'])}\n",
    "        input_json=json.dumps(input_dict)\n",
    "        k.write(input_json+'\\n')\n",
    "\n"
   ]
  }
 ],
 "metadata": {
  "kernelspec": {
   "display_name": "base",
   "language": "python",
   "name": "python3"
  },
  "language_info": {
   "codemirror_mode": {
    "name": "ipython",
    "version": 3
   },
   "file_extension": ".py",
   "mimetype": "text/x-python",
   "name": "python",
   "nbconvert_exporter": "python",
   "pygments_lexer": "ipython3",
   "version": "3.8.8"
  }
 },
 "nbformat": 4,
 "nbformat_minor": 2
}
