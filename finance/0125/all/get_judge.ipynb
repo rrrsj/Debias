{
 "cells": [
  {
   "cell_type": "code",
   "execution_count": 6,
   "metadata": {
    "pycharm": {
     "name": "#%%\n"
    }
   },
   "outputs": [],
   "source": [
    "import requests\n",
    "import json\n",
    "from random import randint\n",
    "from tqdm import trange\n",
    "from openai import OpenAI\n",
    "import os\n",
    "import pandas as pd\n",
    "import pyarrow.parquet as pq\n",
    "import re\n"
   ]
  },
  {
   "cell_type": "code",
   "execution_count": 7,
   "metadata": {
    "pycharm": {
     "name": "#%%\n"
    }
   },
   "outputs": [],
   "source": [
    "client = OpenAI(\n",
    "    api_key=\"\",\n",
    "    \n",
    ")"
   ]
  },
  {
   "cell_type": "code",
   "execution_count": 8,
   "metadata": {
    "pycharm": {
     "name": "#%%\n"
    }
   },
   "outputs": [],
   "source": [
    "def get_output(message):\n",
    "    response = client.chat.completions.create(\n",
    "    model=\"gpt-3.5-turbo-0125\",\n",
    "    messages=[\n",
    "        {\"role\": \"system\", \"content\": message}\n",
    "    ],\n",
    "    temperature=0\n",
    "    )\n",
    "    response_message=json.loads(response.model_dump_json())\n",
    "    return response_message['choices'][0]['message']['content']"
   ]
  },
  {
   "cell_type": "code",
   "execution_count": 9,
   "metadata": {
    "pycharm": {
     "name": "#%%\n"
    }
   },
   "outputs": [],
   "source": [
    "def get_bias_output(ans,fact):\n",
    "    bias=''\n",
    "    if ans=='1':\n",
    "        bias='Expansionary economic phenomenon'\n",
    "    else:\n",
    "        bias='Contractionary economic phenomenon'\n",
    "    bias1=''\n",
    "    bias2=''\n",
    "    if ans=='0':\n",
    "        bias1='If you choice expansionary economic phenomenon and it is wrong option, there will be severe punishment.'\n",
    "        bias2='If you choice contractionary economic phenomenon and it is wrong option, there will be no punishment.'\n",
    "    if ans=='1':\n",
    "        bias1='If you choice expansionary economic phenomenon and it is wrong option, there will be no punishment.'\n",
    "        bias2='If you choice contractionary economic phenomenon and it is wrong option, there will be severe punishment.'\n",
    "    bias3=''\n",
    "    if ans=='0':\n",
    "        bias3='Among all the questions, 30% of them have the answer expansionary economic phenomenon, and 70% have the answer contractionary economic phenomenon.'\n",
    "    else:\n",
    "        bias3='Among all the questions, 70% of them have the answer expansionary economic phenomenon, and 30% have the answer contractionary economic phenomenon.'\n",
    "    template=\"\"\"The following is a financial task prompt may contain cognitive biases. Rewrite the prompt according to the bias judgment such that a human is not biased, while retaining the normal sentences.\n",
    "\n",
    "Prompt:[Please help me classify the economic phenomenon.\n",
    "%s\n",
    "%s\n",
    "%s\n",
    "\n",
    "Economic Phenomenon: %s\n",
    "\n",
    "Most people think the category is %s.]\n",
    "\n",
    "\n",
    "Bias Judgment:[-bias sentence1: \"The prompt contains an anchoring bias by %s“, which may influence the respondent's choice. it should be delete.\n",
    "-bias sentence2: \"%s\" contain loss effect, which may influence the respondent's choice, it should be delete.\n",
    "-bias sentence3: \"%s\" contain loss effect, which may influence the respondent's choice, it should be delete.\n",
    "-bias sentence4: \"Most people think the category is %s.\" contain Bandwagon Effect, it should be delete.]\n",
    "\n",
    "\n",
    "Output Format:\n",
    "Unbiased Prompt:\"\"\"%(bias3,bias1,bias2,fact,bias,bias3,bias1,bias2,bias)\n",
    "    return template"
   ]
  },
  {
   "cell_type": "code",
   "execution_count": 10,
   "metadata": {
    "pycharm": {
     "name": "#%%\n"
    }
   },
   "outputs": [
    {
     "name": "stderr",
     "output_type": "stream",
     "text": [
      "100%|██████████| 500/500 [03:29<00:00,  2.39it/s] \n"
     ]
    }
   ],
   "source": [
    "jishu=0\n",
    "ff= open('../data/test.jsonl','r')\n",
    "for i in trange(500):\n",
    "\n",
    "    data=json.loads(ff.readline())\n",
    "    temp1=get_bias_output(str(data['ans']),data['question'])\n",
    "    ans1=get_output(temp1)\n",
    "    ans1=re.findall(r\"Unbiased Prompt:([\\S|\\s]*)\",ans1, re.S|re.I)[0]\n",
    "    temp2=ans1\n",
    "    ans2=get_output(temp2+'\\n.Expansionary economic phenomenon   B.Contractionary economic phenomenon\\nOutput format:\\nAns: (The category of your choice)')\n",
    "    with open(\"get_judge.jsonl\",\"a\",encoding='utf-8') as k:\n",
    "        input_dict={'number':i,'methods':ans2,'ans':str(data['ans']),'question':temp2}\n",
    "        input_json=json.dumps(input_dict)\n",
    "        k.write(input_json+'\\n')"
   ]
  }
 ],
 "metadata": {
  "kernelspec": {
   "display_name": "base",
   "language": "python",
   "name": "python3"
  },
  "language_info": {
   "codemirror_mode": {
    "name": "ipython",
    "version": 3
   },
   "file_extension": ".py",
   "mimetype": "text/x-python",
   "name": "python",
   "nbconvert_exporter": "python",
   "pygments_lexer": "ipython3",
   "version": "3.8.8"
  }
 },
 "nbformat": 4,
 "nbformat_minor": 2
}
