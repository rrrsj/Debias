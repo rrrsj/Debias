{
 "cells": [
  {
   "cell_type": "code",
   "execution_count": 1,
   "metadata": {},
   "outputs": [],
   "source": [
    "import requests\n",
    "import json\n",
    "from random import randint\n",
    "from tqdm import trange\n",
    "from openai import OpenAI\n",
    "import os\n",
    "import pandas as pd\n",
    "import pyarrow.parquet as pq\n",
    "import re\n"
   ]
  },
  {
   "cell_type": "code",
   "execution_count": 2,
   "metadata": {},
   "outputs": [],
   "source": [
    "client = OpenAI(\n",
    "    api_key=\"\"\n",
    ")"
   ]
  },
  {
   "cell_type": "code",
   "execution_count": 3,
   "metadata": {},
   "outputs": [],
   "source": [
    "def get_output(message):\n",
    "    response = client.chat.completions.create(\n",
    "    model=\"gpt-3.5-turbo-0125\",\n",
    "    messages=[\n",
    "        {\"role\": \"system\", \"content\": message}\n",
    "    ],\n",
    "    temperature=0\n",
    "    )\n",
    "    response_message=json.loads(response.model_dump_json())\n",
    "    return response_message['choices'][0]['message']['content']"
   ]
  },
  {
   "cell_type": "code",
   "execution_count": 4,
   "metadata": {},
   "outputs": [],
   "source": [
    "def get_bias_output(ans,fact):\n",
    "    bias=''\n",
    "    if ans=='0':\n",
    "        bias='Among all the questions, 30% of them have the answer expansionary economic phenomenon, and 70% have the answer contractionary economic phenomenon.'\n",
    "    else:\n",
    "        bias='Among all the questions, 70% of them have the answer expansionary economic phenomenon, and 30% have the answer contractionary economic phenomenon.'\n",
    "    template=\"\"\"\n",
    "Here is a prompt that may be biased by cognitive bias. Rewrite it such that a reviewer is not biased.\n",
    "\n",
    "Prompt:\n",
    "Please help me classify the following economic phenomenon.\n",
    "\n",
    "%s\n",
    "\n",
    "Economic Phenomenon:\n",
    "%s\n",
    "\n",
    "Rewrite Prompt:\n",
    "\"\"\"%(bias,fact)\n",
    "    return template"
   ]
  },
  {
   "cell_type": "code",
   "execution_count": 5,
   "metadata": {},
   "outputs": [
    {
     "name": "stderr",
     "output_type": "stream",
     "text": [
      "  0%|          | 0/500 [00:00<?, ?it/s]"
     ]
    },
    {
     "name": "stderr",
     "output_type": "stream",
     "text": [
      "100%|██████████| 500/500 [22:07<00:00,  2.65s/it]\n"
     ]
    }
   ],
   "source": [
    "jishu=0\n",
    "ff= open('../data/test.jsonl','r')\n",
    "for i in trange(1,501):\n",
    "    data=json.loads(ff.readline())\n",
    "    temp1=get_bias_output(str(data['ans']),data['question'])\n",
    "    ans1=get_output(temp1)\n",
    "    temp2=ans1\n",
    "    ans2=get_output(temp2+'\\nA.Expansionary economic phenomenon   B.Contractionary economic phenomenon\\n\\nOutput format:\\nAns: (The category of your choice)')\n",
    "    with open(\"self_help.jsonl\",\"a\",encoding='utf-8') as k:\n",
    "        input_dict={'number':i,'methods':ans2,'ans':str(data['ans']),'question':temp2}\n",
    "        input_json=json.dumps(input_dict)\n",
    "        k.write(input_json+'\\n')"
   ]
  }
 ],
 "metadata": {
  "kernelspec": {
   "display_name": "base",
   "language": "python",
   "name": "python3"
  },
  "language_info": {
   "codemirror_mode": {
    "name": "ipython",
    "version": 3
   },
   "file_extension": ".py",
   "mimetype": "text/x-python",
   "name": "python",
   "nbconvert_exporter": "python",
   "pygments_lexer": "ipython3",
   "version": "3.8.8"
  }
 },
 "nbformat": 4,
 "nbformat_minor": 2
}
