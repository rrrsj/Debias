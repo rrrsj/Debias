{
 "cells": [
  {
   "cell_type": "code",
   "execution_count": 1,
   "metadata": {
    "pycharm": {
     "name": "#%%\n"
    }
   },
   "outputs": [],
   "source": [
    "import json\n",
    "import re\n",
    "\n",
    "import sys"
   ]
  },
  {
   "cell_type": "code",
   "execution_count": 2,
   "metadata": {
    "pycharm": {
     "name": "#%%\n"
    }
   },
   "outputs": [],
   "source": [
    "def find_ans_method_num(path):\n",
    "    f=open(path,'r')\n",
    "    right=[0,0,0]\n",
    "    wrong=[0,0,0]\n",
    "    a=0\n",
    "\n",
    "    for i in range(500):\n",
    "        now=json.loads(f.readline())\n",
    "\n",
    "\n",
    "        while len(now['output'])<3:\n",
    "            try:\n",
    "                now['output'].append(now['output'][-1])\n",
    "            except:\n",
    "                now['output'].append(now['ans'])\n",
    "\n",
    "        for j in range(3):\n",
    "            try:\n",
    "                ans=re.findall(r\"Ans([\\S|\\s]*)\",now['output'][j], re.S)[0]\n",
    "            except:\n",
    "                a=a+1\n",
    "                ans=now['output'][j]\n",
    "            if (\"contractionary\" in ans or \"Contractionary\" in ans) and now['ans']=='1':\n",
    "                right[j]=right[j]+1\n",
    "            elif (\"expansionary\" in ans or \"Expansionary\" in ans) and now['ans']=='0':\n",
    "                right[j]=right[j]+1\n",
    "            else:\n",
    "                wrong[j]=wrong[j]+1\n",
    "\n",
    "    print(right[0]/500)\n",
    "    print(right[1]/500)\n",
    "    print(right[2]/500)"
   ]
  },
  {
   "cell_type": "code",
   "execution_count": 3,
   "outputs": [
    {
     "name": "stdout",
     "output_type": "stream",
     "text": [
      "0.49\n",
      "0.732\n",
      "0.808\n"
     ]
    }
   ],
   "source": [
    "find_ans_method_num('./all/diedai.jsonl')"
   ],
   "metadata": {
    "collapsed": false,
    "pycharm": {
     "name": "#%%\n"
    }
   }
  },
  {
   "cell_type": "code",
   "execution_count": 4,
   "outputs": [
    {
     "name": "stdout",
     "output_type": "stream",
     "text": [
      "0.774\n",
      "0.772\n",
      "0.762\n"
     ]
    }
   ],
   "source": [
    "find_ans_method_num('./loss/diedai.jsonl')"
   ],
   "metadata": {
    "collapsed": false,
    "pycharm": {
     "name": "#%%\n"
    }
   }
  },
  {
   "cell_type": "code",
   "execution_count": 5,
   "outputs": [
    {
     "name": "stdout",
     "output_type": "stream",
     "text": [
      "0.814\n",
      "0.762\n",
      "0.748\n"
     ]
    }
   ],
   "source": [
    "find_ans_method_num('./anchor/diedai.jsonl')"
   ],
   "metadata": {
    "collapsed": false,
    "pycharm": {
     "name": "#%%\n"
    }
   }
  },
  {
   "cell_type": "code",
   "execution_count": 6,
   "outputs": [
    {
     "name": "stdout",
     "output_type": "stream",
     "text": [
      "0.764\n",
      "0.786\n",
      "0.768\n"
     ]
    }
   ],
   "source": [
    "find_ans_method_num('./many/diedai.jsonl')"
   ],
   "metadata": {
    "collapsed": false,
    "pycharm": {
     "name": "#%%\n"
    }
   }
  }
 ],
 "metadata": {
  "kernelspec": {
   "display_name": "base",
   "language": "python",
   "name": "python3"
  },
  "language_info": {
   "codemirror_mode": {
    "name": "ipython",
    "version": 3
   },
   "file_extension": ".py",
   "mimetype": "text/x-python",
   "name": "python",
   "nbconvert_exporter": "python",
   "pygments_lexer": "ipython3",
   "version": "3.8.8"
  }
 },
 "nbformat": 4,
 "nbformat_minor": 2
}