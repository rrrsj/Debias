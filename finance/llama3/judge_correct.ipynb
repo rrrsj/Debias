{
 "cells": [
  {
   "cell_type": "code",
   "execution_count": 22,
   "metadata": {
    "pycharm": {
     "name": "#%%\n"
    }
   },
   "outputs": [],
   "source": [
    "import json\n",
    "import re\n",
    "import sys\n",
    "\n",
    "f=open(\"output.txt\", \"w\")\n",
    "# 保存原来的标准输出\n",
    "original_stdout = sys.stdout\n",
    "# 重定向标准输出到文件\n",
    "#sys.stdout = f"
   ]
  },
  {
   "cell_type": "code",
   "execution_count": 23,
   "metadata": {
    "pycharm": {
     "name": "#%%\n"
    }
   },
   "outputs": [],
   "source": [
    "def find_ans_num(path):\n",
    "    f=open(path,'r')\n",
    "    right=0\n",
    "    wrong=0\n",
    "    a=0\n",
    "    for i in range(500):\n",
    "        now=json.loads(f.readline())\n",
    "        try:\n",
    "            ans=re.findall(r\"Ans([\\S|\\s]*)\",now['bias'], re.S)[0]\n",
    "        except:\n",
    "            a=a+1\n",
    "            ans=now['bias']\n",
    "        if (\"contractionary\" in ans or \"Contractionary\" in ans or 'B' in ans) and now['ans']=='1':\n",
    "            right=right+1\n",
    "        elif (\"expansionary\" in ans or \"Expansionary\" in ans or 'A' in ans) and now['ans']=='0':\n",
    "            right=right+1\n",
    "        else:\n",
    "            wrong=wrong+1\n",
    "    print(right/500,wrong,right+wrong,a)"
   ]
  },
  {
   "cell_type": "code",
   "execution_count": 24,
   "metadata": {
    "pycharm": {
     "name": "#%%\n"
    }
   },
   "outputs": [],
   "source": [
    "def find_ans_method1_num(path):\n",
    "    f=open(path,'r')\n",
    "    right=0\n",
    "    wrong=0\n",
    "    a=0\n",
    "    for i in range(500):\n",
    "        now=json.loads(f.readline())\n",
    "        try:\n",
    "            ans=re.findall(r\"Ans([\\S|\\s]*)\",now['methods'], re.S)[0]\n",
    "        except:\n",
    "            a=a+1\n",
    "            ans=now['methods']\n",
    "        if (\"contractionary\" in ans or \"Contractionary\" in ans or 'B' in ans) and now['ans']=='1' and 'Neither' not in ans and 'None' not in ans:\n",
    "            right=right+1\n",
    "        elif (\"expansionary\" in ans or \"Expansionary\" in ans or 'A' in ans) and now['ans']=='0' and 'Neither' not in ans and 'None' not in ans:\n",
    "            right=right+1\n",
    "        else:\n",
    "            wrong=wrong+1\n",
    "    print(right/500,wrong,right+wrong,a)"
   ]
  },
  {
   "cell_type": "code",
   "execution_count": 25,
   "metadata": {
    "pycharm": {
     "name": "#%%\n"
    }
   },
   "outputs": [],
   "source": [
    "def find_ans_method2_num(path):\n",
    "    f=open(path,'r')\n",
    "    right=0\n",
    "    wrong=0\n",
    "    a=0\n",
    "    for i in range(500):\n",
    "        now=json.loads(f.readline())\n",
    "        try:\n",
    "            ans=re.findall(r\"Ans([\\S|\\s]*)\",now['output'], re.S)[0]\n",
    "        except:\n",
    "            a=a+1\n",
    "            ans=now['output']\n",
    "        if (\"contractionary\" in ans or \"Contractionary\" in ans or 'B' in ans) and now['ans']=='1' and 'Neither' not in ans and 'None' not in ans:\n",
    "            right=right+1\n",
    "        elif (\"expansionary\" in ans or \"Expansionary\" in ans or 'A' in ans) and now['ans']=='0' and 'Neither' not in ans and 'None' not in ans:\n",
    "            right=right+1\n",
    "        else:\n",
    "            wrong=wrong+1\n",
    "    print(right/500,wrong,right+wrong,a)"
   ]
  },
  {
   "cell_type": "code",
   "execution_count": 26,
   "metadata": {
    "pycharm": {
     "name": "#%%\n"
    }
   },
   "outputs": [
    {
     "name": "stdout",
     "output_type": "stream",
     "text": [
      "1.0 0 500 0\n",
      "0.842 79 500 0\n",
      "0.862 69 500 0\n",
      "0.666 167 500 0\n",
      "0.726 137 500 0\n",
      "0.778 111 500 0\n",
      "0.796 102 500 1\n",
      "0.864 68 500 0\n",
      "0.864 68 500 0\n",
      "0.706 147 500 1\n",
      "0.876 62 500 500\n",
      "0.772 114 500 0\n",
      "0.85 75 500 0\n"
     ]
    }
   ],
   "source": [
    "find_ans_num(\"./ground_true.jsonl\")\n",
    "find_ans_num(\"./anchor/anchor_llama3.jsonl\")\n",
    "find_ans_num(\"./anchor/no_bias.jsonl\")\n",
    "find_ans_num(\"./anchor/few_shot.jsonl\")\n",
    "find_ans_num(\"./anchor/few_shot1.jsonl\")\n",
    "find_ans_num(\"./anchor/cot.jsonl\")\n",
    "find_ans_method1_num('./anchor/self_help.jsonl')\n",
    "find_ans_method2_num('./anchor/anchor_llama3_method.jsonl')\n",
    "find_ans_method2_num('./anchor/without_while.jsonl')\n",
    "find_ans_method2_num('./anchor/without_think.jsonl')\n",
    "find_ans_method2_num('./anchor/multi_debate.jsonl')\n",
    "find_ans_method2_num('./anchor/reflexion.jsonl')\n",
    "find_ans_method1_num('./anchor/get_judge.jsonl')"
   ]
  },
  {
   "cell_type": "code",
   "execution_count": 27,
   "outputs": [
    {
     "name": "stdout",
     "output_type": "stream",
     "text": [
      "1.0 0 500 0\n",
      "0.856 72 500 0\n",
      "0.862 69 500 0\n",
      "0.736 132 500 0\n",
      "0.634 183 500 0\n",
      "0.726 137 500 0\n",
      "0.824 88 500 2\n",
      "0.896 52 500 0\n",
      "0.906 47 500 0\n",
      "0.906 47 500 0\n",
      "0.838 81 500 500\n",
      "0.69 155 500 0\n",
      "0.846 77 500 0\n"
     ]
    }
   ],
   "source": [
    "find_ans_num(\"./ground_true.jsonl\")\n",
    "find_ans_num(\"./many/many_llama3.jsonl\")\n",
    "find_ans_num(\"./many/no_bias.jsonl\")\n",
    "find_ans_num(\"./many/few_shot.jsonl\")\n",
    "find_ans_num(\"./many/few_shot1.jsonl\")\n",
    "find_ans_num(\"./many/cot.jsonl\")\n",
    "find_ans_method1_num('./many/self_help.jsonl')\n",
    "find_ans_method2_num('./many/many_llama3_method.jsonl')\n",
    "find_ans_method2_num('./many/without_while.jsonl')\n",
    "find_ans_method2_num('./many/without_think.jsonl')\n",
    "find_ans_method2_num('./many/multi_debate.jsonl')\n",
    "find_ans_method2_num('./many/reflexion.jsonl')\n",
    "find_ans_method1_num('./many/get_judge.jsonl')"
   ],
   "metadata": {
    "collapsed": false,
    "pycharm": {
     "name": "#%%\n"
    }
   }
  },
  {
   "cell_type": "code",
   "execution_count": 28,
   "metadata": {
    "pycharm": {
     "name": "#%%\n"
    }
   },
   "outputs": [
    {
     "name": "stdout",
     "output_type": "stream",
     "text": [
      "1.0 0 500 0\n",
      "0.904 48 500 0\n",
      "0.9 50 500 0\n",
      "0.79 105 500 0\n",
      "0.886 57 500 0\n",
      "0.816 92 500 0\n",
      "0.852 74 500 0\n",
      "0.91 45 500 0\n",
      "0.916 42 500 0\n",
      "0.904 48 500 1\n",
      "0.76 120 500 500\n",
      "0.842 79 500 1\n",
      "0.858 71 500 0\n"
     ]
    }
   ],
   "source": [
    "find_ans_num(\"./ground_true.jsonl\")\n",
    "find_ans_num(\"./loss/loss_llama3.jsonl\")\n",
    "find_ans_num(\"./loss/no_bias.jsonl\")\n",
    "find_ans_num(\"./loss/few_shot.jsonl\")\n",
    "find_ans_num(\"./loss/few_shot1.jsonl\")\n",
    "find_ans_num(\"./loss/cot.jsonl\")\n",
    "find_ans_method1_num('./loss/self_help.jsonl')\n",
    "find_ans_method2_num('./loss/loss_llama3_method.jsonl')\n",
    "find_ans_method2_num('./loss/without_while.jsonl')\n",
    "find_ans_method2_num('./loss/without_think.jsonl')\n",
    "find_ans_method2_num('./loss/multi_debate.jsonl')\n",
    "find_ans_method2_num('./loss/reflexion.jsonl')\n",
    "find_ans_method1_num('./loss/get_judge.jsonl')"
   ]
  },
  {
   "cell_type": "code",
   "execution_count": 29,
   "metadata": {
    "pycharm": {
     "name": "#%%\n"
    }
   },
   "outputs": [
    {
     "name": "stdout",
     "output_type": "stream",
     "text": [
      "1.0 0 500 0\n",
      "0 0 0 0\n",
      "0.974 13 500 0\n",
      "0.876 62 500 0\n",
      "0.95 25 500 0\n",
      "0.85 75 500 0\n",
      "0.768 116 500 8\n",
      "0.9 50 500 0\n",
      "0.78 110 500 0\n",
      "0.904 48 500 2\n",
      "0.938 31 500 500\n",
      "0.876 62 500 0\n"
     ]
    }
   ],
   "source": [
    "find_ans_num(\"./ground_true.jsonl\")\n",
    "print(0,0,0,0)\n",
    "find_ans_num(\"./null/no_bias.jsonl\")\n",
    "find_ans_num(\"./null/few_shot.jsonl\")\n",
    "find_ans_num(\"./null/few_shot1.jsonl\")\n",
    "find_ans_num(\"./null/cot.jsonl\")\n",
    "find_ans_method1_num('./null/self_help.jsonl')\n",
    "find_ans_method2_num('./null/null_llama3_method.jsonl')\n",
    "find_ans_method2_num('./null/without_while.jsonl')\n",
    "find_ans_method2_num('./null/without_think.jsonl')\n",
    "find_ans_method2_num('./null/multi_debate.jsonl')\n",
    "find_ans_method2_num('./null/reflexion.jsonl')"
   ]
  },
  {
   "cell_type": "code",
   "execution_count": 30,
   "metadata": {
    "pycharm": {
     "name": "#%%\n"
    }
   },
   "outputs": [
    {
     "name": "stdout",
     "output_type": "stream",
     "text": [
      "1.0 0 500 0\n",
      "0.738 131 500 0\n",
      "0.886 57 500 0\n",
      "0.648 176 500 0\n",
      "0.292 354 500 0\n",
      "0.792 104 500 0\n",
      "0.774 113 500 0\n",
      "0.898 51 500 0\n",
      "0.906 47 500 0\n",
      "0.888 56 500 0\n",
      "0.862 69 500 500\n",
      "0.67 165 500 0\n",
      "0.884 58 500 0\n"
     ]
    }
   ],
   "source": [
    "find_ans_num(\"./ground_true.jsonl\")\n",
    "find_ans_num(\"./all/all_llama3.jsonl\")\n",
    "find_ans_num(\"./all/no_bias.jsonl\")\n",
    "find_ans_num(\"./all/few_shot.jsonl\")\n",
    "find_ans_num(\"./all/few_shot1.jsonl\")\n",
    "find_ans_num(\"./all/cot.jsonl\")\n",
    "find_ans_method1_num('./all/self_help.jsonl')\n",
    "find_ans_method2_num('./all/all_llama3_method.jsonl')\n",
    "find_ans_method2_num('./all/without_while.jsonl')\n",
    "find_ans_method2_num('./all/without_think.jsonl')\n",
    "find_ans_method2_num('./all/multi_debate.jsonl')\n",
    "find_ans_method2_num('./all/reflexion.jsonl')\n",
    "find_ans_method1_num('./all/get_judge.jsonl')"
   ]
  },
  {
   "cell_type": "code",
   "execution_count": 31,
   "metadata": {
    "pycharm": {
     "name": "#%%\n"
    }
   },
   "outputs": [
    {
     "ename": "ValueError",
     "evalue": "invalid literal for int() with base 10: ''",
     "output_type": "error",
     "traceback": [
      "\u001B[1;31m---------------------------------------------------------------------------\u001B[0m",
      "\u001B[1;31mValueError\u001B[0m                                Traceback (most recent call last)",
      "\u001B[1;32m~\\AppData\\Local\\Temp\\ipykernel_16480\\1611470255.py\u001B[0m in \u001B[0;36m<module>\u001B[1;34m\u001B[0m\n\u001B[0;32m      8\u001B[0m             \u001B[1;31m#print(linshi)\u001B[0m\u001B[1;33m\u001B[0m\u001B[1;33m\u001B[0m\u001B[0m\n\u001B[0;32m      9\u001B[0m             \u001B[1;32mfor\u001B[0m \u001B[0mk\u001B[0m \u001B[1;32min\u001B[0m \u001B[0mrange\u001B[0m\u001B[1;33m(\u001B[0m\u001B[1;36m1\u001B[0m\u001B[1;33m,\u001B[0m \u001B[1;36m5\u001B[0m\u001B[1;33m)\u001B[0m\u001B[1;33m:\u001B[0m\u001B[1;33m\u001B[0m\u001B[1;33m\u001B[0m\u001B[0m\n\u001B[1;32m---> 10\u001B[1;33m                 \u001B[0marray_3d\u001B[0m\u001B[1;33m[\u001B[0m\u001B[0mi\u001B[0m\u001B[1;33m]\u001B[0m\u001B[1;33m[\u001B[0m\u001B[0mj\u001B[0m\u001B[1;33m]\u001B[0m\u001B[1;33m[\u001B[0m\u001B[0mk\u001B[0m\u001B[1;33m]\u001B[0m \u001B[1;33m=\u001B[0m \u001B[0mint\u001B[0m\u001B[1;33m(\u001B[0m\u001B[0mlinshi\u001B[0m\u001B[1;33m[\u001B[0m\u001B[0mk\u001B[0m\u001B[1;33m-\u001B[0m\u001B[1;36m1\u001B[0m\u001B[1;33m]\u001B[0m\u001B[1;33m)\u001B[0m\u001B[1;33m\u001B[0m\u001B[1;33m\u001B[0m\u001B[0m\n\u001B[0m\u001B[0;32m     11\u001B[0m \u001B[1;33m\u001B[0m\u001B[0m\n\u001B[0;32m     12\u001B[0m \u001B[0mprint\u001B[0m\u001B[1;33m(\u001B[0m\u001B[1;34m\"||ground_true|偏差|no_bias|few_shot|few_shot1|cot|self_help|改进|without_while|without_think|\"\u001B[0m\u001B[1;33m)\u001B[0m\u001B[1;33m\u001B[0m\u001B[1;33m\u001B[0m\u001B[0m\n",
      "\u001B[1;31mValueError\u001B[0m: invalid literal for int() with base 10: ''"
     ]
    }
   ],
   "source": [
    "array_3d = [[[0 for _ in range(100)] for _ in range(100)] for _ in range(100)]\n",
    "\n",
    "# Redirect input from a file\n",
    "with open(\"./output.txt\", \"r\") as input_file:\n",
    "    for i in range(1, 6):\n",
    "        for j in range(1, 11):\n",
    "            linshi=input_file.readline().strip().split(' ')\n",
    "            #print(linshi)\n",
    "            for k in range(1, 5):\n",
    "                array_3d[i][j][k] = int(linshi[k-1])\n",
    "\n",
    "print(\"||ground_true|偏差|no_bias|few_shot|few_shot1|cot|self_help|改进|without_while|without_think|\")\n",
    "print(\"|---|---|---|---|---|---|---|---|---|---|---|\")\n",
    "for i in range(1, 6):\n",
    "    if i == 1:\n",
    "        print(\"锚定|\", end=\"\")\n",
    "    if i == 2:\n",
    "        print(\"从众|\", end=\"\")\n",
    "    if i == 3:\n",
    "        print(\"损失厌恶|\", end=\"\")\n",
    "    if i == 4:\n",
    "        print(\"无偏差|\", end=\"\")\n",
    "    if i == 5:\n",
    "        print(\"多偏差|\", end=\"\")\n",
    "    for j in range(1, 11):\n",
    "        for k in range(1, 3):\n",
    "            print(array_3d[i][j][k], end=\"\")\n",
    "            if k == 1:\n",
    "                print('\\\\', end=\"\")\n",
    "        print('|', end=\"\")\n",
    "    print()"
   ]
  }
 ],
 "metadata": {
  "kernelspec": {
   "display_name": "base",
   "language": "python",
   "name": "python3"
  },
  "language_info": {
   "codemirror_mode": {
    "name": "ipython",
    "version": 3
   },
   "file_extension": ".py",
   "mimetype": "text/x-python",
   "name": "python",
   "nbconvert_exporter": "python",
   "pygments_lexer": "ipython3",
   "version": "3.8.8"
  }
 },
 "nbformat": 4,
 "nbformat_minor": 2
}