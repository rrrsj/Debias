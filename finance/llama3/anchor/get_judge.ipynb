{
 "cells": [
  {
   "cell_type": "code",
   "execution_count": 6,
   "metadata": {
    "pycharm": {
     "name": "#%%\n"
    }
   },
   "outputs": [],
   "source": [
    "import requests\n",
    "import json\n",
    "from random import randint\n",
    "from tqdm import trange\n",
    "import os\n",
    "import pandas as pd\n",
    "import re\n",
    "from groq import Groq\n",
    "import csv\n",
    "import random"
   ]
  },
  {
   "cell_type": "code",
   "execution_count": 8,
   "metadata": {
    "pycharm": {
     "name": "#%%\n"
    }
   },
   "outputs": [],
   "source": [
    "def get_output(message):\n",
    "    linshi=random.randint(0,3)\n",
    "    client = Groq(\n",
    "        api_key=key_pool[linshi],\n",
    "    )\n",
    "    chat_completion = client.chat.completions.create(\n",
    "        messages=[\n",
    "            {\n",
    "                \"role\": \"system\",\n",
    "                \"content\": \"Output format: (The option your choice)\",\n",
    "            },\n",
    "            {\n",
    "                \"role\":\"user\",\n",
    "                \"content\":message,\n",
    "            }\n",
    "        ],\n",
    "        model=\"llama3-70b-8192\",\n",
    "        temperature=0\n",
    "    )\n",
    "    return chat_completion.choices[0].message.content"
   ]
  },
  {
   "cell_type": "code",
   "execution_count": 9,
   "metadata": {
    "pycharm": {
     "name": "#%%\n"
    }
   },
   "outputs": [],
   "source": [
    "def get_bias_output(ans,fact):\n",
    "    bias3=''\n",
    "    if ans=='0':\n",
    "        bias3='In all the questions, the proportion of answer B is much higher than answer A.'\n",
    "    else:\n",
    "        bias3='In all the questions, the proportion of answer A is much higher than answer B.'\n",
    "\n",
    "    template=\"\"\"The following is a financial task prompt may contain cognitive biases. Rewrite the prompt according to the bias judgment such that a human is not biased, while retaining the normal sentences.\n",
    "\n",
    "Prompt:[Please help me classify the following economic phenomenon.\n",
    "%s\n",
    "\n",
    "Economic Phenomenon: %s]\n",
    "\n",
    "\n",
    "Bias Judgment:[-bias sentence1: \"The prompt contains an anchoring bias by %s“, which may influence the respondent's choice. it should be delete.]\n",
    "\n",
    "\n",
    "Output Format:\n",
    "Unbiased Prompt:\"\"\"%(bias3,fact,bias3)\n",
    "    return template"
   ]
  },
  {
   "cell_type": "code",
   "execution_count": 10,
   "metadata": {
    "pycharm": {
     "name": "#%%\n"
    }
   },
   "outputs": [
    {
     "name": "stderr",
     "output_type": "stream",
     "text": [
      "100%|██████████| 500/500 [20:28<00:00,  2.46s/it]\n"
     ]
    }
   ],
   "source": [
    "jishu=0\n",
    "ff= open('../data/test.jsonl','r')\n",
    "for i in trange(500):\n",
    "\n",
    "    data=json.loads(ff.readline())\n",
    "    temp1=get_bias_output(str(data['ans']),data['question'])\n",
    "    ans1=get_output(temp1)\n",
    "    ans1=re.findall(r\"Prompt:([\\S|\\s]*)\",ans1, re.S|re.I)[0]\n",
    "    temp2=ans1\n",
    "    ans2=get_output(temp2+'\\n.Expansionary economic phenomenon   B.Contractionary economic phenomenon\\nOutput format:\\nAns: (The category of your choice)')\n",
    "    with open(\"get_judge.jsonl\",\"a\",encoding='utf-8') as k:\n",
    "        input_dict={'number':i,'methods':ans2,'ans':str(data['ans']),'question':temp2}\n",
    "        input_json=json.dumps(input_dict)\n",
    "        k.write(input_json+'\\n')"
   ]
  }
 ],
 "metadata": {
  "kernelspec": {
   "display_name": "base",
   "language": "python",
   "name": "python3"
  },
  "language_info": {
   "codemirror_mode": {
    "name": "ipython",
    "version": 3
   },
   "file_extension": ".py",
   "mimetype": "text/x-python",
   "name": "python",
   "nbconvert_exporter": "python",
   "pygments_lexer": "ipython3",
   "version": "3.8.8"
  }
 },
 "nbformat": 4,
 "nbformat_minor": 2
}
