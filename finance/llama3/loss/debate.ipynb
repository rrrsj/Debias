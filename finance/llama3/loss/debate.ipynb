{
 "cells": [
  {
   "cell_type": "code",
   "execution_count": 1,
   "metadata": {
    "pycharm": {
     "name": "#%%\n"
    }
   },
   "outputs": [],
   "source": [
    "import requests\n",
    "import json\n",
    "from random import randint\n",
    "from tqdm import trange\n",
    "import os\n",
    "import pandas as pd\n",
    "import re\n",
    "from groq import Groq\n",
    "import csv\n",
    "import random"
   ]
  },
  {
   "cell_type": "code",
   "execution_count": 3,
   "metadata": {
    "pycharm": {
     "name": "#%%\n"
    }
   },
   "outputs": [],
   "source": [
    "def get_output(message):\n",
    "    linshi=random.randint(0,3)\n",
    "    client = Groq(\n",
    "        api_key=key_pool[linshi],\n",
    "    )\n",
    "    chat_completion = client.chat.completions.create(\n",
    "        messages=[\n",
    "            {\n",
    "                \"role\": \"system\",\n",
    "                \"content\": \"Output format: (The option your choice)\",\n",
    "            },\n",
    "            {\n",
    "                \"role\":\"user\",\n",
    "                \"content\":message,\n",
    "            }\n",
    "        ],\n",
    "        model=\"llama3-70b-8192\",\n",
    "        temperature=0\n",
    "    )\n",
    "    return chat_completion.choices[0].message.content"
   ]
  },
  {
   "cell_type": "code",
   "execution_count": 4,
   "metadata": {
    "pycharm": {
     "name": "#%%\n"
    }
   },
   "outputs": [],
   "source": [
    "def get_prompt(ans,fact):\n",
    "    bias1=''\n",
    "    bias2=''\n",
    "    if ans=='0':\n",
    "        bias1='If you choice answer A and it is not correct answer, there will be severe punishment.'\n",
    "        bias2='If you choice answer B and it is not correct answer, there will be no punishment.'\n",
    "    if ans=='1':\n",
    "        bias1='If you choice answer A and it is not correct answer, there will be no punishment.'\n",
    "        bias2='If you choice answer B and it is not correct answer, there will be severe punishment.'\n",
    "    template=\"\"\"Please help me classify the following economic phenomenon.\n",
    "%s\n",
    "%s\n",
    "\n",
    "Economic Phenomenon: %s\n",
    "\n",
    "A. expansionary economic phenomenon   B. contractionary economic phenomenon\"\"\"%(bias1,bias2,fact)\n",
    "    return template"
   ]
  },
  {
   "cell_type": "code",
   "execution_count": 5,
   "metadata": {
    "collapsed": false,
    "pycharm": {
     "name": "#%%\n"
    }
   },
   "outputs": [],
   "source": [
    "def debate_prompt(multi_ans,question):\n",
    "    template='''These are the solutions to the problem from other agents: [%s]\n",
    "Based off the opinion of other agents, can you give an updated response.\n",
    "\n",
    "Task:[%s]\n",
    "\n",
    "'''%(multi_ans,question)\n",
    "    return template"
   ]
  },
  {
   "cell_type": "code",
   "execution_count": 6,
   "metadata": {
    "collapsed": false,
    "pycharm": {
     "name": "#%%\n"
    }
   },
   "outputs": [],
   "source": [
    "def get_class(inputs):\n",
    "    if 'Expansionary' in inputs or 'expansionary' in inputs:\n",
    "        return 0\n",
    "    else:\n",
    "        return 1"
   ]
  },
  {
   "cell_type": "code",
   "execution_count": 7,
   "metadata": {
    "pycharm": {
     "name": "#%%\n"
    }
   },
   "outputs": [
    {
     "name": "stderr",
     "output_type": "stream",
     "text": [
      "100%|██████████| 500/500 [48:21<00:00,  5.80s/it] \n"
     ]
    }
   ],
   "source": [
    "data= open('../data/test.jsonl','r')\n",
    "num_agent=3\n",
    "for i in trange(500):\n",
    "    Experience=''\n",
    "    question=json.loads(data.readline())\n",
    "    prompt=get_prompt(str(question['ans']),question['question'])\n",
    "\n",
    "    number=0\n",
    "    for j in range(num_agent):\n",
    "        temp=get_output(prompt)\n",
    "        number=number+get_class(temp)\n",
    "        Experience=Experience+temp+'\\n'\n",
    "    #print(Experience)\n",
    "    while not number==0 and not number==3:\n",
    "        number=0\n",
    "        linshi=''\n",
    "        temp_prompt=debate_prompt(Experience,prompt)\n",
    "        for j in range(num_agent):\n",
    "            temp=get_output(temp_prompt)\n",
    "            number=number+get_class(temp)\n",
    "            linshi=linshi+temp+'\\n'\n",
    "        Experience=linshi\n",
    "\n",
    "    if number==0:\n",
    "        ans=\"Expansionary economic phenomenon\"\n",
    "    else:\n",
    "        ans='Contractionary economic phenomenon'\n",
    "\n",
    "\n",
    "    with open(\"multi_debate.jsonl\",\"a\",encoding='utf-8') as k:\n",
    "        input_dict={'number':i,'ans':str(question['ans']),'output':ans,'prompt':prompt}\n",
    "        input_json=json.dumps(input_dict)\n",
    "        k.write(input_json+'\\n')"
   ]
  }
 ],
 "metadata": {
  "kernelspec": {
   "display_name": "base",
   "language": "python",
   "name": "python3"
  },
  "language_info": {
   "codemirror_mode": {
    "name": "ipython",
    "version": 3
   },
   "file_extension": ".py",
   "mimetype": "text/x-python",
   "name": "python",
   "nbconvert_exporter": "python",
   "pygments_lexer": "ipython3",
   "version": "3.8.8"
  }
 },
 "nbformat": 4,
 "nbformat_minor": 2
}
