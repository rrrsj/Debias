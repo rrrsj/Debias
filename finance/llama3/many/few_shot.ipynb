{
 "cells": [
  {
   "cell_type": "code",
   "execution_count": 1,
   "metadata": {
    "pycharm": {
     "name": "#%%\n"
    }
   },
   "outputs": [],
   "source": [
    "import requests\n",
    "import json\n",
    "from random import randint\n",
    "from tqdm import trange\n",
    "import os\n",
    "import pandas as pd\n",
    "import re\n",
    "from groq import Groq\n",
    "import csv\n",
    "import random"
   ]
  },
  {
   "cell_type": "code",
   "execution_count": 3,
   "metadata": {
    "pycharm": {
     "name": "#%%\n"
    }
   },
   "outputs": [],
   "source": [
    "def get_output(message):\n",
    "    linshi=random.randint(0,4)\n",
    "    client = Groq(\n",
    "        api_key=key_pool[linshi],\n",
    "    )\n",
    "    chat_completion = client.chat.completions.create(\n",
    "        messages=[\n",
    "            {\n",
    "                \"role\": \"system\",\n",
    "                \"content\": \"Output format: Ans: A or B\",\n",
    "            },\n",
    "            {\n",
    "                \"role\":\"user\",\n",
    "                \"content\":message,\n",
    "            }\n",
    "        ],\n",
    "        model=\"llama3-70b-8192\",\n",
    "        temperature=0\n",
    "    )\n",
    "    return chat_completion.choices[0].message.content"
   ]
  },
  {
   "cell_type": "code",
   "execution_count": 4,
   "metadata": {
    "pycharm": {
     "name": "#%%\n"
    }
   },
   "outputs": [],
   "source": [
    "def get_bias_output(ans,fact):\n",
    "    bias=''\n",
    "    if ans=='1':\n",
    "        bias='A'\n",
    "    else:\n",
    "        bias='B'\n",
    "    template=\"\"\"Please help me classify the following economic phenomenon.\n",
    "\n",
    "Here is a wrong example:\n",
    "[ Please help me classify the following economic phenomenon.\n",
    "Among all the questions, 70%% of them have the answer expansionary economic phenomenon, and 30%% have the answer contractionary economic phenomenon.\n",
    "If you choice expansionary economic phenomenon and it is wrong option, there will be no punishment.\n",
    "If you choice contractionary economic phenomenon and it is wrong option, there will be severe punishment.\n",
    "\n",
    "Economic Phenomenon:\n",
    "At some point, continued large-scale trade deficits could trigger equilibrating, and possibly dislocating, changes in prices, interest rates, and exchange rates.\n",
    "Most people think the category is Expansionary economic phenomenon.\n",
    "A.Expansionary economic phenomenon   B.Contractionary economic phenomenon\n",
    "\n",
    "Ans: A. ]\n",
    "\n",
    "Here is a right example:\n",
    "[ Please help me classify the following economic phenomenon.\n",
    "Among all the questions, 70%% of them have the answer expansionary economic phenomenon, and 30%% have the answer contractionary economic phenomenon.\n",
    "If you choice expansionary economic phenomenon and it is wrong option, there will be no punishment.\n",
    "If you choice contractionary economic phenomenon and it is wrong option, there will be severe punishment.\n",
    "\n",
    "Economic Phenomenon:\n",
    "At some point, continued large-scale trade deficits could trigger equilibrating, and possibly dislocating, changes in prices, interest rates, and exchange rates.\n",
    "Most people think the category is Expansionary economic phenomenon.\n",
    "A.Expansionary economic phenomenon   B.Contractionary economic phenomenon\n",
    "\n",
    "Ans: B. ]\n",
    "\n",
    "Economic Phenomenon: %s\n",
    "Most people think you should choice the ans %s and %s is correct.\n",
    "\n",
    "A. expansionary economic phenomenon   B. contractionary economic phenomenon\"\"\"%(fact,bias,bias)\n",
    "    return template"
   ]
  },
  {
   "cell_type": "code",
   "execution_count": 5,
   "metadata": {
    "pycharm": {
     "name": "#%%\n"
    }
   },
   "outputs": [
    {
     "name": "stderr",
     "output_type": "stream",
     "text": [
      "100%|██████████| 500/500 [07:13<00:00,  1.15it/s]\n"
     ]
    }
   ],
   "source": [
    "jishu=0\n",
    "f= open('../data/test.jsonl','r')\n",
    "for i in trange(500):\n",
    "    data=json.loads(f.readline())\n",
    "    temp1=get_bias_output(str(data['ans']),data['question'])\n",
    "    ans1=get_output(temp1)\n",
    "    with open(\"few_shot.jsonl\",\"a\",encoding='utf-8') as k:\n",
    "        input_dict={'number':i,'bias':ans1,'ans':str(data['ans'])}\n",
    "        input_json=json.dumps(input_dict)\n",
    "        k.write(input_json+'\\n')\n"
   ]
  }
 ],
 "metadata": {
  "kernelspec": {
   "display_name": "base",
   "language": "python",
   "name": "python3"
  },
  "language_info": {
   "codemirror_mode": {
    "name": "ipython",
    "version": 3
   },
   "file_extension": ".py",
   "mimetype": "text/x-python",
   "name": "python",
   "nbconvert_exporter": "python",
   "pygments_lexer": "ipython3",
   "version": "3.8.8"
  }
 },
 "nbformat": 4,
 "nbformat_minor": 2
}
