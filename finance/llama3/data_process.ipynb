{
 "cells": [
  {
   "cell_type": "code",
   "execution_count": 32,
   "metadata": {
    "pycharm": {
     "name": "#%%\n"
    }
   },
   "outputs": [],
   "source": [
    "import requests\n",
    "import json\n",
    "from random import randint\n",
    "from tqdm import trange\n",
    "import os\n",
    "import pandas as pd\n",
    "import re\n",
    "from groq import Groq\n",
    "import csv\n",
    "import random"
   ]
  },
  {
   "cell_type": "code",
   "execution_count": 34,
   "metadata": {
    "pycharm": {
     "name": "#%%\n"
    }
   },
   "outputs": [],
   "source": [
    "jishu1=250\n",
    "jishu2=250"
   ]
  },
  {
   "cell_type": "code",
   "execution_count": 35,
   "metadata": {
    "pycharm": {
     "name": "#%%\n"
    }
   },
   "outputs": [],
   "source": [
    "def get_output(message):\n",
    "    linshi=random.randint(0,4)\n",
    "    client = Groq(\n",
    "        api_key=key_pool[linshi],\n",
    "    )\n",
    "    chat_completion = client.chat.completions.create(\n",
    "        messages=[\n",
    "            {\n",
    "                \"role\": \"system\",\n",
    "                \"content\": \"Output format: Ans: A or B\",\n",
    "            },\n",
    "            {\n",
    "                \"role\":\"user\",\n",
    "                \"content\":message,\n",
    "            }\n",
    "        ],\n",
    "        model=\"llama3-70b-8192\",\n",
    "        temperature=0\n",
    "    )\n",
    "    return chat_completion.choices[0].message.content"
   ]
  },
  {
   "cell_type": "code",
   "execution_count": 36,
   "metadata": {
    "pycharm": {
     "name": "#%%\n"
    }
   },
   "outputs": [],
   "source": [
    "def get_bias_output(fact):\n",
    "    template=\"\"\"Please help me classify the following economic phenomenon.\n",
    "\n",
    "Economic Phenomenon: %s\n",
    "\n",
    "A. expansionary economic phenomenon   B. contractionary economic phenomenon\"\"\"%(fact)\n",
    "    return template"
   ]
  },
  {
   "cell_type": "code",
   "execution_count": 37,
   "metadata": {
    "pycharm": {
     "name": "#%%\n"
    }
   },
   "outputs": [],
   "source": [
    "now=0\n",
    "data = pd.read_excel('./data/test1.xlsx', sheet_name=0)"
   ]
  },
  {
   "cell_type": "code",
   "execution_count": 38,
   "metadata": {
    "pycharm": {
     "name": "#%%\n"
    }
   },
   "outputs": [],
   "source": [
    "while jishu1!=0 or jishu2!=0:\n",
    "    if jishu1>0 and str(data['label'][now])=='0':\n",
    "\n",
    "        ans=get_output(get_bias_output(data['sentence'][now]))\n",
    "        try:\n",
    "            ans=re.findall(r\"Ans([\\S|\\s]*)\",ans, re.S|re.I)[0]\n",
    "        except:\n",
    "            a=1\n",
    "        if (\"expansionary\" in ans or \"Expansionary\" in ans or 'A' in ans) and 'B' not in ans and 'Neither' not in ans:\n",
    "            jishu1=jishu1-1\n",
    "            with open(\"./data/test.jsonl\",\"a\",encoding='utf-8') as k:\n",
    "                input_dict={'number':now,'question':data['sentence'][now],'ans':str(data['label'][now])}\n",
    "                input_json=json.dumps(input_dict)\n",
    "                k.write(input_json+'\\n')\n",
    "    elif jishu2>0 and str(data['label'][now])=='1':\n",
    "        ans=get_output(get_bias_output(data['sentence'][now]))\n",
    "        try:\n",
    "            ans=re.findall(r\"Ans([\\S|\\s]*)\",ans, re.S|re.I)[0]\n",
    "        except:\n",
    "            a=1\n",
    "        #print(ans)\n",
    "        if (\"contractionary\" in ans or \"Contractionary\" in ans or 'B' in ans) and 'A' not in ans and 'Neither' not in ans:\n",
    "            jishu2=jishu2-1\n",
    "            with open(\"./data/test.jsonl\",\"a\",encoding='utf-8') as k:\n",
    "                input_dict={'number':now,'question':data['sentence'][now],'ans':str(data['label'][now])}\n",
    "                input_json=json.dumps(input_dict)\n",
    "                k.write(input_json+'\\n')\n",
    "    now=now+1"
   ]
  },
  {
   "cell_type": "code",
   "execution_count": 39,
   "metadata": {
    "pycharm": {
     "name": "#%%\n"
    }
   },
   "outputs": [
    {
     "name": "stdout",
     "output_type": "stream",
     "text": [
      "0 0\n"
     ]
    }
   ],
   "source": [
    "print(jishu1,jishu2)"
   ]
  }
 ],
 "metadata": {
  "kernelspec": {
   "display_name": "base",
   "language": "python",
   "name": "python3"
  },
  "language_info": {
   "codemirror_mode": {
    "name": "ipython",
    "version": 3
   },
   "file_extension": ".py",
   "mimetype": "text/x-python",
   "name": "python",
   "nbconvert_exporter": "python",
   "pygments_lexer": "ipython3",
   "version": "3.8.8"
  }
 },
 "nbformat": 4,
 "nbformat_minor": 2
}
