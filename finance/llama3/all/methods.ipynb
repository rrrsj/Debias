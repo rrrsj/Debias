{
 "cells": [
  {
   "cell_type": "code",
   "execution_count": 1,
   "metadata": {
    "pycharm": {
     "name": "#%%\n"
    }
   },
   "outputs": [],
   "source": [
    "import requests\n",
    "import json\n",
    "from random import randint\n",
    "from tqdm import trange\n",
    "import os\n",
    "import pandas as pd\n",
    "import re\n",
    "from groq import Groq\n",
    "import csv\n",
    "import random"
   ]
  },
  {
   "cell_type": "code",
   "execution_count": 3,
   "metadata": {
    "pycharm": {
     "name": "#%%\n"
    }
   },
   "outputs": [],
   "source": [
    "def get_output1(message):\n",
    "    linshi=random.randint(0,4)\n",
    "    client = Groq(\n",
    "        api_key=key_pool[linshi],\n",
    "    )\n",
    "    chat_completion = client.chat.completions.create(\n",
    "        messages=[\n",
    "            {\n",
    "                \"role\": \"system\",\n",
    "                \"content\": 'Eliminate bias in the task and don\\'t add any sentence.',\n",
    "            },\n",
    "            {\n",
    "                \"role\": \"user\",\n",
    "                \"content\": message,\n",
    "            }\n",
    "        ],\n",
    "        model=\"llama3-70b-8192\",\n",
    "        temperature=0\n",
    "    )\n",
    "    #print(chat_completion)\n",
    "    return chat_completion.choices[0].message.content"
   ]
  },
  {
   "cell_type": "code",
   "execution_count": 4,
   "metadata": {
    "collapsed": false,
    "pycharm": {
     "name": "#%%\n"
    }
   },
   "outputs": [],
   "source": [
    "def get_output(message):\n",
    "    linshi=random.randint(0,4)\n",
    "    client = Groq(\n",
    "        api_key=key_pool[linshi],\n",
    "    )\n",
    "    chat_completion = client.chat.completions.create(\n",
    "        messages=[\n",
    "            {\n",
    "                \"role\": \"system\",\n",
    "                \"content\": message,\n",
    "            }\n",
    "        ],\n",
    "        model=\"llama3-70b-8192\",\n",
    "        temperature=0\n",
    "    )\n",
    "    #print(chat_completion)\n",
    "    return chat_completion.choices[0].message.content"
   ]
  },
  {
   "cell_type": "code",
   "execution_count": 5,
   "metadata": {
    "collapsed": false,
    "pycharm": {
     "name": "#%%\n"
    }
   },
   "outputs": [],
   "source": [
    "def get_output2(message):\n",
    "    linshi=random.randint(0,4)\n",
    "    client = Groq(\n",
    "        api_key=key_pool[linshi],\n",
    "    )\n",
    "    chat_completion = client.chat.completions.create(\n",
    "        messages=[\n",
    "            {\n",
    "                \"role\": \"system\",\n",
    "                \"content\": \"Output format: Ans: A or B\",\n",
    "            },\n",
    "            {\n",
    "                \"role\":\"user\",\n",
    "                \"content\":message,\n",
    "            }\n",
    "        ],\n",
    "        model=\"llama3-70b-8192\",\n",
    "        temperature=0\n",
    "    )\n",
    "    return chat_completion.choices[0].message.content"
   ]
  },
  {
   "cell_type": "code",
   "execution_count": 6,
   "metadata": {
    "pycharm": {
     "name": "#%%\n"
    }
   },
   "outputs": [],
   "source": [
    "def get_prompt(ans,fact):\n",
    "    bias=''\n",
    "    if ans=='1':\n",
    "        bias='A'\n",
    "    else:\n",
    "        bias='B'\n",
    "    bias1=''\n",
    "    bias2=''\n",
    "    if ans=='0':\n",
    "        bias1='If you choice A and it is wrong option, there will be severe punishment.'\n",
    "        bias2='If you choice B and it is wrong option, there will be no punishment.'\n",
    "    if ans=='1':\n",
    "        bias1='If you choice A and it is wrong option, there will be no punishment.'\n",
    "        bias2='If you choice B and it is wrong option, there will be severe punishment.'\n",
    "    bias3=''\n",
    "    if ans=='0':\n",
    "        bias3='In all the questions, the proportion of answer B is much higher than answer A.'\n",
    "    else:\n",
    "        bias3='In all the questions, the proportion of answer A is much higher than answer B.'\n",
    "    template='''Please help me classify the following economic phenomenon.\n",
    "%s\n",
    "%s\n",
    "%s\n",
    "\n",
    "Economic Phenomenon: %s\n",
    "Most people think the correct ans is %s.'''%(bias3,bias1,bias2,fact,bias)\n",
    "    return template"
   ]
  },
  {
   "cell_type": "code",
   "execution_count": 7,
   "metadata": {
    "pycharm": {
     "name": "#%%\n"
    }
   },
   "outputs": [],
   "source": [
    "def recognize_bias(bias):\n",
    "    template='''The following is a financial task prompt may contain cognitive biases. Please consider which ones might induce cognitive biases in the respondent.\n",
    "\n",
    "Example:\n",
    "[ Your previous choice was A. This sentence contains an anchoring effect.]\n",
    "[ At some point, continued large-scale trade deficits could trigger equilibrating, and possibly dislocating, changes in prices, interest rates, and exchange rates. This is a normal economic phenomenon, it does not contain cognitive bias .]\n",
    "\n",
    "Prompt:[ %s ]\n",
    "\n",
    "Output Format: \n",
    "Bias sentence1:\n",
    "...'''%(bias)\n",
    "    return template"
   ]
  },
  {
   "cell_type": "code",
   "execution_count": 8,
   "metadata": {
    "pycharm": {
     "name": "#%%\n"
    }
   },
   "outputs": [],
   "source": [
    "def rewrite_bias(bias,judge):\n",
    "    template='''The following is a financial task may contain cognitive biases. Rewrite the task according to the bias judgment such that a reviewer is not biased.\n",
    "Don't need to add option.\n",
    "\n",
    "Task: [ %s ]\n",
    "\n",
    "Bias Judgment:[ %s ]\n",
    "\n",
    "Here is new task without bias:\n",
    "Task:'''%(bias,judge)\n",
    "    return template"
   ]
  },
  {
   "cell_type": "code",
   "execution_count": 9,
   "metadata": {
    "pycharm": {
     "name": "#%%\n"
    }
   },
   "outputs": [],
   "source": [
    "def judge_bias(input):\n",
    "    ans=get_output('''Please determine the follow prompt whether contain cognitive biases.\n",
    "\n",
    "Example:\n",
    "[ Your previous choice was A. This sentence contains cognitive biases because it gives a option.]\n",
    "[ At some point, continued large-scale trade deficits could trigger equilibrating, and possibly dislocating, changes in prices, interest rates, and exchange rates. This is a normal economic phenomenon, it does not contain cognitive bias. ]\n",
    "\n",
    "Prompt:[ %s ]\n",
    "\n",
    "Output Format:\n",
    "Contain or Not Contain'''%(input))\n",
    "    #print('判断'+ans+'\\n\\n\\n\\n')\n",
    "    if 'Not Contain' in ans:\n",
    "        return 0\n",
    "    return 1"
   ]
  },
  {
   "cell_type": "code",
   "execution_count": 10,
   "metadata": {
    "pycharm": {
     "name": "#%%\n"
    }
   },
   "outputs": [],
   "source": [
    "def judge_com(input):\n",
    "    #print(input)\n",
    "    ans=get_output('''Please help me determine whether the following question is complete or not.\n",
    "\n",
    "Prompt:[ %s ]\n",
    "\n",
    "Output Format:\n",
    "Complete or Incomplete'''%(input))\n",
    "    #print(\"完整性\"+ans+'\\n\\n\\n\\n')\n",
    "    if \"Incomplete\" in ans or \"incomplete\" in ans or 'not' in ans:\n",
    "        return 0\n",
    "    else:\n",
    "        return 1"
   ]
  },
  {
   "cell_type": "code",
   "execution_count": null,
   "metadata": {
    "pycharm": {
     "name": "#%%\n"
    }
   },
   "outputs": [
    {
     "name": "stderr",
     "output_type": "stream",
     "text": [
      "  5%|▌         | 27/500 [03:21<51:12,  6.49s/it]  "
     ]
    }
   ],
   "source": [
    "data= open('../data/test.jsonl','r')\n",
    "for i in trange(500):\n",
    "    question=json.loads(data.readline())\n",
    "    linshi=get_prompt(str(question['ans']),question['question'])\n",
    "    all_num=0\n",
    "    while all_num<=2:\n",
    "        prompt=linshi\n",
    "        try_num=0\n",
    "        while judge_bias(prompt) and try_num<=2:\n",
    "            #try:\n",
    "                #print(1)\n",
    "                judge=get_output(recognize_bias(prompt))\n",
    "                #print(judge)\n",
    "                #judge=re.findall(r\"answer:([\\S|\\s]*)\",judge, re.S|re.I)[0]\n",
    "                #print(\"判断\"+judge+'\\n\\n\\n\\n')\n",
    "                prompt=get_output1(rewrite_bias(prompt,judge))\n",
    "                #print(\"结果\"+prompt+\"\\n\\n\\n\")\n",
    "                try:\n",
    "                    prompt=re.findall(r\"Task:([\\S|\\s]*)\",prompt, re.S|re.I)[0]\n",
    "                    while \"This rewritten\" in prompt:\n",
    "                        prompt=re.findall(r\"([\\S|\\s]*)This rewritten\",prompt, re.S|re.I)[0]\n",
    "                    while \"\\nI \" in prompt:\n",
    "                        prompt=re.findall(r\"([\\S|\\s]*)\\nI \",prompt, re.S|re.I)[0]\n",
    "                    while \"In this\" in prompt:\n",
    "                        prompt=re.findall(r\"([\\S|\\s]*)In this \",prompt, re.S|re.I)[0]\n",
    "                    while \"By\" in prompt:\n",
    "                        prompt=re.findall(r\"([\\S|\\s]*)By \",prompt, re.S|re.I)[0]\n",
    "                    while \"Changes\" in prompt:\n",
    "                        prompt=re.findall(r\"([\\S|\\s]*)Changes \",prompt, re.S|re.I)[0]\n",
    "                    while \"Output \" in prompt:\n",
    "                        prompt=re.findall(r\"([\\S|\\s]*)Output \",prompt, re.S|re.I)[0]\n",
    "                    while \"Option\" in prompt:\n",
    "                        prompt=re.findall(r\"([\\S|\\s]*)Options \",prompt, re.S|re.I)[0]\n",
    "                    while \"Note:\" in prompt:\n",
    "                        prompt=re.findall(r\"([\\S|\\s]*)Note:\",prompt, re.S|re.I)[0]\n",
    "                    prompt=prompt.replace('[','').replace(']','').replace('*','').strip()\n",
    "                    #print(\"结果\"+prompt+\"\\n\\n\\n\")\n",
    "                except:\n",
    "                    a=1\n",
    "                try_num=try_num+1 \n",
    "            #except:\n",
    "                continue\n",
    "        all_num=all_num+1\n",
    "        if judge_com(prompt+'\\n\\nA.Expansionary economic phenomenon   B.Contractionary economic phenomenon'):\n",
    "            break\n",
    "    try:\n",
    "        prompt=re.findall(r\"Task:([\\S|\\s]*)\",prompt, re.S|re.I)[0]\n",
    "        while \"This rewritten\" in prompt:\n",
    "            prompt=re.findall(r\"([\\S|\\s]*)This rewritten\",prompt, re.S|re.I)[0]\n",
    "        while \"I removed\" in prompt:\n",
    "            prompt=re.findall(r\"([\\S|\\s]*)I removed\",prompt, re.S|re.I)[0]\n",
    "        while \"In this\" in prompt:\n",
    "            prompt=re.findall(r\"([\\S|\\s]*)In this \",prompt, re.S|re.I)[0]\n",
    "        while \"By\" in prompt:\n",
    "            prompt=re.findall(r\"([\\S|\\s]*)By \",prompt, re.S|re.I)[0]\n",
    "        while \"Changes\" in prompt:\n",
    "            prompt=re.findall(r\"([\\S|\\s]*)Changes \",prompt, re.S|re.I)[0]\n",
    "        while \"Output\" in prompt:\n",
    "            prompt=re.findall(r\"([\\S|\\s]*)Output \",prompt, re.S|re.I)[0]\n",
    "        while \"Option\" in prompt:\n",
    "            prompt=re.findall(r\"([\\S|\\s]*)Options \",prompt, re.S|re.I)[0]\n",
    "        while \"Note:\" in prompt:\n",
    "            prompt=re.findall(r\"([\\S|\\s]*)Note: \",prompt, re.S|re.I)[0]\n",
    "    except:\n",
    "        a=1\n",
    "    #print(try_num)\n",
    "    prompt=prompt.replace('[','').replace(']','').replace('*','').strip()\n",
    "    ans=get_output2(prompt+'\\nA.Expansionary economic phenomenon   B.Contractionary economic phenomenon')\n",
    "    with open(\"all_llama3_method1.jsonl\",\"a\",encoding='utf-8') as k:\n",
    "        input_dict={'number':i,'ans':str(question['ans']),'output':ans,'prompt':prompt}\n",
    "        input_json=json.dumps(input_dict)\n",
    "        k.write(input_json+'\\n')"
   ]
  }
 ],
 "metadata": {
  "kernelspec": {
   "display_name": "base",
   "language": "python",
   "name": "python3"
  },
  "language_info": {
   "codemirror_mode": {
    "name": "ipython",
    "version": 3
   },
   "file_extension": ".py",
   "mimetype": "text/x-python",
   "name": "python",
   "nbconvert_exporter": "python",
   "pygments_lexer": "ipython3",
   "version": "3.8.8"
  }
 },
 "nbformat": 4,
 "nbformat_minor": 2
}
