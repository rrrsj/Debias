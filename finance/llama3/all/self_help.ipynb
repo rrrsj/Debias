{
 "cells": [
  {
   "cell_type": "code",
   "execution_count": 6,
   "metadata": {
    "pycharm": {
     "name": "#%%\n"
    }
   },
   "outputs": [],
   "source": [
    "import requests\n",
    "import json\n",
    "from random import randint\n",
    "from tqdm import trange\n",
    "import os\n",
    "import pandas as pd\n",
    "import re\n",
    "from groq import Groq\n",
    "import csv\n",
    "import random"
   ]
  },
  {
   "cell_type": "code",
   "execution_count": 8,
   "metadata": {
    "pycharm": {
     "name": "#%%\n"
    }
   },
   "outputs": [],
   "source": [
    "def get_output(message):\n",
    "    linshi=random.randint(0,4)\n",
    "    client = Groq(\n",
    "        api_key=key_pool[linshi],\n",
    "    )\n",
    "    chat_completion = client.chat.completions.create(\n",
    "        messages=[\n",
    "            {\n",
    "                \"role\": \"system\",\n",
    "                \"content\": message,\n",
    "            }\n",
    "        ],\n",
    "        model=\"llama3-70b-8192\",\n",
    "        temperature=0\n",
    "    )\n",
    "    return chat_completion.choices[0].message.content"
   ]
  },
  {
   "cell_type": "code",
   "execution_count": 9,
   "metadata": {
    "collapsed": false,
    "pycharm": {
     "name": "#%%\n"
    }
   },
   "outputs": [],
   "source": [
    "def get_output1(message):\n",
    "    linshi=random.randint(0,4)\n",
    "    client = Groq(\n",
    "        api_key=key_pool[linshi],\n",
    "    )\n",
    "    chat_completion = client.chat.completions.create(\n",
    "        messages=[\n",
    "            {\n",
    "                \"role\": \"system\",\n",
    "                \"content\": \"Output format: Ans: A or B\",\n",
    "            },\n",
    "            {\n",
    "                \"role\":\"user\",\n",
    "                \"content\":message,\n",
    "            }\n",
    "        ],\n",
    "        model=\"llama3-70b-8192\",\n",
    "        temperature=0\n",
    "    )\n",
    "    return chat_completion.choices[0].message.content"
   ]
  },
  {
   "cell_type": "code",
   "execution_count": null,
   "metadata": {
    "pycharm": {
     "name": "#%%\n"
    }
   },
   "outputs": [
    {
     "name": "stderr",
     "output_type": "stream",
     "text": [
      "Could not connect to 127.0.0.1: 50724\n",
      "Traceback (most recent call last):\n",
      "  File \"D:\\PyCharm 2022.2\\plugins\\python\\helpers\\pydev\\_pydevd_bundle\\pydevd_comm.py\", line 463, in start_client\n",
      "    s.connect((host, port))\n",
      "ConnectionRefusedError: [WinError 10061] 由于目标计算机积极拒绝，无法连接。\n",
      "Traceback (most recent call last):\n",
      "  File \"D:\\PyCharm 2022.2\\plugins\\python\\helpers-pro\\jupyter_debug\\pydev_jupyter_utils.py\", line 81, in attach_to_debugger\n",
      "    debugger.connect(pydev_localhost.get_localhost(), debugger_port)\n",
      "  File \"D:\\PyCharm 2022.2\\plugins\\python\\helpers\\pydev\\pydevd.py\", line 660, in connect\n",
      "    s = start_client(host, port)\n",
      "  File \"D:\\PyCharm 2022.2\\plugins\\python\\helpers\\pydev\\_pydevd_bundle\\pydevd_comm.py\", line 463, in start_client\n",
      "    s.connect((host, port))\n",
      "ConnectionRefusedError: [WinError 10061] 由于目标计算机积极拒绝，无法连接。\n",
      "Failed to connect to target debugger.\n"
     ]
    }
   ],
   "source": [
    "def get_bias_output(ans,fact):\n",
    "    bias=''\n",
    "    if ans=='1':\n",
    "        bias='A'\n",
    "    else:\n",
    "        bias='B'\n",
    "    bias1=''\n",
    "    bias2=''\n",
    "    if ans=='0':\n",
    "        bias1='If you choice A and it is wrong option, there will be severe punishment.'\n",
    "        bias2='If you choice B and it is wrong option, there will be no punishment.'\n",
    "    if ans=='1':\n",
    "        bias1='If you choice A and it is wrong option, there will be no punishment.'\n",
    "        bias2='If you choice B and it is wrong option, there will be severe punishment.'\n",
    "    bias3=''\n",
    "    if ans=='0':\n",
    "        bias3='In all the questions, the proportion of answer B is much higher than answer A.'\n",
    "    else:\n",
    "        bias3='In all the questions, the proportion of answer A is much higher than answer B.'\n",
    "\n",
    "    template=\"\"\"Here is a prompt that may be biased by cognitive bias. Rewrite it such that a reviewer is not biased.\n",
    "\n",
    "Prompt:\n",
    "Please help me classify the following economic phenomenon.\n",
    "%s\n",
    "%s\n",
    "%s\n",
    "\n",
    "\n",
    "Economic Phenomenon: %s\n",
    "Most people think the correct answer is %s.\n",
    "\n",
    "There is no need to output which sentences that have deleted or changed.\n",
    "The options will be given later and are not the missing part.\"\"\"%(bias3,bias1,bias2,fact,bias)\n",
    "    return template"
   ]
  },
  {
   "cell_type": "code",
   "execution_count": 11,
   "metadata": {
    "collapsed": false,
    "pycharm": {
     "name": "#%%\n"
    }
   },
   "outputs": [
    {
     "name": "stderr",
     "output_type": "stream",
     "text": [
      "100%|██████████| 500/500 [18:42<00:00,  2.24s/it]\n"
     ]
    }
   ],
   "source": [
    "ff= open('../data/test.jsonl','r')\n",
    "for i in trange(500):\n",
    "    data=json.loads(ff.readline())\n",
    "    temp1=get_bias_output(str(data['ans']),data['question'])\n",
    "    ans1=get_output(temp1)\n",
    "    #print(ans1)\n",
    "    while 'This rewritten' in ans1:\n",
    "        ans1=re.findall(r\"([\\S|\\s]*)This rewritten([\\S|\\s]*)\",ans1, re.S|re.I)[0][0]\n",
    "    #print(ans1)\n",
    "    while \"Note\" in ans1:\n",
    "        ans1=re.findall(r\"([\\S|\\s]*)Note([\\S|\\s]*)\",ans1, re.S|re.I)[0][0]\n",
    "    while \"(\" in ans1:\n",
    "        ans1=re.findall(r\"([\\S|\\s]*)\\(([\\S|\\s]*)\",ans1, re.S|re.I)[0][0]\n",
    "    while \"By\" in ans1:\n",
    "        ans1=re.findall(r\"([\\S|\\s]*)By([\\S|\\s]*)\",ans1, re.S|re.I)[0][0]\n",
    "    while \"I made\" in ans1:\n",
    "        ans1=re.findall(r\"([\\S|\\s]*)I made([\\S|\\s]*)\",ans1, re.S|re.I)[0][0]\n",
    "    try:\n",
    "        ans1=re.findall(r\"Prompt:([\\S|\\s]*)\",ans1, re.S|re.I)[0]\n",
    "    except:\n",
    "        ans1=re.findall(r\"bias:([\\S|\\s]*)\",ans1, re.S|re.I)[0]\n",
    "    temp2=ans1\n",
    "    ans2=get_output1(temp2+'\\nA. expansionary economic phenomenon   B. contractionary economic phenomenon')\n",
    "    with open(\"self_help.jsonl\",\"a\",encoding='utf-8') as k:\n",
    "        input_dict={'number':i,'methods':ans2,'ans':str(data['ans']),'question':temp2}\n",
    "        input_json=json.dumps(input_dict)\n",
    "        k.write(input_json+'\\n')"
   ]
  }
 ],
 "metadata": {
  "kernelspec": {
   "display_name": "base",
   "language": "python",
   "name": "python3"
  },
  "language_info": {
   "codemirror_mode": {
    "name": "ipython",
    "version": 3
   },
   "file_extension": ".py",
   "mimetype": "text/x-python",
   "name": "python",
   "nbconvert_exporter": "python",
   "pygments_lexer": "ipython3",
   "version": "3.8.8"
  }
 },
 "nbformat": 4,
 "nbformat_minor": 2
}
