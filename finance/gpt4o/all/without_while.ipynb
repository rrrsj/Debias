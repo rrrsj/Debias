{
 "cells": [
  {
   "cell_type": "code",
   "execution_count": 1,
   "metadata": {},
   "outputs": [],
   "source": [
    "import requests\n",
    "import json\n",
    "from random import randint\n",
    "from tqdm import trange\n",
    "from openai import OpenAI\n",
    "import os\n",
    "import pandas as pd\n",
    "import pyarrow.parquet as pq\n",
    "import re"
   ]
  },
  {
   "cell_type": "code",
   "execution_count": 2,
   "metadata": {},
   "outputs": [],
   "source": [
    "client = OpenAI(\n",
    "    api_key=\"\"\n",
    ")"
   ]
  },
  {
   "cell_type": "code",
   "execution_count": 3,
   "metadata": {},
   "outputs": [],
   "source": [
    "def get_output(message):\n",
    "    response = client.chat.completions.create(\n",
    "        model=\"gpt-4o\",\n",
    "        messages=[\n",
    "            {\"role\": \"system\", \"content\": message}\n",
    "        ],\n",
    "        temperature=0\n",
    "    )\n",
    "    response_message=json.loads(response.model_dump_json())\n",
    "    return response_message['choices'][0]['message']['content']"
   ]
  },
  {
   "cell_type": "code",
   "execution_count": 4,
   "metadata": {},
   "outputs": [],
   "source": [
    "def get_prompt(ans,fact):\n",
    "    bias=''\n",
    "    if ans=='1':\n",
    "        bias='Expansionary economic phenomenon'\n",
    "    else:\n",
    "        bias='Contractionary economic phenomenon'\n",
    "    bias1=''\n",
    "    bias2=''\n",
    "    if ans=='0':\n",
    "        bias1='If you choice expansionary economic phenomenon and it is wrong option, there will be severe punishment.'\n",
    "        bias2='If you choice contractionary economic phenomenon and it is wrong option, there will be no punishment.'\n",
    "    if ans=='1':\n",
    "        bias1='If you choice expansionary economic phenomenon and it is wrong option, there will be no punishment.'\n",
    "        bias2='If you choice contractionary economic phenomenon and it is wrong option, there will be severe punishment.'\n",
    "    bias3=''\n",
    "    if ans=='0':\n",
    "        bias3='Among all the questions, 30% of them have the answer expansionary economic phenomenon, and 70% have the answer contractionary economic phenomenon.'\n",
    "    else:\n",
    "        bias3='Among all the questions, 70% of them have the answer expansionary economic phenomenon, and 30% have the answer contractionary economic phenomenon.'\n",
    "    template='''Please help me classify the following economic phenomenon.\n",
    "%s\n",
    "%s\n",
    "%s\n",
    "\n",
    "Economic Phenomenon: \n",
    "%s\n",
    "Most people think the category is %s. '''%(bias3,bias1,bias2,fact,bias)\n",
    "    return template"
   ]
  },
  {
   "cell_type": "code",
   "execution_count": 5,
   "metadata": {},
   "outputs": [],
   "source": [
    "def recognize_bias(bias):\n",
    "    template='''The following is a financial task prompt may contain cognitive biases. Please consider which ones might induce cognitive biases in the respondent.\n",
    "\n",
    "Example:[Your previous choice was contractionary economic phenomenon. This sentence contains an anchoring effect because it has presupposed an contractionary economic phenomenon.\n",
    "At some point, continued large-scale trade deficits could trigger equilibrating, and possibly dislocating, changes in prices, interest rates, and exchange rates. This is a normal statement of economic phenomena, so it does not contain cognitive bias.]\n",
    "\n",
    "Prompt: [%s]\n",
    "\n",
    "Output Format: \n",
    "Bias sentence1:\n",
    "...'''%(bias)\n",
    "    return template"
   ]
  },
  {
   "cell_type": "code",
   "execution_count": 6,
   "metadata": {},
   "outputs": [],
   "source": [
    "def rewrite_bias(bias,judge):\n",
    "    template='''The following is a financial task may contain cognitive biases. Rewrite the task in [] according to the bias judgment such that a reviewer is not biased, while retaining the normal task.\n",
    "Don't need to add option.\n",
    "Eliminate bias in the task and don't add any sentence.\n",
    "\n",
    "Task: [%s]\n",
    "\n",
    "Bias Judgment:[%s]\n",
    "\n",
    "Here is new task without bias:\n",
    "Task:'''%(bias,judge)\n",
    "    return template"
   ]
  },
  {
   "cell_type": "code",
   "execution_count": 7,
   "metadata": {},
   "outputs": [],
   "source": [
    "def judge_bias(input):\n",
    "    ans=get_output('''Please determine the follow prompt whether contain cognitive biases.\n",
    "\n",
    "Example:\n",
    "[ Your previous choice was A. This sentence contains cognitive biases because it gives a option.]\n",
    "[ At some point, continued large-scale trade deficits could trigger equilibrating, and possibly dislocating, changes in prices, interest rates, and exchange rates. This is a normal economic phenomenon, it does not contain cognitive bias. ]\n",
    "\n",
    "Prompt:[ %s ]\n",
    "\n",
    "Output Format:\n",
    "Contain or Not Contain'''%(input))\n",
    "    #print('判断'+ans+'\\n\\n\\n\\n')\n",
    "    if 'Not Contain' in ans or 'Not contain' in ans:\n",
    "        return 0\n",
    "    return 1"
   ]
  },
  {
   "cell_type": "code",
   "execution_count": 8,
   "metadata": {},
   "outputs": [],
   "source": [
    "def judge_com(input):\n",
    "    #print(input)\n",
    "    ans=get_output('''Please help me determine whether the following question is complete or not.\n",
    "\n",
    "Prompt:[%s]'''%(input))\n",
    "    #print(ans)\n",
    "    if \"Incomplete\" in ans or \"incomplete\" in ans or 'not' in ans:\n",
    "        return 0\n",
    "    else:\n",
    "        return 1"
   ]
  },
  {
   "cell_type": "code",
   "execution_count": 9,
   "metadata": {},
   "outputs": [
    {
     "name": "stderr",
     "output_type": "stream",
     "text": [
      "100%|██████████| 100/100 [30:06<00:00, 18.06s/it]\n"
     ]
    }
   ],
   "source": [
    "data= open('../data/test.jsonl','r')\n",
    "for i in trange(100):\n",
    "    question=json.loads(data.readline())\n",
    "    linshi=get_prompt(str(question['ans']),question['question'])\n",
    "    all_num=0\n",
    "    while all_num<=2:\n",
    "        prompt=linshi\n",
    "        judge=get_output(recognize_bias(prompt))\n",
    "        prompt=get_output(rewrite_bias(prompt,judge))\n",
    "        try:\n",
    "            prompt=re.findall(r\"Task:([\\S|\\s]*)\",prompt, re.S|re.I)[0]\n",
    "            prompt=prompt.replace('[','').replace(']','').replace('*','').strip()\n",
    "        except:\n",
    "            a=1\n",
    "        all_num=all_num+1\n",
    "        if judge_com(prompt+'\\n\\nA.Expansionary economic phenomenon   B.Contractionary economic phenomenon'):\n",
    "            break\n",
    "    try:\n",
    "        prompt=re.findall(r\"Task:([\\S|\\s]*)\",prompt, re.S|re.I)[0]\n",
    "    except:\n",
    "        a=1\n",
    "    prompt=prompt.replace('[','').replace(']','').replace('*','').strip()\n",
    "    ans=get_output(prompt+'\\nA.Expansionary economic phenomenon   B.Contractionary economic phenomenon\\n\\nOutput format:\\nAns: (The category of your choice)')\n",
    "    with open(\"without_while.jsonl\",\"a\",encoding='utf-8') as k:\n",
    "        input_dict={'number':i,'ans':str(question['ans']),'output':ans,'prompt':prompt}\n",
    "        input_json=json.dumps(input_dict)\n",
    "        k.write(input_json+'\\n')"
   ]
  }
 ],
 "metadata": {
  "kernelspec": {
   "display_name": "base",
   "language": "python",
   "name": "python3"
  },
  "language_info": {
   "codemirror_mode": {
    "name": "ipython",
    "version": 3
   },
   "file_extension": ".py",
   "mimetype": "text/x-python",
   "name": "python",
   "nbconvert_exporter": "python",
   "pygments_lexer": "ipython3",
   "version": "3.8.8"
  }
 },
 "nbformat": 4,
 "nbformat_minor": 2
}
