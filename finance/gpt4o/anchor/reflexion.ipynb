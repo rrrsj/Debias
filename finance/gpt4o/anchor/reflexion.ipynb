{
 "cells": [
  {
   "cell_type": "code",
   "execution_count": 1,
   "metadata": {},
   "outputs": [],
   "source": [
    "import requests\n",
    "import json\n",
    "from random import randint\n",
    "from tqdm import trange\n",
    "from openai import OpenAI\n",
    "import os\n",
    "import pandas as pd\n",
    "import pyarrow.parquet as pq\n",
    "import re"
   ]
  },
  {
   "cell_type": "code",
   "execution_count": 2,
   "metadata": {},
   "outputs": [],
   "source": [
    "client = OpenAI(\n",
    "    api_key=\"\"\n",
    ")"
   ]
  },
  {
   "cell_type": "code",
   "execution_count": null,
   "metadata": {},
   "outputs": [],
   "source": [
    "def get_output(message):\n",
    "    response = client.chat.completions.create(\n",
    "        model=\"gpt-4o\",\n",
    "        messages=[\n",
    "            {\"role\": \"system\", \"content\": message}\n",
    "        ],\n",
    "        temperature=0\n",
    "    )\n",
    "    response_message=json.loads(response.model_dump_json())\n",
    "    return response_message['choices'][0]['message']['content']"
   ]
  },
  {
   "cell_type": "code",
   "execution_count": 4,
   "metadata": {},
   "outputs": [],
   "source": [
    "def get_prompt(ans,fact):\n",
    "    bias=''\n",
    "    if ans=='0':\n",
    "        bias='Among all the questions, 30% of them have the answer expansionary economic phenomenon, and 70% have the answer contractionary economic phenomenon.'\n",
    "    else:\n",
    "        bias='Among all the questions, 70% of them have the answer expansionary economic phenomenon, and 30% have the answer contractionary economic phenomenon.'\n",
    "    template=\"\"\"\n",
    "Please help me classify the following economic phenomenon.\n",
    "%s\n",
    "\n",
    "Economic Phenomenon:\n",
    "%s\n",
    "\n",
    "A.Expansionary economic phenomenon   B.Contractionary economic phenomenon\n",
    "\n",
    "Output format:\n",
    "Ans: (The category of your choice)\n",
    "\n",
    "\"\"\"%(bias,fact)\n",
    "    return template"
   ]
  },
  {
   "cell_type": "code",
   "execution_count": 5,
   "metadata": {},
   "outputs": [],
   "source": [
    "def action(prompt,memory):\n",
    "    template='''Please complete the following tasks based on previous experience.\n",
    "\n",
    "Previous Experience:[%s]\n",
    "\n",
    "Task:[%s]\n",
    "'''%(memory,prompt)\n",
    "    return template"
   ]
  },
  {
   "cell_type": "code",
   "execution_count": 6,
   "metadata": {},
   "outputs": [],
   "source": [
    "def reward(prompt,ans):\n",
    "    template='''Please according task description and answer to determine whether the current answer is correct.\n",
    "\n",
    "Task:[%s]\n",
    "\n",
    "Answer:[%s]\n",
    "\n",
    "Output Format: \n",
    "(Right / Wrong)\n",
    "'''%(prompt,ans)\n",
    "    return template"
   ]
  },
  {
   "cell_type": "code",
   "execution_count": 7,
   "metadata": {},
   "outputs": [],
   "source": [
    "def get_exp(prompt,ans):\n",
    "    template='''The following answer is wrong, please sum up the wrong experience.\n",
    "\n",
    "[ %s\n",
    "%s ]\n",
    "\n",
    "\n",
    "Output Format:\n",
    "Experience: (Content)\n",
    "'''%(prompt,ans)\n",
    "    return template"
   ]
  },
  {
   "cell_type": "code",
   "execution_count": 8,
   "metadata": {},
   "outputs": [
    {
     "name": "stderr",
     "output_type": "stream",
     "text": [
      "100%|██████████| 100/100 [06:34<00:00,  3.95s/it]\n"
     ]
    }
   ],
   "source": [
    "data= open('../data/test.jsonl','r')\n",
    "\n",
    "for i in trange(100):\n",
    "    Experience=''\n",
    "    question=json.loads(data.readline())\n",
    "    prompt=get_prompt(str(question['ans']),question['question'])\n",
    "    \n",
    "    while 1:\n",
    "        ans=get_output(action(prompt,Experience))\n",
    "        rew=get_output(reward(prompt,ans))\n",
    "\n",
    "        if 'Right' in rew or 'right' in rew:\n",
    "            break\n",
    "        \n",
    "        Experience=Experience+'\\n'+get_output(get_exp(prompt,ans))\n",
    "\n",
    "\n",
    "    with open(\"reflexion.jsonl\",\"a\",encoding='utf-8') as k:\n",
    "        input_dict={'number':i,'ans':str(question['ans']),'output':ans}\n",
    "        input_json=json.dumps(input_dict)\n",
    "        k.write(input_json+'\\n')"
   ]
  }
 ],
 "metadata": {
  "kernelspec": {
   "display_name": "base",
   "language": "python",
   "name": "python3"
  },
  "language_info": {
   "codemirror_mode": {
    "name": "ipython",
    "version": 3
   },
   "file_extension": ".py",
   "mimetype": "text/x-python",
   "name": "python",
   "nbconvert_exporter": "python",
   "pygments_lexer": "ipython3",
   "version": "3.8.8"
  }
 },
 "nbformat": 4,
 "nbformat_minor": 2
}
