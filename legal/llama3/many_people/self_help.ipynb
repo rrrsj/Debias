{
 "cells": [
  {
   "cell_type": "code",
   "execution_count": 6,
   "metadata": {
    "pycharm": {
     "name": "#%%\n"
    }
   },
   "outputs": [],
   "source": [
    "import requests\n",
    "import json\n",
    "from random import randint\n",
    "from tqdm import trange\n",
    "import os\n",
    "import pandas as pd\n",
    "import re\n",
    "from groq import Groq\n",
    "import csv\n",
    "import random"
   ]
  },
  {
   "cell_type": "code",
   "execution_count": 8,
   "metadata": {
    "pycharm": {
     "name": "#%%\n"
    }
   },
   "outputs": [],
   "source": [
    "def get_output(message):\n",
    "    linshi=random.randint(0,4)\n",
    "    client = Groq(\n",
    "        api_key=key_pool[linshi],\n",
    "    )\n",
    "    chat_completion = client.chat.completions.create(\n",
    "        messages=[\n",
    "            {\n",
    "                \"role\": \"system\",\n",
    "                \"content\": message,\n",
    "            }\n",
    "        ],\n",
    "        model=\"llama3-70b-8192\",\n",
    "        temperature=0\n",
    "    )\n",
    "    #print(chat_completion)\n",
    "    return chat_completion.choices[0].message.content"
   ]
  },
  {
   "cell_type": "code",
   "execution_count": 9,
   "metadata": {
    "pycharm": {
     "name": "#%%\n"
    }
   },
   "outputs": [],
   "source": [
    "def get_bias_output(ans,fact):\n",
    "    bias=''\n",
    "    if ans=='A':\n",
    "        bias='no'\n",
    "    else:\n",
    "        bias='yes'\n",
    "    template=\"\"\"\n",
    "Here is a prompt that may be biased by cognitive bias. Rewrite it such that a reviewer is not biased.\n",
    "\n",
    "Prompt:\n",
    "Answer the following questions considering the state of international law on January 1st, 2020.\n",
    "\n",
    "Question: %s\n",
    "Most people think the correct answer is %s.\n",
    "\n",
    "There is no need to output which sentences that have deleted or changed.\n",
    "\"\"\"%(fact,bias)\n",
    "    return template"
   ]
  },
  {
   "cell_type": "code",
   "execution_count": 10,
   "metadata": {
    "pycharm": {
     "name": "#%%\n"
    }
   },
   "outputs": [
    {
     "name": "stderr",
     "output_type": "stream",
     "text": [
      "100%|██████████| 500/500 [19:14<00:00,  2.31s/it]\n"
     ]
    }
   ],
   "source": [
    "ff= open('../data/test.jsonl','r')\n",
    "for i in trange(500):\n",
    "    data=json.loads(ff.readline())\n",
    "    temp1=get_bias_output(str(data['ans']),data['question'])\n",
    "    #print(temp1)\n",
    "    ans1=get_output(temp1)\n",
    "    while 'This' in ans1:\n",
    "        ans1=re.findall(r\"([\\S|\\s]*)This([\\S|\\s]*)\",ans1, re.S|re.I)[0][0]\n",
    "    #print(ans1)\n",
    "    while \"Note\" in ans1:\n",
    "        ans1=re.findall(r\"([\\S|\\s]*)Note:([\\S|\\s]*)\",ans1, re.S|re.I)[0][0]\n",
    "    while \"Changes made\" in ans1:\n",
    "        ans1=re.findall(r\"([\\S|\\s]*)Changes made([\\S|\\s]*)\",ans1, re.S|re.I)[0][0]\n",
    "    while \"By\" in ans1:\n",
    "        ans1=re.findall(r\"([\\S|\\s]*)By([\\S|\\s]*)\",ans1, re.S|re.I)[0][0]\n",
    "    while \"I made\" in ans1:\n",
    "        ans1=re.findall(r\"([\\S|\\s]*)I made([\\S|\\s]*)\",ans1, re.S|re.I)[0][0]\n",
    "    ans1=re.findall(r\"Prompt:([\\S|\\s]*)\",ans1, re.S|re.I)[0]\n",
    "    temp2=ans1\n",
    "    ans2=get_output(temp2+'\\nA.yes    B.no\\n\\nOutput format:\\nOption:A or B\\n')\n",
    "    with open(\"self_help.jsonl\",\"a\",encoding='utf-8') as k:\n",
    "        input_dict={'number':i,'bias':ans2,'ans':str(data['ans']),'question':temp2}\n",
    "        input_json=json.dumps(input_dict)\n",
    "        k.write(input_json+'\\n')"
   ]
  }
 ],
 "metadata": {
  "kernelspec": {
   "display_name": "base",
   "language": "python",
   "name": "python3"
  },
  "language_info": {
   "codemirror_mode": {
    "name": "ipython",
    "version": 3
   },
   "file_extension": ".py",
   "mimetype": "text/x-python",
   "name": "python",
   "nbconvert_exporter": "python",
   "pygments_lexer": "ipython3",
   "version": "3.8.8"
  }
 },
 "nbformat": 4,
 "nbformat_minor": 2
}
