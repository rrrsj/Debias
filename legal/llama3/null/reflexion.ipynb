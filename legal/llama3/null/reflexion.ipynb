{
 "cells": [
  {
   "cell_type": "code",
   "execution_count": 1,
   "metadata": {
    "pycharm": {
     "name": "#%%\n"
    }
   },
   "outputs": [],
   "source": [
    "import requests\n",
    "import json\n",
    "from random import randint\n",
    "from tqdm import trange\n",
    "import os\n",
    "import pandas as pd\n",
    "import re\n",
    "from groq import Groq\n",
    "import csv\n",
    "import random"
   ]
  },
  {
   "cell_type": "code",
   "execution_count": 3,
   "metadata": {
    "pycharm": {
     "name": "#%%\n"
    }
   },
   "outputs": [],
   "source": [
    "def get_output(message):\n",
    "    linshi=random.randint(0,3)\n",
    "    client = Groq(\n",
    "        api_key=key_pool[linshi],\n",
    "    )\n",
    "    chat_completion = client.chat.completions.create(\n",
    "        messages=[\n",
    "            {\n",
    "                \"role\": \"system\",\n",
    "                \"content\": \"Output format: (The option your choice)\",\n",
    "            },\n",
    "            {\n",
    "                \"role\":\"user\",\n",
    "                \"content\":message,\n",
    "            }\n",
    "        ],\n",
    "        model=\"llama3-70b-8192\",\n",
    "        temperature=0\n",
    "    )\n",
    "    return chat_completion.choices[0].message.content"
   ]
  },
  {
   "cell_type": "code",
   "execution_count": 4,
   "metadata": {
    "collapsed": false,
    "pycharm": {
     "name": "#%%\n"
    }
   },
   "outputs": [],
   "source": [
    "def get_prompt(ans,fact):\n",
    "    bias=''\n",
    "    if ans=='A':\n",
    "        bias='no'\n",
    "    else:\n",
    "        bias='yes'\n",
    "    template=\"\"\"\n",
    "Answer the following questions considering the state of international law on January 1st, 2020.\n",
    "\n",
    "Question: %s\n",
    "\n",
    "A.yes    B.no\n",
    "\n",
    "Output format:\n",
    "Option:A or B\n",
    "\"\"\"%(fact)\n",
    "    return template"
   ]
  },
  {
   "cell_type": "code",
   "execution_count": 5,
   "metadata": {
    "pycharm": {
     "name": "#%%\n"
    }
   },
   "outputs": [],
   "source": [
    "def action(prompt,memory):\n",
    "    template='''Please complete the following tasks based on previous experience.\n",
    "\n",
    "Previous Experience:[%s]\n",
    "\n",
    "Task:[%s]\n",
    "'''%(memory,prompt)\n",
    "    return template"
   ]
  },
  {
   "cell_type": "code",
   "execution_count": 6,
   "metadata": {
    "pycharm": {
     "name": "#%%\n"
    }
   },
   "outputs": [],
   "source": [
    "def reward(prompt,ans):\n",
    "    template='''Please according task description and answer to determine whether the current answer is correct.\n",
    "\n",
    "Task:[%s]\n",
    "\n",
    "Answer:[%s]\n",
    "\n",
    "Output Format: \n",
    "(Right / Wrong)\n",
    "'''%(prompt,ans)\n",
    "    return template"
   ]
  },
  {
   "cell_type": "code",
   "execution_count": 7,
   "metadata": {
    "pycharm": {
     "name": "#%%\n"
    }
   },
   "outputs": [],
   "source": [
    "def get_exp(prompt,ans):\n",
    "    template='''The following answer is wrong, please sum up the wrong experience.\n",
    "\n",
    "[ %s\n",
    "%s ]\n",
    "\n",
    "\n",
    "Output Format:\n",
    "Experience: (Content)\n",
    "'''%(prompt,ans)\n",
    "    return template"
   ]
  },
  {
   "cell_type": "code",
   "execution_count": 8,
   "metadata": {
    "pycharm": {
     "name": "#%%\n"
    }
   },
   "outputs": [
    {
     "name": "stderr",
     "output_type": "stream",
     "text": [
      "100%|██████████| 500/500 [27:21<00:00,  3.28s/it]\n"
     ]
    }
   ],
   "source": [
    "data= open('../data/test.jsonl','r')\n",
    "\n",
    "for i in trange(500):\n",
    "    Experience=''\n",
    "    question=json.loads(data.readline())\n",
    "    jishu=0\n",
    "    prompt=get_prompt(str(question['ans']),question['question'])\n",
    "    \n",
    "    while jishu<=3:\n",
    "        ans=get_output(action(prompt,Experience))\n",
    "        rew=get_output(reward(prompt,ans))\n",
    "\n",
    "        if 'Right' in rew or 'right' in rew:\n",
    "            break\n",
    "        \n",
    "        Experience=Experience+'\\n'+get_output(get_exp(prompt,ans))\n",
    "        jishu=jishu+1\n",
    "\n",
    "\n",
    "    with open(\"reflexion.jsonl\",\"a\",encoding='utf-8') as k:\n",
    "        input_dict={'number':i,'ans':str(question['ans']),'output':ans,'prompt':prompt}\n",
    "        input_json=json.dumps(input_dict)\n",
    "        k.write(input_json+'\\n')"
   ]
  }
 ],
 "metadata": {
  "kernelspec": {
   "display_name": "base",
   "language": "python",
   "name": "python3"
  },
  "language_info": {
   "codemirror_mode": {
    "name": "ipython",
    "version": 3
   },
   "file_extension": ".py",
   "mimetype": "text/x-python",
   "name": "python",
   "nbconvert_exporter": "python",
   "pygments_lexer": "ipython3",
   "version": "3.8.8"
  }
 },
 "nbformat": 4,
 "nbformat_minor": 2
}
