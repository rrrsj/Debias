{
 "cells": [
  {
   "cell_type": "code",
   "execution_count": 1,
   "metadata": {
    "pycharm": {
     "name": "#%%\n"
    }
   },
   "outputs": [],
   "source": [
    "import json\n",
    "import re\n",
    "import sys\n",
    "\n",
    "f=open(\"output.txt\", \"w\")\n",
    "# 保存原来的标准输出\n",
    "original_stdout = sys.stdout\n",
    "# 重定向标准输出到文件\n",
    "#sys.stdout = f"
   ]
  },
  {
   "cell_type": "code",
   "execution_count": 2,
   "metadata": {
    "pycharm": {
     "name": "#%%\n"
    }
   },
   "outputs": [],
   "source": [
    "def find_num(path):\n",
    "    f=open(path,'r')\n",
    "    right=0\n",
    "    wrong=0\n",
    "    for i in range(500):\n",
    "        now=json.loads(f.readline())\n",
    "        try:\n",
    "            while 'answer is' in now['bias']:\n",
    "                now['bias']=re.findall(r\"answer is([\\S|\\s]*)\",now['bias'], re.S|re.I)[0]\n",
    "            now['bias']=re.findall(r\"Option([\\S|\\s]*)\",now['bias'], re.S|re.I)[0]\n",
    "        except:\n",
    "            a=1\n",
    "        #print(i,now['bias'])\n",
    "        if ('B' in now['bias']  or 'No' in now['bias'] or 'no' in now['bias']) and 'B' in now['ans']:\n",
    "            right=right+1\n",
    "        elif ('A' in now['bias']  or 'Yes' in now['bias'] or 'yes' in now['bias']) and 'A' in now['ans']:\n",
    "            right=right+1\n",
    "        else:\n",
    "            wrong=wrong+1\n",
    "    print(right/500,wrong,right+wrong)"
   ]
  },
  {
   "cell_type": "code",
   "execution_count": 3,
   "metadata": {
    "pycharm": {
     "name": "#%%\n"
    }
   },
   "outputs": [],
   "source": [
    "def find_num_methods(path):\n",
    "    f=open(path,'r')\n",
    "    right=0\n",
    "    wrong=0\n",
    "    for i in range(500):\n",
    "        now=json.loads(f.readline())\n",
    "        try:\n",
    "            while 'the correct answer is' in now['output']:\n",
    "                now['output']=re.findall(r\"correct answer is([\\S|\\s]*)\",now['output'], re.S|re.I)[0]\n",
    "            now['output']=re.findall(r\"Option([\\S|\\s]*)\",now['output'], re.S|re.I)[0]\n",
    "        except:\n",
    "            a=1\n",
    "        if ('B' in now['output']  or 'No' in now['output'] or 'no' in now['output']) and 'B' in now['ans']:\n",
    "            right=right+1\n",
    "        elif ('A' in now['output']  or 'Yes' in now['output'] or  'yes' in now['output']) and 'A' in now['ans']:\n",
    "            right=right+1\n",
    "        else:\n",
    "            wrong=wrong+1\n",
    "    print(right/500,wrong,right+wrong)"
   ]
  },
  {
   "cell_type": "code",
   "execution_count": 4,
   "metadata": {
    "pycharm": {
     "name": "#%%\n"
    }
   },
   "outputs": [
    {
     "name": "stdout",
     "output_type": "stream",
     "text": [
      "0.942 29 500\n",
      "0.592 204 500\n",
      "0.644 178 500\n",
      "0.56 220 500\n",
      "0.684 158 500\n",
      "0.802 99 500\n",
      "0.648 176 500\n",
      "0.83 85 500\n",
      "0.886 57 500\n",
      "0.748 126 500\n",
      "0.594 203 500\n",
      "0.61 195 500\n"
     ]
    }
   ],
   "source": [
    "find_num(\"./ground_true.jsonl\")\n",
    "find_num(\"./anchor/anchor_llama3.jsonl\")\n",
    "find_num(\"./anchor/no_bias.jsonl\")\n",
    "find_num(\"./anchor/few_shot.jsonl\")\n",
    "find_num(\"./anchor/few_shot1.jsonl\")\n",
    "find_num(\"./anchor/cot.jsonl\")\n",
    "find_num(\"./anchor/self_help.jsonl\")\n",
    "find_num_methods(\"./anchor/anchor_llama3_method.jsonl\")\n",
    "find_num_methods(\"./anchor/without_while.jsonl\")\n",
    "find_num_methods(\"./anchor/without_think.jsonl\")\n",
    "find_num_methods(\"./anchor/multi_debate.jsonl\")\n",
    "find_num_methods(\"./anchor/reflexion.jsonl\")"
   ]
  },
  {
   "cell_type": "code",
   "execution_count": 5,
   "metadata": {
    "collapsed": false,
    "pycharm": {
     "name": "#%%\n"
    }
   },
   "outputs": [
    {
     "name": "stdout",
     "output_type": "stream",
     "text": [
      "0.942 29 500\n",
      "0.078 461 500\n",
      "0.176 412 500\n",
      "0.576 212 500\n",
      "0.424 288 500\n",
      "0.622 189 500\n",
      "0.788 106 500\n",
      "0.924 38 500\n",
      "0.842 79 500\n",
      "0.738 131 500\n",
      "0.068 466 500\n",
      "0.566 217 500\n"
     ]
    }
   ],
   "source": [
    "find_num(\"./ground_true.jsonl\")\n",
    "find_num(\"./many_people/many_llama3.jsonl\")\n",
    "find_num(\"./many_people/no_bias.jsonl\")\n",
    "find_num(\"./many_people/few_shot.jsonl\")\n",
    "find_num(\"./many_people/few_shot1.jsonl\")\n",
    "find_num(\"./many_people/cot.jsonl\")\n",
    "find_num(\"./many_people/self_help.jsonl\")\n",
    "find_num_methods(\"./many_people/many_llama3_method.jsonl\")\n",
    "find_num_methods(\"./many_people/without_while.jsonl\")\n",
    "find_num_methods(\"./many_people/without_think.jsonl\")\n",
    "find_num_methods(\"./many_people/multi_debate.jsonl\")\n",
    "find_num_methods(\"./many_people/reflexion.jsonl\")"
   ]
  },
  {
   "cell_type": "code",
   "execution_count": 6,
   "metadata": {
    "pycharm": {
     "name": "#%%\n"
    }
   },
   "outputs": [
    {
     "name": "stdout",
     "output_type": "stream",
     "text": [
      "0.942 29 500\n",
      "0.864 68 500\n",
      "0.818 91 500\n",
      "0.516 242 500\n",
      "0.866 67 500\n",
      "0.842 79 500\n",
      "0.84 80 500\n",
      "0.874 63 500\n",
      "0.882 59 500\n",
      "0.824 88 500\n",
      "0.7 150 500\n",
      "0.638 181 500\n"
     ]
    }
   ],
   "source": [
    "find_num(\"./ground_true.jsonl\")\n",
    "find_num(\"./loss/loss_llama3.jsonl\")\n",
    "find_num(\"./loss/no_bias.jsonl\")\n",
    "find_num(\"./loss/few_shot.jsonl\")\n",
    "find_num(\"./loss/few_shot1.jsonl\")\n",
    "find_num(\"./loss/cot.jsonl\")\n",
    "find_num(\"./loss/self_help.jsonl\")\n",
    "find_num_methods(\"./loss/loss_llama3_method.jsonl\")\n",
    "find_num_methods(\"./loss/without_while.jsonl\")\n",
    "find_num_methods(\"./loss/without_think.jsonl\")\n",
    "find_num_methods(\"./loss/multi_debate.jsonl\")\n",
    "find_num_methods(\"./loss/reflexion.jsonl\")"
   ]
  },
  {
   "cell_type": "code",
   "execution_count": 7,
   "metadata": {
    "pycharm": {
     "name": "#%%\n"
    }
   },
   "outputs": [
    {
     "name": "stdout",
     "output_type": "stream",
     "text": [
      "0.942 29 500\n",
      "0 0 0\n",
      "0.908 46 500\n",
      "0.864 68 500\n",
      "0.91 45 500\n",
      "0.864 68 500\n",
      "0.66 170 500\n",
      "0.954 23 500\n",
      "0.668 166 500\n",
      "0.874 63 500\n",
      "0.794 103 500\n",
      "0.742 129 500\n"
     ]
    }
   ],
   "source": [
    "find_num(\"./ground_true.jsonl\")\n",
    "print(0,0,0)\n",
    "find_num(\"./null/no_bias.jsonl\")\n",
    "find_num(\"./null/few_shot.jsonl\")\n",
    "find_num(\"./null/few_shot1.jsonl\")\n",
    "find_num(\"./null/cot.jsonl\")\n",
    "find_num(\"./null/self_help.jsonl\")\n",
    "find_num_methods(\"./null/null_llama3_method.jsonl\")\n",
    "find_num_methods(\"./null/without_while.jsonl\")\n",
    "find_num_methods(\"./null/without_think.jsonl\")\n",
    "find_num_methods(\"./null/multi_debate.jsonl\")\n",
    "find_num_methods(\"./null/reflexion.jsonl\")"
   ]
  },
  {
   "cell_type": "code",
   "execution_count": 8,
   "metadata": {
    "pycharm": {
     "name": "#%%\n"
    }
   },
   "outputs": [
    {
     "name": "stdout",
     "output_type": "stream",
     "text": [
      "0.942 29 500\n",
      "0.02 490 500\n",
      "0.208 396 500\n",
      "0.044 478 500\n",
      "0.056 472 500\n",
      "0.116 442 500\n",
      "0.88 60 500\n",
      "0.886 57 500\n",
      "0.894 53 500\n",
      "0.778 111 500\n",
      "0.034 483 500\n",
      "0.036 482 500\n"
     ]
    }
   ],
   "source": [
    "find_num(\"./ground_true.jsonl\")\n",
    "find_num(\"./all/all_llama3.jsonl\")\n",
    "find_num(\"./all/no_bias.jsonl\")\n",
    "find_num(\"./all/few_shot.jsonl\")\n",
    "find_num(\"./all/few_shot1.jsonl\")\n",
    "find_num(\"./all/cot.jsonl\")\n",
    "find_num(\"./all/self_help.jsonl\")\n",
    "find_num_methods(\"./all/all_llama3_method.jsonl\")\n",
    "find_num_methods(\"./all/without_while.jsonl\")\n",
    "find_num_methods(\"./all/without_think.jsonl\")\n",
    "find_num_methods(\"./all/multi_debate.jsonl\")\n",
    "find_num_methods(\"./all/reflexion.jsonl\")"
   ]
  }
 ],
 "metadata": {
  "kernelspec": {
   "display_name": "base",
   "language": "python",
   "name": "python3"
  },
  "language_info": {
   "codemirror_mode": {
    "name": "ipython",
    "version": 3
   },
   "file_extension": ".py",
   "mimetype": "text/x-python",
   "name": "python",
   "nbconvert_exporter": "python",
   "pygments_lexer": "ipython3",
   "version": "3.8.8"
  }
 },
 "nbformat": 4,
 "nbformat_minor": 2
}
