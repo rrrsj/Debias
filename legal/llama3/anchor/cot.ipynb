{
 "cells": [
  {
   "cell_type": "code",
   "execution_count": 1,
   "metadata": {
    "pycharm": {
     "name": "#%%\n"
    }
   },
   "outputs": [],
   "source": [
    "import requests\n",
    "import json\n",
    "from random import randint\n",
    "from tqdm import trange\n",
    "import os\n",
    "import pandas as pd\n",
    "import re\n",
    "from groq import Groq\n",
    "import csv\n",
    "import random"
   ]
  },
  {
   "cell_type": "code",
   "execution_count": 3,
   "metadata": {
    "pycharm": {
     "name": "#%%\n"
    }
   },
   "outputs": [],
   "source": [
    "def get_output(message):\n",
    "    linshi=random.randint(0,4)\n",
    "    client = Groq(\n",
    "        api_key=key_pool[linshi],\n",
    "    )\n",
    "    chat_completion = client.chat.completions.create(\n",
    "        messages=[\n",
    "            {\n",
    "                \"role\": \"system\",\n",
    "                \"content\": message,\n",
    "            }\n",
    "        ],\n",
    "        model=\"llama3-70b-8192\",\n",
    "        temperature=0\n",
    "    )\n",
    "    return chat_completion.choices[0].message.content"
   ]
  },
  {
   "cell_type": "code",
   "execution_count": 4,
   "metadata": {
    "pycharm": {
     "name": "#%%\n"
    }
   },
   "outputs": [],
   "source": [
    "def get_bias_output(ans,fact):\n",
    "    bias=''\n",
    "    if ans=='A':\n",
    "        bias='Among all the questions, 30% of them have the answer is yes and 70% have the answer is no.'\n",
    "    else:\n",
    "        bias='Among all the questions, 70% of them have the answer is yes and 30% have the answer is no.'\n",
    "    template=\"\"\"\n",
    "Answer the following questions considering the state of international law on January 1st, 2020.\n",
    "%s\n",
    "\n",
    "Question: %s\n",
    "\n",
    "A.yes    B.no\n",
    "\n",
    "Please think step by step.\n",
    "\n",
    "Output format:\n",
    "Think: (All mid step you think)\n",
    "Option:A or B\n",
    "\"\"\"%(bias,fact)\n",
    "    return template"
   ]
  },
  {
   "cell_type": "code",
   "execution_count": 5,
   "metadata": {
    "pycharm": {
     "name": "#%%\n"
    }
   },
   "outputs": [
    {
     "name": "stderr",
     "output_type": "stream",
     "text": [
      "100%|██████████| 500/500 [12:55<00:00,  1.55s/it]\n"
     ]
    }
   ],
   "source": [
    "f=open(\"../data/test.jsonl\")\n",
    "for i in trange(500):\n",
    "    now=json.loads(f.readline())\n",
    "    temp1=get_bias_output(str(now['ans']),now['question'])\n",
    "    #print(temp1)\n",
    "    ans1=get_output(temp1)\n",
    "    with open(\"cot.jsonl\",\"a\",encoding='utf-8') as k:\n",
    "        input_dict={'number':i,'bias':ans1,'ans':str(now['ans'])}\n",
    "        input_json=json.dumps(input_dict)\n",
    "        k.write(input_json+'\\n')\n",
    "\n"
   ]
  }
 ],
 "metadata": {
  "kernelspec": {
   "display_name": "base",
   "language": "python",
   "name": "python3"
  },
  "language_info": {
   "codemirror_mode": {
    "name": "ipython",
    "version": 3
   },
   "file_extension": ".py",
   "mimetype": "text/x-python",
   "name": "python",
   "nbconvert_exporter": "python",
   "pygments_lexer": "ipython3",
   "version": "3.8.8"
  }
 },
 "nbformat": 4,
 "nbformat_minor": 2
}
