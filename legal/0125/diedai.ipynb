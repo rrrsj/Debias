{
 "cells": [
  {
   "cell_type": "code",
   "execution_count": 61,
   "metadata": {
    "pycharm": {
     "name": "#%%\n"
    }
   },
   "outputs": [],
   "source": [
    "import json\n",
    "import re\n",
    "import sys\n"
   ]
  },
  {
   "cell_type": "code",
   "execution_count": 62,
   "metadata": {
    "pycharm": {
     "name": "#%%\n"
    }
   },
   "outputs": [],
   "source": [
    "def find_num_methods(path):\n",
    "    f=open(path,'r')\n",
    "    right=[0,0,0]\n",
    "    wrong=[0,0,0]\n",
    "    a=0\n",
    "\n",
    "\n",
    "    for i in range(500):\n",
    "        now=json.loads(f.readline())\n",
    "\n",
    "        while len(now['output'])<3:\n",
    "            try:\n",
    "                now['output'].append(now['output'][-1])\n",
    "            except:\n",
    "                now['output'].append('A')\n",
    "\n",
    "        for j in range(3):\n",
    "            try:\n",
    "                pred_ans=re.findall(r\"Option([\\S|\\s]*)\",now['output'][j], re.S|re.I)[0]\n",
    "            except:\n",
    "                pred_ans=now['output'][j]\n",
    "            if ('B' in pred_ans  or 'No' in pred_ans or 'no' in pred_ans) and 'B' in now['ans']:\n",
    "                right[j]=right[j]+1\n",
    "            elif ('A' in pred_ans  or 'Yes' in pred_ans or  'yes' in pred_ans) and 'A' in now['ans']:\n",
    "                right[j]=right[j]+1\n",
    "            else:\n",
    "                wrong[j]=wrong[j]+1\n",
    "    print(right[0]/500)\n",
    "    print(right[1]/500)\n",
    "    print(right[2]/500)"
   ]
  },
  {
   "cell_type": "code",
   "execution_count": 63,
   "outputs": [
    {
     "name": "stdout",
     "output_type": "stream",
     "text": [
      "0.756\n",
      "0.782\n",
      "0.784\n"
     ]
    }
   ],
   "source": [
    "find_num_methods('./all/diedai1.jsonl')"
   ],
   "metadata": {
    "collapsed": false,
    "pycharm": {
     "name": "#%%\n"
    }
   }
  },
  {
   "cell_type": "code",
   "execution_count": 64,
   "outputs": [
    {
     "name": "stdout",
     "output_type": "stream",
     "text": [
      "0.768\n",
      "0.776\n",
      "0.776\n"
     ]
    }
   ],
   "source": [
    "find_num_methods('./anchor/diedai.jsonl')"
   ],
   "metadata": {
    "collapsed": false,
    "pycharm": {
     "name": "#%%\n"
    }
   }
  },
  {
   "cell_type": "code",
   "execution_count": 65,
   "outputs": [
    {
     "name": "stdout",
     "output_type": "stream",
     "text": [
      "0.778\n",
      "0.724\n",
      "0.696\n"
     ]
    }
   ],
   "source": [
    "find_num_methods('./many_people/diedai.jsonl')"
   ],
   "metadata": {
    "collapsed": false,
    "pycharm": {
     "name": "#%%\n"
    }
   }
  }
 ],
 "metadata": {
  "kernelspec": {
   "display_name": "base",
   "language": "python",
   "name": "python3"
  },
  "language_info": {
   "codemirror_mode": {
    "name": "ipython",
    "version": 3
   },
   "file_extension": ".py",
   "mimetype": "text/x-python",
   "name": "python",
   "nbconvert_exporter": "python",
   "pygments_lexer": "ipython3",
   "version": "3.8.8"
  }
 },
 "nbformat": 4,
 "nbformat_minor": 2
}