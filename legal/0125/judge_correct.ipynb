{
 "cells": [
  {
   "cell_type": "code",
   "execution_count": 10,
   "metadata": {},
   "outputs": [],
   "source": [
    "import json\n",
    "import re\n",
    "import sys\n",
    "\n",
    "f=open(\"output.txt\", \"w\")\n",
    "# 保存原来的标准输出\n",
    "original_stdout = sys.stdout\n",
    "# 重定向标准输出到文件\n",
    "#sys.stdout = f"
   ]
  },
  {
   "cell_type": "code",
   "execution_count": 11,
   "metadata": {},
   "outputs": [],
   "source": [
    "def find_num(path):\n",
    "    f=open(path,'r')\n",
    "    right=0\n",
    "    wrong=0\n",
    "    for i in range(500):\n",
    "        now=json.loads(f.readline())\n",
    "        try:\n",
    "            now['bias']=re.findall(r\"Option([\\S|\\s]*)\",now['bias'], re.S|re.I)[0]\n",
    "        except:\n",
    "            a=1\n",
    "        if ('B' in now['bias']  or 'No' in now['bias'] or 'no' in now['bias']) and 'B' in now['ans']:\n",
    "            right=right+1\n",
    "        elif ('A' in now['bias']  or 'Yes' in now['bias'] or 'yes' in now['bias']) and 'A' in now['ans']:\n",
    "            right=right+1\n",
    "        else:\n",
    "            wrong=wrong+1\n",
    "    print(right/500,wrong,right+wrong)"
   ]
  },
  {
   "cell_type": "code",
   "execution_count": 12,
   "metadata": {},
   "outputs": [],
   "source": [
    "def find_num_methods(path):\n",
    "    f=open(path,'r')\n",
    "    right=0\n",
    "    wrong=0\n",
    "    for i in range(500):\n",
    "        now=json.loads(f.readline())\n",
    "        try:\n",
    "            now['output']=re.findall(r\"Option([\\S|\\s]*)\",now['output'], re.S|re.I)[0]\n",
    "        except:\n",
    "            a=1\n",
    "        if ('B' in now['output']  or 'No' in now['output'] or 'no' in now['output']) and 'B' in now['ans']:\n",
    "            right=right+1\n",
    "        elif ('A' in now['output']  or 'Yes' in now['output'] or  'yes' in now['output']) and 'A' in now['ans']:\n",
    "            right=right+1\n",
    "        else:\n",
    "            wrong=wrong+1\n",
    "    print(right/500,wrong,right+wrong)"
   ]
  },
  {
   "cell_type": "code",
   "execution_count": 13,
   "metadata": {},
   "outputs": [
    {
     "name": "stdout",
     "output_type": "stream",
     "text": [
      "0.942 29 500\n",
      "0.796 102 500\n",
      "0.82 90 500\n",
      "0.88 60 500\n",
      "0.772 114 500\n",
      "0.884 58 500\n",
      "0.418 291 500\n",
      "0.914 43 500\n",
      "0.854 73 500\n",
      "0.608 196 500\n",
      "0.732 134 500\n"
     ]
    }
   ],
   "source": [
    "find_num(\"./ground_true.jsonl\")\n",
    "find_num(\"./anchor/anchor_0125.jsonl\")\n",
    "find_num(\"./anchor/no_bias.jsonl\")\n",
    "find_num(\"./anchor/few_shot.jsonl\")\n",
    "find_num(\"./anchor/few_shot1.jsonl\")\n",
    "find_num(\"./anchor/cot.jsonl\")\n",
    "find_num(\"./anchor/self_help.jsonl\")\n",
    "find_num_methods(\"./anchor/anchor_0125_method.jsonl\")\n",
    "find_num_methods(\"./anchor/without_while.jsonl\")\n",
    "find_num_methods(\"./anchor/without_think.jsonl\")\n",
    "find_num_methods(\"./anchor/multi_debate.jsonl\")"
   ]
  },
  {
   "cell_type": "code",
   "execution_count": 14,
   "metadata": {},
   "outputs": [
    {
     "name": "stdout",
     "output_type": "stream",
     "text": [
      "0.942 29 500\n",
      "0.544 228 500\n",
      "0.694 153 500\n",
      "0.51 245 500\n",
      "0.81 95 500\n",
      "0.67 165 500\n",
      "0.77 115 500\n",
      "0.846 77 500\n",
      "0.824 88 500\n",
      "0.638 181 500\n",
      "0.286 357 500\n"
     ]
    }
   ],
   "source": [
    "find_num(\"./ground_true.jsonl\")\n",
    "find_num(\"./many_people/many_0125.jsonl\")\n",
    "find_num(\"./many_people/no_bias.jsonl\")\n",
    "find_num(\"./many_people/few_shot.jsonl\")\n",
    "find_num(\"./many_people/few_shot1.jsonl\")\n",
    "find_num(\"./many_people/cot.jsonl\")\n",
    "find_num(\"./many_people/self_help.jsonl\")\n",
    "find_num_methods(\"./many_people/many_0125_method.jsonl\")\n",
    "find_num_methods(\"./many_people/without_while.jsonl\")\n",
    "find_num_methods(\"./many_people/without_think.jsonl\")\n",
    "find_num_methods(\"./many_people/multi_debate.jsonl\")"
   ]
  },
  {
   "cell_type": "code",
   "execution_count": 15,
   "metadata": {},
   "outputs": [
    {
     "name": "stdout",
     "output_type": "stream",
     "text": [
      "0.942 29 500\n",
      "0.674 163 500\n",
      "0.704 148 500\n",
      "0.842 79 500\n",
      "0.622 189 500\n",
      "0.792 104 500\n",
      "0.62 190 500\n",
      "0.838 81 500\n",
      "0.802 99 500\n",
      "0.68 160 500\n"
     ]
    }
   ],
   "source": [
    "find_num(\"./ground_true.jsonl\")\n",
    "find_num(\"./loss/loss_0125.jsonl\")\n",
    "find_num(\"./loss/no_bias.jsonl\")\n",
    "find_num(\"./loss/few_shot.jsonl\")\n",
    "find_num(\"./loss/few_shot1.jsonl\")\n",
    "find_num(\"./loss/cot.jsonl\")\n",
    "find_num(\"./loss/self_help.jsonl\")\n",
    "find_num_methods(\"./loss/loss_0125_method.jsonl\")\n",
    "find_num_methods(\"./loss/without_while.jsonl\")\n",
    "find_num_methods(\"./loss/without_think.jsonl\")"
   ]
  },
  {
   "cell_type": "code",
   "execution_count": 16,
   "metadata": {},
   "outputs": [
    {
     "name": "stdout",
     "output_type": "stream",
     "text": [
      "0.942 29 500\n",
      "0 0 0 0\n",
      "0.878 61 500\n",
      "0.888 56 500\n",
      "0.882 59 500\n",
      "0.938 31 500\n",
      "0.716 142 500\n",
      "0.808 96 500\n",
      "0.664 168 500\n",
      "0.922 39 500\n"
     ]
    }
   ],
   "source": [
    "find_num(\"./ground_true.jsonl\")\n",
    "print(0,0,0,0)\n",
    "find_num(\"./null/no_bias.jsonl\")\n",
    "find_num(\"./null/few_shot.jsonl\")\n",
    "find_num(\"./null/few_shot1.jsonl\")\n",
    "find_num(\"./null/cot.jsonl\")\n",
    "find_num(\"./null/self_help.jsonl\")\n",
    "find_num_methods(\"./null/null_0125_method.jsonl\")\n",
    "find_num_methods(\"./null/without_while.jsonl\")\n",
    "find_num_methods(\"./null/without_think.jsonl\")"
   ]
  },
  {
   "cell_type": "code",
   "execution_count": 17,
   "metadata": {},
   "outputs": [
    {
     "name": "stdout",
     "output_type": "stream",
     "text": [
      "0.942 29 500\n",
      "0.218 391 500\n",
      "0.144 428 500\n",
      "0.48 260 500\n",
      "0.432 284 500\n",
      "0.434 283 500\n",
      "0.124 438 500\n",
      "0.784 108 500\n",
      "0.786 107 500\n",
      "0.634 183 500\n"
     ]
    }
   ],
   "source": [
    "find_num(\"./ground_true.jsonl\")\n",
    "find_num(\"./all/all_0125.jsonl\")\n",
    "find_num(\"./all/no_bias.jsonl\")\n",
    "find_num(\"./all/few_shot.jsonl\")\n",
    "find_num(\"./all/few_shot1.jsonl\")\n",
    "find_num(\"./all/cot.jsonl\")\n",
    "find_num(\"./all/self_help.jsonl\")\n",
    "find_num_methods(\"./all/all_0125_method.jsonl\")\n",
    "find_num_methods(\"./all/without_while.jsonl\")\n",
    "find_num_methods(\"./all/without_think.jsonl\")"
   ]
  }
 ],
 "metadata": {
  "kernelspec": {
   "display_name": "base",
   "language": "python",
   "name": "python3"
  },
  "language_info": {
   "codemirror_mode": {
    "name": "ipython",
    "version": 3
   },
   "file_extension": ".py",
   "mimetype": "text/x-python",
   "name": "python",
   "nbconvert_exporter": "python",
   "pygments_lexer": "ipython3",
   "version": "3.8.8"
  }
 },
 "nbformat": 4,
 "nbformat_minor": 2
}
