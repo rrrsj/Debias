{
 "cells": [
  {
   "cell_type": "code",
   "execution_count": 1,
   "metadata": {},
   "outputs": [],
   "source": [
    "import requests\n",
    "import json\n",
    "from random import randint\n",
    "from tqdm import trange\n",
    "from openai import OpenAI\n",
    "import os\n",
    "import pandas as pd\n",
    "import pyarrow.parquet as pq\n",
    "import re"
   ]
  },
  {
   "cell_type": "code",
   "execution_count": 3,
   "metadata": {},
   "outputs": [],
   "source": [
    "def get_output(message):\n",
    "    response = client.chat.completions.create(\n",
    "    model=\"gpt-3.5-turbo-0125\",\n",
    "    messages=[\n",
    "        {\"role\": \"system\", \"content\": message}\n",
    "    ],\n",
    "    temperature=0\n",
    "    )\n",
    "    response_message=json.loads(response.model_dump_json())\n",
    "    return response_message['choices'][0]['message']['content']"
   ]
  },
  {
   "cell_type": "code",
   "execution_count": 4,
   "metadata": {},
   "outputs": [],
   "source": [
    "def get_prompt(ans,fact):\n",
    "    bias=''\n",
    "    if ans=='A':\n",
    "        bias='B'\n",
    "    else:\n",
    "        bias='A'\n",
    "    bias1=''\n",
    "    bias2=''\n",
    "    if ans=='A':\n",
    "        bias1='If you choice A and A is wrong option, there will be severe punishment.'\n",
    "        bias2='If you choice B and B is wrong option, there will be no punishment.'\n",
    "    else:\n",
    "        bias2='If you choice B and B is wrong option, there will be severe punishment.'\n",
    "        bias1='If you choice A and A is wrong option, there will be no punishment.'\n",
    "    bias3=''\n",
    "    if ans=='A':\n",
    "        bias3='Among all the questions, 30% of them have the answer A and 70% have the answer B.'\n",
    "    else:\n",
    "        bias3='Among all the questions, 70% of them have the answer A and 30% have the answer B.'\n",
    "    \n",
    "    template='''\n",
    "Does the clause contain a license granted by one party to its counterparty?\n",
    "%s\n",
    "%s\n",
    "%s\n",
    "\n",
    "Clause: %s\n",
    "Most people think the correct answer is %s.\n",
    "\n",
    "A.yes    B.no\n",
    "\n",
    "Output format:\n",
    "Option:A or B\n",
    "'''%(bias3,bias1,bias2,fact,bias)\n",
    "    return template"
   ]
  },
  {
   "cell_type": "code",
   "execution_count": 5,
   "metadata": {},
   "outputs": [],
   "source": [
    "def action(prompt,memory):\n",
    "    template='''Please complete the following tasks based on previous experience.\n",
    "\n",
    "Previous Experience:[%s]\n",
    "\n",
    "Task:[%s]\n",
    "'''%(memory,prompt)\n",
    "    return template"
   ]
  },
  {
   "cell_type": "code",
   "execution_count": 6,
   "metadata": {},
   "outputs": [],
   "source": [
    "def reward(prompt,ans):\n",
    "    template='''Please according task description and answer to determine whether the current answer is correct.\n",
    "\n",
    "Task:[%s]\n",
    "\n",
    "Answer:[%s]\n",
    "\n",
    "Output Format: \n",
    "(Right / Wrong)\n",
    "'''%(prompt,ans)\n",
    "    return template"
   ]
  },
  {
   "cell_type": "code",
   "execution_count": 7,
   "metadata": {},
   "outputs": [],
   "source": [
    "def get_exp(prompt,ans):\n",
    "    template='''The following answer is wrong, please sum up the wrong experience.\n",
    "\n",
    "[ %s\n",
    "%s ]\n",
    "\n",
    "\n",
    "Output Format:\n",
    "Experience: (Content)\n",
    "'''%(prompt,ans)\n",
    "    return template"
   ]
  },
  {
   "cell_type": "code",
   "execution_count": 8,
   "metadata": {},
   "outputs": [
    {
     "name": "stderr",
     "output_type": "stream",
     "text": [
      "100%|██████████| 500/500 [18:54<00:00,  2.27s/it]\n"
     ]
    }
   ],
   "source": [
    "f= open('../data/test.jsonl','r')\n",
    "\n",
    "for i in trange(500):\n",
    "    Experience=''\n",
    "    data=json.loads(f.readline())\n",
    "    prompt=get_prompt(str(data['ans']),data['question'])\n",
    "    all_step=0\n",
    "    while all_step<=3:\n",
    "        all_step=all_step+1\n",
    "        ans=get_output(action(prompt,Experience))\n",
    "        rew=get_output(reward(prompt,ans))\n",
    "\n",
    "        if 'Right' in rew or 'right' in rew:\n",
    "            break\n",
    "        \n",
    "        Experience=Experience+'\\n'+get_output(get_exp(prompt,ans))\n",
    "\n",
    "\n",
    "    with open(\"reflexion.jsonl\",\"a\",encoding='utf-8') as k:\n",
    "        input_dict={'number':i,'ans':str(data['ans']),'output':ans,'prompt':prompt}\n",
    "        input_json=json.dumps(input_dict)\n",
    "        k.write(input_json+'\\n')"
   ]
  }
 ],
 "metadata": {
  "kernelspec": {
   "display_name": "base",
   "language": "python",
   "name": "python3"
  },
  "language_info": {
   "codemirror_mode": {
    "name": "ipython",
    "version": 3
   },
   "file_extension": ".py",
   "mimetype": "text/x-python",
   "name": "python",
   "nbconvert_exporter": "python",
   "pygments_lexer": "ipython3",
   "version": "3.8.8"
  }
 },
 "nbformat": 4,
 "nbformat_minor": 2
}
