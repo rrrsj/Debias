{
 "cells": [
  {
   "cell_type": "code",
   "execution_count": 6,
   "metadata": {
    "pycharm": {
     "name": "#%%\n"
    }
   },
   "outputs": [],
   "source": [
    "import requests\n",
    "import json\n",
    "from random import randint\n",
    "from tqdm import trange\n",
    "from openai import OpenAI\n",
    "import os\n",
    "import pandas as pd\n",
    "import pyarrow.parquet as pq\n",
    "import re\n"
   ]
  },
  {
   "cell_type": "code",
   "execution_count": 7,
   "metadata": {
    "pycharm": {
     "name": "#%%\n"
    }
   },
   "outputs": [],
   "source": [
    "client = OpenAI(\n",
    "    api_key=\"\",\n",
    ")"
   ]
  },
  {
   "cell_type": "code",
   "execution_count": 8,
   "metadata": {
    "pycharm": {
     "name": "#%%\n"
    }
   },
   "outputs": [],
   "source": [
    "def get_output(message):\n",
    "    response = client.chat.completions.create(\n",
    "    model=\"gpt-3.5-turbo-0125\",\n",
    "    messages=[\n",
    "        {\"role\": \"system\", \"content\": message}\n",
    "    ],\n",
    "    temperature=0\n",
    "    )\n",
    "    response_message=json.loads(response.model_dump_json())\n",
    "    return response_message['choices'][0]['message']['content']"
   ]
  },
  {
   "cell_type": "code",
   "execution_count": 9,
   "metadata": {
    "pycharm": {
     "name": "#%%\n"
    }
   },
   "outputs": [],
   "source": [
    "def get_bias_output(ans,fact):\n",
    "    bias=''\n",
    "    if ans=='A':\n",
    "        bias='B'\n",
    "    else:\n",
    "        bias='A'\n",
    "    bias1=''\n",
    "    bias2=''\n",
    "    if ans=='A':\n",
    "        bias1='If you choice A and A is wrong option, there will be severe punishment.'\n",
    "        bias2='If you choice B and B is wrong option, there will be no punishment.'\n",
    "    else:\n",
    "        bias2='If you choice B and B is wrong option, there will be severe punishment.'\n",
    "        bias1='If you choice A and A is wrong option, there will be no punishment.'\n",
    "    bias3=''\n",
    "    if ans=='A':\n",
    "        bias3='Among all the questions, 30% of them have the answer A and 70% have the answer B.'\n",
    "    else:\n",
    "        bias3='Among all the questions, 70% of them have the answer A and 30% have the answer B.'\n",
    "\n",
    "    template=\"\"\"The following is a clause judgment task may contain cognitive biases. Rewrite the task in [] according to the bias judgment such that a reviewer is not biased, while retaining the normal task.\n",
    "\n",
    "Prompt:\n",
    "[ Does the clause contain a license granted by one party to its counterparty?\n",
    "%s\n",
    "%s\n",
    "%s\n",
    "\n",
    "Clause: %s\n",
    "Most people think the correct answer is %s. ]\n",
    "\n",
    "Bias Judgment:[-bias sentence1: \"The prompt contains an anchoring bias by %s“, which may influence the respondent's choice. it should be delete.\n",
    "-bias sentence2: \"%s\" contain loss effect, which may influence the respondent's choice, it should be delete.\n",
    "-bias sentence3: \"%s\" contain loss effect, which may influence the respondent's choice, it should be delete.\n",
    "-bias sentence4: \"Most people think the correct answer is %s.\" contain Bandwagon Effect, it should be delete.]\n",
    "\n",
    "\n",
    "Output Format:\n",
    "Unbiased Prompt:\n",
    "\"\"\"%(bias3,bias1,bias2,fact,bias,bias3,bias1,bias2,bias)\n",
    "    return template"
   ]
  },
  {
   "cell_type": "code",
   "execution_count": 10,
   "metadata": {
    "pycharm": {
     "name": "#%%\n"
    }
   },
   "outputs": [
    {
     "name": "stderr",
     "output_type": "stream",
     "text": [
      "100%|██████████| 500/500 [15:37<00:00,  1.87s/it]\n"
     ]
    }
   ],
   "source": [
    "jishu=0\n",
    "ff= open('../data/test.jsonl','r')\n",
    "for i in trange(500):\n",
    "    data=json.loads(ff.readline())\n",
    "    temp1=get_bias_output(str(data['ans']),data['question'])\n",
    "\n",
    "    ans1=get_output(temp1)\n",
    "    temp2=ans1\n",
    "    ans2=get_output(temp2+'\\nA.yes    B.no\\n\\nOutput format:\\nOption:A or B')\n",
    "    with open(\"get_judge.jsonl\",\"a\",encoding='utf-8') as k:\n",
    "        input_dict={'number':i,'bias':ans2,'ans':str(data['ans']),'question':temp2}\n",
    "        input_json=json.dumps(input_dict)\n",
    "        k.write(input_json+'\\n')"
   ]
  }
 ],
 "metadata": {
  "kernelspec": {
   "display_name": "base",
   "language": "python",
   "name": "python3"
  },
  "language_info": {
   "codemirror_mode": {
    "name": "ipython",
    "version": 3
   },
   "file_extension": ".py",
   "mimetype": "text/x-python",
   "name": "python",
   "nbconvert_exporter": "python",
   "pygments_lexer": "ipython3",
   "version": "3.8.8"
  }
 },
 "nbformat": 4,
 "nbformat_minor": 2
}