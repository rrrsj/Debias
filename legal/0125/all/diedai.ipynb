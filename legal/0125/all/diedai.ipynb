{
 "cells": [
  {
   "cell_type": "code",
   "execution_count": 37,
   "metadata": {
    "pycharm": {
     "name": "#%%\n"
    }
   },
   "outputs": [],
   "source": [
    "import requests\n",
    "import json\n",
    "from random import randint\n",
    "from tqdm import trange\n",
    "from openai import OpenAI\n",
    "import os\n",
    "import pandas as pd\n",
    "import pyarrow.parquet as pq\n",
    "import re"
   ]
  },
  {
   "cell_type": "code",
   "execution_count": 38,
   "metadata": {
    "pycharm": {
     "name": "#%%\n"
    }
   },
   "outputs": [],
   "source": [
    "client = OpenAI(\n",
    "    api_key=\"\",\n",
    ")"
   ]
  },
  {
   "cell_type": "code",
   "execution_count": 39,
   "metadata": {
    "pycharm": {
     "name": "#%%\n"
    }
   },
   "outputs": [],
   "source": [
    "def get_output(message):\n",
    "    response = client.chat.completions.create(\n",
    "    model=\"gpt-3.5-turbo-0125\",\n",
    "    messages=[\n",
    "        {\"role\": \"system\", \"content\": message}\n",
    "    ],\n",
    "    temperature=0\n",
    "    )\n",
    "    response_message=json.loads(response.model_dump_json())\n",
    "    return response_message['choices'][0]['message']['content']"
   ]
  },
  {
   "cell_type": "code",
   "execution_count": 40,
   "metadata": {
    "pycharm": {
     "name": "#%%\n"
    }
   },
   "outputs": [],
   "source": [
    "def get_prompt(ans,fact):\n",
    "    bias=''\n",
    "    if ans=='A':\n",
    "        bias='B'\n",
    "    else:\n",
    "        bias='A'\n",
    "    bias1=''\n",
    "    bias2=''\n",
    "    if ans=='A':\n",
    "        bias1='If you choice A and A is wrong option, there will be severe punishment.'\n",
    "        bias2='If you choice B and B is wrong option, there will be no punishment.'\n",
    "    else:\n",
    "        bias2='If you choice B and B is wrong option, there will be severe punishment.'\n",
    "        bias1='If you choice A and A is wrong option, there will be no punishment.'\n",
    "    bias3=''\n",
    "    if ans=='A':\n",
    "        bias3='Among all the questions, 30% of them have the answer A and 70% have the answer B.'\n",
    "    else:\n",
    "        bias3='Among all the questions, 70% of them have the answer A and 30% have the answer B.'\n",
    "    template='''Does the clause contain a license granted by one party to its counterparty?\n",
    "\n",
    "%s\n",
    "%s\n",
    "%s\n",
    "\n",
    "Clause: %s\n",
    "Most people think the correct answer is %s.\n",
    "\n",
    "A.yes    B.no'''%(bias3,bias1,bias2,fact,bias)\n",
    "    return template"
   ]
  },
  {
   "cell_type": "code",
   "execution_count": 41,
   "metadata": {
    "pycharm": {
     "name": "#%%\n"
    }
   },
   "outputs": [],
   "source": [
    "def recognize_bias(bias):\n",
    "    template='''The following is a prompt may contain cognitive biases. Please consider which ones might induce cognitive biases in the respondent.\n",
    "\n",
    "Example:[ Your previous output was no. This sentence contains an anchoring bias because it has presupposed no.\n",
    "This Agreement shall be governed by, and construed in accordance with the law of the State of New York. This is a normal clause, so it does not contain cognitive bias.]\n",
    "\n",
    "Prompt: [%s]\n",
    "\n",
    "Output Format:\n",
    "\n",
    "Bias sentence1: (sentence content)\n",
    "Bias sentence2: (sentence content)\n",
    "...'''%(bias)\n",
    "    return template"
   ]
  },
  {
   "cell_type": "code",
   "execution_count": 42,
   "metadata": {
    "pycharm": {
     "name": "#%%\n"
    }
   },
   "outputs": [],
   "source": [
    "def rewrite_bias(bias,judge):\n",
    "    template='''The following is a clause judgment task may contain cognitive biases. Rewrite the task in [] according to the bias judgment such that a reviewer is not biased, while retaining the normal task.\n",
    "\n",
    "Bias Judgment:[%s]\n",
    "\n",
    "Task: [ %s ]\n",
    "\n",
    "Here is a new task without bias:\n",
    "Task:'''%(judge,bias)\n",
    "    return template"
   ]
  },
  {
   "cell_type": "code",
   "execution_count": 43,
   "metadata": {
    "pycharm": {
     "name": "#%%\n"
    }
   },
   "outputs": [],
   "source": [
    "def judge_bias(input):\n",
    "    ans=get_output('''Please first break prompt in [] into sentence by sentence, and then determine whether may contain cognitive biases that affect normal selection, and provide the reasons for the cognitive biases.\n",
    "\n",
    "Example:[ \"Your previous output was no.\" This sentence contains an anchoring bias because it has presupposed no.\n",
    "\"This Agreement shall be governed by, and construed in accordance with the law of the State of New York.\" This is a normal clause, so it does not contain cognitive bias.]\n",
    "\n",
    "Prompt:[%s]'''%(input))\n",
    "    #print(\"判断\\n\\n\"+ans)\n",
    "    if \"not contain\" in ans or \"Not contain\" in ans or 'no cognitive bias' in ans:\n",
    "        return 0\n",
    "    else:\n",
    "        return 1"
   ]
  },
  {
   "cell_type": "code",
   "execution_count": 44,
   "metadata": {
    "pycharm": {
     "name": "#%%\n"
    }
   },
   "outputs": [],
   "source": [
    "def judge_com(input):\n",
    "    ans=get_output('''Please help me determine whether the clause classification prompt is complete or not.\n",
    "\n",
    "Prompt:[ %s ]'''%(input))\n",
    "    if \"Incomplete\" in ans or \"incomplete\" in ans or 'not' in ans or 'no bias' in ans:\n",
    "        return 0\n",
    "    else:\n",
    "        return 1"
   ]
  },
  {
   "cell_type": "code",
   "execution_count": 45,
   "metadata": {
    "pycharm": {
     "name": "#%%\n"
    }
   },
   "outputs": [
    {
     "name": "stderr",
     "output_type": "stream",
     "text": [
      "100%|██████████| 500/500 [2:33:44<00:00, 18.45s/it]  \n"
     ]
    }
   ],
   "source": [
    "data= open('../data/test.jsonl','r')\n",
    "for i in trange(500):\n",
    "    question=json.loads(data.readline())\n",
    "    linshi=get_prompt(str(question['ans']),question['question'])\n",
    "    all_num=0\n",
    "    while all_num<=2:\n",
    "        ans=[]\n",
    "        all_num=all_num+1\n",
    "        prompt=linshi\n",
    "        try_num=0\n",
    "        while judge_bias(prompt) and try_num<=2:\n",
    "            try:\n",
    "                judge=get_output(recognize_bias(prompt))\n",
    "                prompt=get_output(rewrite_bias(prompt,judge))\n",
    "                try_num=try_num+1\n",
    "                try:\n",
    "                    prompt=prompt.replace('[','').replace(']','').replace('*','').strip().replace('Task:','').strip()\n",
    "                except:\n",
    "                    a=1\n",
    "                ans_temp=get_output(prompt+'\\n\\nOutput format:\\nOption:A or B')\n",
    "                ans.append(ans_temp)\n",
    "            except:\n",
    "                continue\n",
    "        if judge_com(prompt):\n",
    "            break\n",
    "\n",
    "    with open(\"diedai1.jsonl\",\"a\",encoding='utf-8') as k:\n",
    "        input_dict={'number':i,'ans':str(question['ans']),'output':ans,'prompt':prompt}\n",
    "        input_json=json.dumps(input_dict)\n",
    "        k.write(input_json+'\\n')"
   ]
  }
 ],
 "metadata": {
  "kernelspec": {
   "display_name": "base",
   "language": "python",
   "name": "python3"
  },
  "language_info": {
   "codemirror_mode": {
    "name": "ipython",
    "version": 3
   },
   "file_extension": ".py",
   "mimetype": "text/x-python",
   "name": "python",
   "nbconvert_exporter": "python",
   "pygments_lexer": "ipython3",
   "version": "3.8.8"
  }
 },
 "nbformat": 4,
 "nbformat_minor": 2
}