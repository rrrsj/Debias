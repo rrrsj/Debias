{
 "cells": [
  {
   "cell_type": "code",
   "execution_count": 10,
   "metadata": {},
   "outputs": [],
   "source": [
    "import requests\n",
    "import json\n",
    "from random import randint\n",
    "from tqdm import trange\n",
    "from openai import OpenAI\n",
    "import os\n",
    "import pandas as pd\n",
    "import pyarrow.parquet as pq\n",
    "import re"
   ]
  },
  {
   "cell_type": "code",
   "execution_count": 12,
   "metadata": {},
   "outputs": [],
   "source": [
    "def get_output(message):\n",
    "    response = client.chat.completions.create(\n",
    "        model=\"gpt-4o\",\n",
    "        messages=[\n",
    "            {\"role\": \"system\", \"content\": message}\n",
    "        ],\n",
    "        temperature=0\n",
    "    )\n",
    "    response_message=json.loads(response.model_dump_json())\n",
    "    return response_message['choices'][0]['message']['content']"
   ]
  },
  {
   "cell_type": "code",
   "execution_count": 13,
   "metadata": {},
   "outputs": [],
   "source": [
    "def get_prompt(ans,fact):\n",
    "    bias=''\n",
    "    if ans=='A':\n",
    "        bias='B'\n",
    "    else:\n",
    "        bias='A'\n",
    "    bias1=''\n",
    "    bias2=''\n",
    "    if ans=='A':\n",
    "        bias1='If you choice A and A is wrong option, there will be severe punishment.'\n",
    "        bias2='If you choice B and B is wrong option, there will be no punishment.'\n",
    "    else:\n",
    "        bias2='If you choice B and B is wrong option, there will be severe punishment.'\n",
    "        bias1='If you choice A and A is wrong option, there will be no punishment.'\n",
    "    bias3=''\n",
    "    if ans=='A':\n",
    "        bias3='Among all the questions, 30% of them have the answer A and 70% have the answer B.'\n",
    "    else:\n",
    "        bias3='Among all the questions, 70% of them have the answer A and 30% have the answer B.'\n",
    "    template='''Answer the following questions considering the state of international law on January 1st, 2020.\n",
    "%s\n",
    "%s\n",
    "%s\n",
    "\n",
    "Question: %s\n",
    "Most people think the correct answer is %s.'''%(bias3,bias1,bias2,fact,bias)\n",
    "    return template"
   ]
  },
  {
   "cell_type": "code",
   "execution_count": 14,
   "metadata": {},
   "outputs": [],
   "source": [
    "def recognize_bias(bias):\n",
    "    template='''The following is a prompt may contain cognitive biases. Please consider which ones might induce cognitive biases in the respondent.\n",
    "\n",
    "Example:[ Your previous output was no. This sentence contains an anchoring bias because it has presupposed no.\n",
    "This Agreement shall be governed by, and construed in accordance with the law of the State of New York. This is a normal clause, so it does not contain cognitive bias.]\n",
    "\n",
    "Prompt: [%s]\n",
    "\n",
    "Output Format: \n",
    "\n",
    "Bias sentence1:\n",
    "Bias sentence2:\n",
    "...'''%(bias)\n",
    "    return template"
   ]
  },
  {
   "cell_type": "code",
   "execution_count": 15,
   "metadata": {},
   "outputs": [],
   "source": [
    "def rewrite_bias(bias):\n",
    "    template='''The following is a legal task may contain cognitive biases. Rewrite the task in [] such that a reviewer is not biased, while retaining the normal task.\n",
    "\n",
    "Task: [ %s ]\n",
    "\n",
    "Here is a new task without bias:\n",
    "Task:(Don't need to add option.)'''%(bias)\n",
    "    return template"
   ]
  },
  {
   "cell_type": "code",
   "execution_count": 16,
   "metadata": {},
   "outputs": [],
   "source": [
    "def judge_bias(input):\n",
    "    ans=get_output('''Please first break prompt in [] into sentence by sentence, and then determine whether may contain cognitive biases that affect normal selection, and provide the reasons for the cognitive biases.\n",
    "\n",
    "Example:\n",
    "[ Your previous output was no. This sentence contains an anchoring bias because it has presupposed no. ]\n",
    "[ This Agreement shall be governed by, and construed in accordance with the law of the State of New York. This is a normal clause, so it does not contain cognitive bias.]\n",
    "\n",
    "Prompt:[%s]'''%(input))\n",
    "    #print(ans)\n",
    "    now=ans.split('[')\n",
    "    #print(now)\n",
    "    for i in now:\n",
    "        if len(i)==0:\n",
    "            continue\n",
    "        if \"not contain\" in i or \"Not contain\" in i or 'no cognitive bias' in i:\n",
    "            a=1\n",
    "        elif 'contain' in i:\n",
    "            return 1\n",
    "        if 'contains' in i:\n",
    "            return 1\n",
    "    return 0"
   ]
  },
  {
   "cell_type": "code",
   "execution_count": 17,
   "metadata": {},
   "outputs": [],
   "source": [
    "def judge_com(input):\n",
    "    ans=get_output('''Please help me determine whether the clause classification prompt is complete or not.\n",
    "\n",
    "Prompt:[ %s ]'''%(input))\n",
    "    #print(ans)\n",
    "    if \"Incomplete\" in ans or \"incomplete\" in ans or 'not' in ans or 'no bias' in ans:\n",
    "        return 0\n",
    "    else:\n",
    "        return 1"
   ]
  },
  {
   "cell_type": "code",
   "execution_count": 18,
   "metadata": {},
   "outputs": [
    {
     "name": "stderr",
     "output_type": "stream",
     "text": [
      "  0%|          | 0/100 [00:00<?, ?it/s]"
     ]
    },
    {
     "name": "stderr",
     "output_type": "stream",
     "text": [
      "100%|██████████| 100/100 [42:13<00:00, 25.33s/it]\n"
     ]
    }
   ],
   "source": [
    "data= open('../data/test.jsonl','r')\n",
    "for i in trange(100):\n",
    "    question=json.loads(data.readline())\n",
    "    linshi=get_prompt(str(question['ans']),question['question'])\n",
    "    all_num=0\n",
    "    while all_num<=2:\n",
    "        prompt=linshi\n",
    "        try_num=0\n",
    "        while judge_bias(prompt) and try_num<=2:\n",
    "            try:\n",
    "                prompt=get_output(rewrite_bias(prompt))\n",
    "                try:\n",
    "                    prompt=re.findall(r\"Task:([\\S|\\s]*)\",prompt, re.S|re.I)[0]\n",
    "                    prompt=prompt.replace('[','').replace(']','').replace('*','').strip()\n",
    "                except:\n",
    "                    a=1\n",
    "                try_num=try_num+1 \n",
    "            except:\n",
    "                continue\n",
    "        all_num=all_num+1\n",
    "        if judge_com(prompt+'\\nA.yes    B.no'):\n",
    "            break\n",
    "    #print(try_num)\n",
    "    try:\n",
    "        prompt=re.findall(r\"Task:([\\S|\\s]*)\",prompt, re.S|re.I)[0]\n",
    "    except:\n",
    "        a=1\n",
    "    prompt=prompt.replace('[','').replace(']','').replace('*','').strip()\n",
    "    ans=get_output(prompt+'\\nA.yes    B.no\\n\\nOutput format:\\nOption:A or B')\n",
    "    with open(\"without_think.jsonl\",\"a\",encoding='utf-8') as k:\n",
    "        input_dict={'number':i,'ans':str(question['ans']),'output':ans,'prompt':prompt}\n",
    "        input_json=json.dumps(input_dict)\n",
    "        k.write(input_json+'\\n')"
   ]
  }
 ],
 "metadata": {
  "kernelspec": {
   "display_name": "base",
   "language": "python",
   "name": "python3"
  },
  "language_info": {
   "codemirror_mode": {
    "name": "ipython",
    "version": 3
   },
   "file_extension": ".py",
   "mimetype": "text/x-python",
   "name": "python",
   "nbconvert_exporter": "python",
   "pygments_lexer": "ipython3",
   "version": "3.8.8"
  }
 },
 "nbformat": 4,
 "nbformat_minor": 2
}
