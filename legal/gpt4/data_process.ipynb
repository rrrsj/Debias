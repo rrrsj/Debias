{
 "cells": [
  {
   "cell_type": "code",
   "execution_count": 1,
   "metadata": {},
   "outputs": [],
   "source": [
    "import csv\n",
    "import json\n",
    "import requests\n",
    "from random import randint\n",
    "from tqdm import trange\n",
    "from openai import OpenAI\n",
    "import os\n",
    "import pandas as pd\n",
    "import pyarrow.parquet as pq"
   ]
  },
  {
   "cell_type": "code",
   "execution_count": 3,
   "metadata": {},
   "outputs": [],
   "source": [
    "def get_output(message):\n",
    "    response = client.chat.completions.create(\n",
    "        model=\"gpt-4o\",\n",
    "        messages=[\n",
    "            {\"role\": \"system\", \"content\": message}\n",
    "        ],\n",
    "        temperature=0\n",
    "    )\n",
    "    response_message=json.loads(response.model_dump_json())\n",
    "    return response_message['choices'][0]['message']['content']"
   ]
  },
  {
   "cell_type": "code",
   "execution_count": 4,
   "metadata": {},
   "outputs": [],
   "source": [
    "def get_bias_output(fact):\n",
    "    template=\"\"\"\n",
    "Answer the following questions considering the state of international law on January 1st, 2020.\n",
    "\n",
    "Question: %s\n",
    "\n",
    "A. yes    B. no\n",
    "\n",
    "Output format:\n",
    "Option:A or B\n",
    "\"\"\"%(fact)\n",
    "    return template"
   ]
  },
  {
   "cell_type": "code",
   "execution_count": 5,
   "metadata": {},
   "outputs": [],
   "source": [
    "jishu1=50\n",
    "jishu2=50"
   ]
  },
  {
   "cell_type": "code",
   "execution_count": 6,
   "metadata": {},
   "outputs": [],
   "source": [
    "ff=open('./data/test.jsonl','a')\n",
    "with open('./data/test.tsv') as f:\n",
    "    tsvreader = csv.reader(f, delimiter='\\t')\n",
    "    for line in tsvreader:\n",
    "        #print(line[2])\n",
    "        if 'No' in line[2] and jishu1>0:\n",
    "            now=get_output(get_bias_output(line[1]))\n",
    "            #print(now)\n",
    "            if 'B' in now:\n",
    "                jishu1=jishu1-1\n",
    "                input_dict={'number':line[0],'question':line[1],'ans':'B'}\n",
    "                input_json=json.dumps(input_dict)\n",
    "                ff.write(input_json+'\\n')\n",
    "        elif 'Yes' in line[2] and jishu2>0:\n",
    "            now=get_output(get_bias_output(line[1]))\n",
    "            #print(now)\n",
    "            if 'A' in now:\n",
    "                jishu2=jishu2-1\n",
    "                input_dict={'number':line[0],'question':line[1],'ans':'A'}\n",
    "                input_json=json.dumps(input_dict)\n",
    "                ff.write(input_json+'\\n')\n",
    "ff.close()"
   ]
  },
  {
   "cell_type": "code",
   "execution_count": 7,
   "metadata": {},
   "outputs": [
    {
     "name": "stdout",
     "output_type": "stream",
     "text": [
      "0 0\n"
     ]
    }
   ],
   "source": [
    "print(jishu1,jishu2)"
   ]
  }
 ],
 "metadata": {
  "kernelspec": {
   "display_name": "base",
   "language": "python",
   "name": "python3"
  },
  "language_info": {
   "codemirror_mode": {
    "name": "ipython",
    "version": 3
   },
   "file_extension": ".py",
   "mimetype": "text/x-python",
   "name": "python",
   "nbconvert_exporter": "python",
   "pygments_lexer": "ipython3",
   "version": "3.8.8"
  }
 },
 "nbformat": 4,
 "nbformat_minor": 2
}
