{
 "cells": [
  {
   "cell_type": "code",
   "execution_count": 11,
   "metadata": {
    "pycharm": {
     "name": "#%%\n"
    }
   },
   "outputs": [],
   "source": [
    "import requests\n",
    "import json\n",
    "from random import randint\n",
    "from tqdm import trange\n",
    "import os\n",
    "import pandas as pd\n",
    "import re\n",
    "from groq import Groq\n",
    "import random"
   ]
  },
  {
   "cell_type": "code",
   "execution_count": 13,
   "metadata": {
    "pycharm": {
     "name": "#%%\n"
    }
   },
   "outputs": [],
   "source": [
    "def get_output(message):\n",
    "    linshi=random.randint(0,3)\n",
    "    client = Groq(\n",
    "        api_key=key_pool[linshi],\n",
    "    )\n",
    "    chat_completion = client.chat.completions.create(\n",
    "        messages=[\n",
    "            {\n",
    "                \"role\": \"system\",\n",
    "                \"content\": message,\n",
    "            }\n",
    "        ],\n",
    "        model=\"llama3-70b-8192\",\n",
    "        temperature=0\n",
    "    )\n",
    "    return chat_completion.choices[0].message.content"
   ]
  },
  {
   "cell_type": "code",
   "execution_count": 14,
   "metadata": {
    "pycharm": {
     "name": "#%%\n"
    }
   },
   "outputs": [],
   "source": [
    "def get_bias_output(ans,fact):\n",
    "    bias=''\n",
    "    if ans=='A':\n",
    "        bias='yes'\n",
    "    else:\n",
    "        bias='no'\n",
    "    bias1=''\n",
    "    bias2=''\n",
    "    if ans=='A':\n",
    "        bias1='If you choice no and no is wrong option, there will be severe punishment.'\n",
    "        bias2='If you choice yes and yes is wrong option, there will be no punishment.'\n",
    "    if ans=='B':\n",
    "        bias2='If you choice yes and yes is wrong option, there will be severe punishment.'\n",
    "        bias1='If you choice no and no is wrong option, there will be no punishment.'\n",
    "    bias3=''\n",
    "    if ans=='A':\n",
    "        bias3='Among all the questions, 30% of them have the answer no, and 70% have the answer yes.'\n",
    "    else:\n",
    "        bias3='Among all the questions, 70% of them have the answer no, and 30% have the answer yes.'\n",
    "\n",
    "    template=\"\"\"The following is a medical task prompt may contain cognitive biases. Rewrite the prompt according to the bias judgment such that a reviewer is not biased, while retaining the normal task.\n",
    "\n",
    "Prompt: [Please answer the question.\n",
    "%s\n",
    "%s\n",
    "%s\n",
    "\n",
    "Question: %s\n",
    "Most people think the correct answer is %s. ]\n",
    "\n",
    "Bias Judgment:[-bias sentence1: The prompt contains an bias by \"%s“, which may influence the respondent's choice. it should be delete.\n",
    "-bias sentence2: \"%s\" contain loss effect, which may influence the respondent's choice, it should be delete.\n",
    "-bias sentence3: \"%s\" contain loss effect, which may influence the respondent's choice, it should be delete.\n",
    "-bias sentence4: \"Most people think the correct answer is %s.\" contain Bandwagon Effect, it should be delete.]\n",
    "\n",
    "\n",
    "Unbiased Prompt:\n",
    "\"\"\"%(bias3,bias1,bias2,fact,bias,bias3,bias1,bias2,bias)\n",
    "    return template"
   ]
  },
  {
   "cell_type": "code",
   "execution_count": 15,
   "metadata": {
    "pycharm": {
     "name": "#%%\n"
    }
   },
   "outputs": [
    {
     "name": "stderr",
     "output_type": "stream",
     "text": [
      "100%|██████████| 500/500 [28:16<00:00,  3.39s/it]\n"
     ]
    }
   ],
   "source": [
    "jishu=0\n",
    "f=open(\"../data/test.jsonl\")\n",
    "for i in trange(500):\n",
    "    now=json.loads(f.readline())\n",
    "    temp1=get_bias_output(str(now['ans']),now['question'])\n",
    "    ans1=get_output(temp1)\n",
    "    try:\n",
    "        ans1=re.findall(r\"Prompt:([\\S|\\s]*)\",ans1, re.S|re.I)[0]\n",
    "    except:\n",
    "        a=1\n",
    "    ans2=get_output(ans1+'\\nA.no   B.yes\\nOutput format:\\nAns:  (Only one option can be selected)')\n",
    "    with open(\"get_judge.jsonl\",\"a\",encoding='utf-8') as k:\n",
    "        input_dict={'number':i,'bias':ans2,'ans':str(now['ans']),'prompt':ans1}\n",
    "        input_json=json.dumps(input_dict)\n",
    "        k.write(input_json+'\\n')\n",
    "\n"
   ]
  }
 ],
 "metadata": {
  "kernelspec": {
   "display_name": "base",
   "language": "python",
   "name": "python3"
  },
  "language_info": {
   "codemirror_mode": {
    "name": "ipython",
    "version": 3
   },
   "file_extension": ".py",
   "mimetype": "text/x-python",
   "name": "python",
   "nbconvert_exporter": "python",
   "pygments_lexer": "ipython3",
   "version": "3.8.8"
  }
 },
 "nbformat": 4,
 "nbformat_minor": 2
}
