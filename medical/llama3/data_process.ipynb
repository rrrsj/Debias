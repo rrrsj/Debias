{
 "cells": [
  {
   "cell_type": "code",
   "execution_count": null,
   "metadata": {
    "pycharm": {
     "name": "#%%\n"
    }
   },
   "outputs": [],
   "source": [
    "import requests\n",
    "import json\n",
    "from random import randint\n",
    "from tqdm import trange\n",
    "import os\n",
    "import pandas as pd\n",
    "import re\n",
    "from groq import Groq\n",
    "import random"
   ]
  },
  {
   "cell_type": "code",
   "execution_count": null,
   "metadata": {
    "pycharm": {
     "name": "#%%\n"
    }
   },
   "outputs": [],
   "source": [
    "def get_output(message):\n",
    "    linshi=random.randint(0,4)\n",
    "    client = Groq(\n",
    "        api_key=key_pool[linshi],\n",
    "    )\n",
    "    chat_completion = client.chat.completions.create(\n",
    "        messages=[\n",
    "            {\n",
    "                \"role\": \"system\",\n",
    "                \"content\": message,\n",
    "            }\n",
    "        ],\n",
    "        model=\"llama3-70b-8192\",\n",
    "    )\n",
    "    return chat_completion.choices[0].message.content"
   ]
  },
  {
   "cell_type": "code",
   "execution_count": null,
   "metadata": {
    "pycharm": {
     "name": "#%%\n"
    }
   },
   "outputs": [],
   "source": [
    "def get_bias_output(fact):\n",
    "    template=\"\"\"\n",
    "Please answer the question.\n",
    "\n",
    "Question:%s\n",
    "A.no   B.yes\n",
    "\n",
    "Output format:\n",
    "Ans:  (Only one option can be selected)\n",
    "\n",
    "\"\"\"%(fact)\n",
    "    return template"
   ]
  },
  {
   "cell_type": "code",
   "execution_count": null,
   "metadata": {
    "pycharm": {
     "name": "#%%\n"
    }
   },
   "outputs": [],
   "source": [
    "jishu1=250\n",
    "jishu2=250\n",
    "parquet_file = pq.ParquetFile('./data/test.parquet')\n",
    "data = parquet_file.read().to_pandas()"
   ]
  },
  {
   "cell_type": "code",
   "execution_count": null,
   "metadata": {
    "pycharm": {
     "name": "#%%\n"
    }
   },
   "outputs": [],
   "source": [
    "print(data['question'][0])\n",
    "print(data['context'][0])"
   ]
  },
  {
   "cell_type": "code",
   "execution_count": null,
   "metadata": {
    "pycharm": {
     "name": "#%%\n"
    }
   },
   "outputs": [],
   "source": [
    "i=0\n",
    "f=open('./data/test.jsonl','a')\n",
    "while jishu1>0 or jishu2>0:\n",
    "    if 'no' in data['answer'][i] and jishu1>0:\n",
    "        now=get_output(get_bias_output(data['question'][i]))\n",
    "        try:\n",
    "            now=re.findall(r\"Ans([\\S|\\s]*)\",now, re.S|re.I)[0]\n",
    "        except:\n",
    "            a=1\n",
    "        if 'no' in now or 'A' in now or 'No' in now:\n",
    "            jishu1=jishu1-1\n",
    "            input_dict={'number':i,'question':data['question'][i],'ans':'A','context':data['context'][i]}\n",
    "            input_json=json.dumps(input_dict)\n",
    "            f.write(input_json+'\\n')\n",
    "    elif 'yes' in data['answer'][i] and jishu2>0:\n",
    "        now=get_output(get_bias_output(data['question'][i]))\n",
    "        try:\n",
    "            now=re.findall(r\"Ans([\\S|\\s]*)\",now, re.S|re.I)[0]\n",
    "        except:\n",
    "            a=1\n",
    "        if 'yes' in now or 'B' in now or 'Yes' in now:\n",
    "            jishu2=jishu2-1\n",
    "            input_dict={'number':i,'question':data['question'][i],'ans':'B','context':data['context'][i]}\n",
    "            input_json=json.dumps(input_dict)\n",
    "            f.write(input_json+'\\n')\n",
    "    i=i+1"
   ]
  },
  {
   "cell_type": "code",
   "execution_count": null,
   "metadata": {
    "pycharm": {
     "name": "#%%\n"
    }
   },
   "outputs": [],
   "source": [
    "f.close()"
   ]
  },
  {
   "cell_type": "code",
   "execution_count": null,
   "metadata": {
    "pycharm": {
     "name": "#%%\n"
    }
   },
   "outputs": [],
   "source": [
    "print(jishu1,jishu2)"
   ]
  }
 ],
 "metadata": {
  "kernelspec": {
   "display_name": "base",
   "language": "python",
   "name": "python3"
  },
  "language_info": {
   "codemirror_mode": {
    "name": "ipython",
    "version": 3
   },
   "file_extension": ".py",
   "mimetype": "text/x-python",
   "name": "python",
   "nbconvert_exporter": "python",
   "pygments_lexer": "ipython3",
   "version": "3.8.8"
  }
 },
 "nbformat": 4,
 "nbformat_minor": 2
}
