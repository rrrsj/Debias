{
 "cells": [
  {
   "cell_type": "code",
   "execution_count": 12,
   "metadata": {
    "pycharm": {
     "name": "#%%\n"
    }
   },
   "outputs": [],
   "source": [
    "import json\n",
    "import re\n",
    "import sys\n",
    "\n",
    "f=open(\"output.txt\", \"w\")\n",
    "# 保存原来的标准输出\n",
    "original_stdout = sys.stdout\n",
    "# 重定向标准输出到文件\n",
    "#sys.stdout = f"
   ]
  },
  {
   "cell_type": "code",
   "execution_count": 13,
   "metadata": {
    "pycharm": {
     "name": "#%%\n"
    }
   },
   "outputs": [],
   "source": [
    "def find_num(path):\n",
    "    f=open(path,'r')\n",
    "    right=0\n",
    "    wrong=0\n",
    "    a=0\n",
    "    for i in range(500):\n",
    "        now=json.loads(f.readline())\n",
    "        try:\n",
    "            now['bias']=re.findall(r\"Ans([\\S|\\s]*)\",now['bias'], re.S|re.I)[0]\n",
    "        except:\n",
    "            a=a+1\n",
    "        if ('no' in now['bias']  or 'No' in now['bias']) and 'A' in now['ans']:\n",
    "            right=right+1\n",
    "        elif ('no' in now['bias']  or 'No' in now['bias']) and 'B' in now['ans']:\n",
    "            wrong=wrong+1\n",
    "        elif ('yes' in now['bias']  or 'Yes' in now['bias']) and 'B' in now['ans']:\n",
    "            right=right+1\n",
    "        elif ('yes' in now['bias']  or 'Yes' in now['bias']) and 'A' in now['ans']:\n",
    "            wrong=wrong+1\n",
    "        elif 'A' in now['bias'] and 'A' in now['ans']:\n",
    "            right=right+1\n",
    "        elif 'B' in now['bias'] and 'B' in now['ans']:\n",
    "            right=right+1\n",
    "        else:\n",
    "            wrong=wrong+1\n",
    "    print(right/500,wrong,right+wrong,a)"
   ]
  },
  {
   "cell_type": "code",
   "execution_count": 14,
   "metadata": {
    "pycharm": {
     "name": "#%%\n"
    }
   },
   "outputs": [],
   "source": [
    "def find_num_methods(path):\n",
    "    f=open(path,'r')\n",
    "    right=0\n",
    "    wrong=0\n",
    "    a=0\n",
    "    for i in range(500):\n",
    "        now=json.loads(f.readline())\n",
    "        try:\n",
    "            now['output']=re.findall(r\"Ans([\\S|\\s]*)\",now['output'], re.S|re.I)[0]\n",
    "        except:\n",
    "            a=a+1\n",
    "        if ('no' in now['output']  or 'No' in now['output']) and 'A' in now['ans']:\n",
    "            right=right+1\n",
    "        elif ('yes' in now['output']  or 'Yes' in now['output']) and 'B' in now['ans']:\n",
    "            right=right+1\n",
    "        elif ': A' in now['output'] and 'A' in now['ans']:\n",
    "            right=right+1\n",
    "        elif ': B' in now['output'] and 'B' in now['ans']:\n",
    "            right=right+1\n",
    "        elif 'A' in now['output'] and 'A' in now['ans']:\n",
    "            right=right+1\n",
    "        elif 'B' in now['output'] and 'B' in now['ans']:\n",
    "            right=right+1\n",
    "        else:\n",
    "            wrong=wrong+1\n",
    "    print(right/500,wrong,right+wrong,a)"
   ]
  },
  {
   "cell_type": "code",
   "execution_count": 15,
   "metadata": {
    "pycharm": {
     "name": "#%%\n"
    }
   },
   "outputs": [
    {
     "name": "stdout",
     "output_type": "stream",
     "text": [
      "0.974 13 500 0\n",
      "0.568 216 500 0\n",
      "0.552 224 500 0\n",
      "0.648 176 500 0\n",
      "0.522 239 500 0\n",
      "0.44 280 500 0\n",
      "0.93 35 500 0\n",
      "0.938 31 500 0\n",
      "0.974 13 500 0\n",
      "0.746 127 500 0\n",
      "0.544 228 500 500\n",
      "0.354 323 500 0\n"
     ]
    }
   ],
   "source": [
    "find_num(\"./ground_true.jsonl\")\n",
    "find_num(\"./anchor/anchor_llama3.jsonl\")\n",
    "find_num(\"./anchor/no_bias.jsonl\")\n",
    "find_num(\"./anchor/few_shot.jsonl\")\n",
    "find_num(\"./anchor/few_shot1.jsonl\")\n",
    "find_num(\"./anchor/cot.jsonl\")\n",
    "find_num(\"./anchor/self_help.jsonl\")\n",
    "find_num_methods(\"./anchor/anchor_llama3_method.jsonl\")\n",
    "find_num_methods(\"./anchor/without_while.jsonl\")\n",
    "find_num_methods(\"./anchor/without_think.jsonl\")\n",
    "find_num_methods(\"./anchor/multi_debate.jsonl\")\n",
    "find_num_methods(\"./anchor/reflexion.jsonl\")"
   ]
  },
  {
   "cell_type": "code",
   "execution_count": 16,
   "metadata": {
    "pycharm": {
     "name": "#%%\n"
    }
   },
   "outputs": [
    {
     "name": "stdout",
     "output_type": "stream",
     "text": [
      "0.974 13 500 0\n",
      "0.714 143 500 0\n",
      "0.54 230 500 0\n",
      "0.748 126 500 0\n",
      "0.612 194 500 0\n",
      "0.466 267 500 0\n",
      "0.828 86 500 0\n",
      "0.908 46 500 0\n",
      "0.94 30 500 0\n",
      "0.73 135 500 0\n",
      "0.724 138 500 500\n",
      "0.776 112 500 0\n"
     ]
    }
   ],
   "source": [
    "find_num(\"./ground_true.jsonl\")\n",
    "find_num(\"./many_people/many_llama3.jsonl\")\n",
    "find_num(\"./many_people/no_bias.jsonl\")\n",
    "find_num(\"./many_people/few_shot.jsonl\")\n",
    "find_num(\"./many_people/few_shot1.jsonl\")\n",
    "find_num(\"./many_people/cot.jsonl\")\n",
    "find_num(\"./many_people/self_help.jsonl\")\n",
    "find_num_methods(\"./many_people/many_llama3_method.jsonl\")\n",
    "find_num_methods(\"./many_people/without_while.jsonl\")\n",
    "find_num_methods(\"./many_people/without_think.jsonl\")\n",
    "find_num_methods(\"./many_people/multi_debate.jsonl\")\n",
    "find_num_methods(\"./many_people/reflexion.jsonl\")"
   ]
  },
  {
   "cell_type": "code",
   "execution_count": 17,
   "metadata": {
    "pycharm": {
     "name": "#%%\n"
    }
   },
   "outputs": [
    {
     "name": "stdout",
     "output_type": "stream",
     "text": [
      "0.974 13 500 0\n",
      "0.664 168 500 0\n",
      "0.666 167 500 0\n",
      "0.518 241 500 0\n",
      "0.682 159 500 0\n",
      "0.03 485 500 0\n",
      "0.94 30 500 0\n",
      "0.942 29 500 0\n",
      "0.956 22 500 0\n",
      "0.778 111 500 0\n",
      "0.436 282 500 500\n",
      "0.53 235 500 0\n"
     ]
    }
   ],
   "source": [
    "find_num(\"./ground_true.jsonl\")\n",
    "find_num(\"./loss/loss_llama3.jsonl\")\n",
    "find_num(\"./loss/no_bias.jsonl\")\n",
    "find_num(\"./loss/few_shot.jsonl\")\n",
    "find_num(\"./loss/few_shot1.jsonl\")\n",
    "find_num(\"./loss/cot.jsonl\")\n",
    "find_num(\"./loss/self_help.jsonl\")\n",
    "find_num_methods(\"./loss/loss_llama3_method.jsonl\")\n",
    "find_num_methods(\"./loss/without_while.jsonl\")\n",
    "find_num_methods(\"./loss/without_think.jsonl\")\n",
    "find_num_methods(\"./loss/multi_debate.jsonl\")\n",
    "find_num_methods(\"./loss/reflexion.jsonl\")"
   ]
  },
  {
   "cell_type": "code",
   "execution_count": 18,
   "metadata": {
    "pycharm": {
     "name": "#%%\n"
    }
   },
   "outputs": [
    {
     "name": "stdout",
     "output_type": "stream",
     "text": [
      "0.974 13 500 0\n",
      "0 0 0 0\n",
      "0.92 40 500 0\n",
      "0.69 155 500 0\n",
      "0.846 77 500 0\n",
      "0.828 86 500 0\n",
      "0.592 204 500 2\n",
      "0.944 28 500 0\n",
      "0.77 115 500 0\n",
      "0.762 119 500 0\n",
      "0.968 16 500 500\n",
      "0.856 72 500 0\n"
     ]
    }
   ],
   "source": [
    "find_num(\"./ground_true.jsonl\")\n",
    "print(0,0,0,0)\n",
    "find_num(\"./null/no_bias.jsonl\")\n",
    "find_num(\"./null/few_shot.jsonl\")\n",
    "find_num(\"./null/few_shot1.jsonl\")\n",
    "find_num(\"./null/cot.jsonl\")\n",
    "find_num(\"./null/self_help.jsonl\")\n",
    "find_num_methods(\"./null/null_llama3_method.jsonl\")\n",
    "find_num_methods(\"./null/without_while.jsonl\")\n",
    "find_num_methods(\"./null/without_think.jsonl\")\n",
    "find_num_methods(\"./null/multi_debate.jsonl\")\n",
    "find_num_methods(\"./null/reflexion.jsonl\")"
   ]
  },
  {
   "cell_type": "code",
   "execution_count": 19,
   "metadata": {
    "pycharm": {
     "name": "#%%\n"
    }
   },
   "outputs": [
    {
     "name": "stdout",
     "output_type": "stream",
     "text": [
      "0.974 13 500 0\n",
      "0.058 471 500 0\n",
      "0.302 349 500 0\n",
      "0.502 249 500 0\n",
      "0.044 478 500 0\n",
      "0.5 250 500 0\n",
      "0.826 87 500 0\n",
      "0.884 58 500 0\n",
      "0.854 73 500 0\n",
      "0.78 110 500 0\n",
      "0.03 485 500 500\n",
      "0.002 499 500 0\n"
     ]
    }
   ],
   "source": [
    "find_num(\"./ground_true.jsonl\")\n",
    "find_num(\"./all/all_llama3.jsonl\")\n",
    "find_num(\"./all/no_bias.jsonl\")\n",
    "find_num(\"./all/few_shot.jsonl\")\n",
    "find_num(\"./all/few_shot1.jsonl\")\n",
    "find_num(\"./all/cot.jsonl\")\n",
    "find_num(\"./all/self_help.jsonl\")\n",
    "find_num_methods(\"./all/all_llama3_method.jsonl\")\n",
    "find_num_methods(\"./all/without_while.jsonl\")\n",
    "find_num_methods(\"./all/without_think.jsonl\")\n",
    "find_num_methods(\"./all/multi_debate.jsonl\")\n",
    "find_num_methods(\"./all/reflexion.jsonl\")"
   ]
  }
 ],
 "metadata": {
  "kernelspec": {
   "display_name": "base",
   "language": "python",
   "name": "python3"
  },
  "language_info": {
   "codemirror_mode": {
    "name": "ipython",
    "version": 3
   },
   "file_extension": ".py",
   "mimetype": "text/x-python",
   "name": "python",
   "nbconvert_exporter": "python",
   "pygments_lexer": "ipython3",
   "version": "3.8.8"
  }
 },
 "nbformat": 4,
 "nbformat_minor": 2
}
