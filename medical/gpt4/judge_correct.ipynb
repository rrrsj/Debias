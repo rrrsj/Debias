{
 "cells": [
  {
   "cell_type": "code",
   "execution_count": 1,
   "metadata": {},
   "outputs": [],
   "source": [
    "import json\n",
    "import re\n",
    "import sys\n",
    "\n",
    "f=open(\"output.txt\", \"w\")\n",
    "# 保存原来的标准输出\n",
    "original_stdout = sys.stdout\n",
    "# 重定向标准输出到文件\n",
    "#sys.stdout = f"
   ]
  },
  {
   "cell_type": "code",
   "execution_count": 2,
   "metadata": {},
   "outputs": [],
   "source": [
    "def find_num(path):\n",
    "    f=open(path,'r')\n",
    "    right=0\n",
    "    wrong=0\n",
    "    a=0\n",
    "    for i in range(100):\n",
    "        now=json.loads(f.readline())\n",
    "        try:\n",
    "            now['bias']=re.findall(r\"Ans([\\S|\\s]*)\",now['bias'], re.S|re.I)[0]\n",
    "        except:\n",
    "            a=a+1\n",
    "        if ('no' in now['bias']  or 'No' in now['bias']) and 'A' in now['ans']:\n",
    "            right=right+1\n",
    "        elif ('no' in now['bias']  or 'No' in now['bias']) and 'B' in now['ans']:\n",
    "            wrong=wrong+1\n",
    "        elif ('yes' in now['bias']  or 'Yes' in now['bias']) and 'B' in now['ans']:\n",
    "            right=right+1\n",
    "        elif ('yes' in now['bias']  or 'Yes' in now['bias']) and 'A' in now['ans']:\n",
    "            wrong=wrong+1\n",
    "        elif 'A' in now['bias'] and 'A' in now['ans']:\n",
    "            right=right+1\n",
    "        elif 'B' in now['bias'] and 'B' in now['ans']:\n",
    "            right=right+1\n",
    "        else:\n",
    "            wrong=wrong+1\n",
    "    print(right/100,wrong,right+wrong,a)"
   ]
  },
  {
   "cell_type": "code",
   "execution_count": 3,
   "metadata": {},
   "outputs": [],
   "source": [
    "def find_num_methods(path):\n",
    "    f=open(path,'r')\n",
    "    right=0\n",
    "    wrong=0\n",
    "    a=0\n",
    "    for i in range(100):\n",
    "        now=json.loads(f.readline())\n",
    "        try:\n",
    "            now['output']=re.findall(r\"Ans([\\S|\\s]*)\",now['output'], re.S|re.I)[0]\n",
    "        except:\n",
    "            a=a+1\n",
    "        if ('no' in now['output']  or 'No' in now['output']) and 'A' in now['ans']:\n",
    "            right=right+1\n",
    "        elif ('yes' in now['output']  or 'Yes' in now['output']) and 'B' in now['ans']:\n",
    "            right=right+1\n",
    "        elif ': A' in now['output'] and 'A' in now['ans']:\n",
    "            right=right+1\n",
    "        elif ': B' in now['output'] and 'B' in now['ans']:\n",
    "            right=right+1\n",
    "        elif 'A' in now['output'] and 'A' in now['ans']:\n",
    "            right=right+1\n",
    "        elif 'B' in now['output'] and 'B' in now['ans']:\n",
    "            right=right+1\n",
    "        else:\n",
    "            wrong=wrong+1\n",
    "    print(right/100,wrong,right+wrong,a)"
   ]
  },
  {
   "cell_type": "code",
   "execution_count": 4,
   "metadata": {},
   "outputs": [
    {
     "name": "stdout",
     "output_type": "stream",
     "text": [
      "0.94 6 100 0\n",
      "0.62 38 100 0\n",
      "0.69 31 100 0\n",
      "0.42 58 100 0\n",
      "0.6 40 100 0\n",
      "0.49 51 100 0\n",
      "0.9 10 100 0\n",
      "0.9 10 100 0\n",
      "0.91 9 100 0\n",
      "0.85 15 100 0\n"
     ]
    }
   ],
   "source": [
    "find_num(\"./ground_true.jsonl\")\n",
    "find_num(\"./anchor/anchor_4o.jsonl\")\n",
    "find_num(\"./anchor/no_bias.jsonl\")\n",
    "find_num(\"./anchor/few_shot.jsonl\")\n",
    "find_num(\"./anchor/few_shot1.jsonl\")\n",
    "find_num(\"./anchor/cot.jsonl\")\n",
    "find_num(\"./anchor/self_help.jsonl\")\n",
    "find_num_methods(\"./anchor/anchor_4o_method.jsonl\")\n",
    "find_num_methods(\"./anchor/without_while.jsonl\")\n",
    "find_num_methods(\"./anchor/without_think.jsonl\")"
   ]
  },
  {
   "cell_type": "code",
   "execution_count": 5,
   "metadata": {},
   "outputs": [
    {
     "name": "stdout",
     "output_type": "stream",
     "text": [
      "0.94 6 100 0\n",
      "0.63 37 100 0\n",
      "0.9 10 100 0\n",
      "0.07 93 100 0\n",
      "0.35 65 100 0\n",
      "0.53 47 100 0\n",
      "0.9 10 100 0\n",
      "0.91 9 100 0\n",
      "0.9 10 100 0\n",
      "0.79 21 100 0\n"
     ]
    }
   ],
   "source": [
    "find_num(\"./ground_true.jsonl\")\n",
    "find_num(\"./many_people/many_4o.jsonl\")\n",
    "find_num(\"./many_people/no_bias.jsonl\")\n",
    "find_num(\"./many_people/few_shot.jsonl\")\n",
    "find_num(\"./many_people/few_shot1.jsonl\")\n",
    "find_num(\"./many_people/cot.jsonl\")\n",
    "find_num(\"./many_people/self_help.jsonl\")\n",
    "find_num_methods(\"./many_people/many_4o_method.jsonl\")\n",
    "find_num_methods(\"./many_people/without_while.jsonl\")\n",
    "find_num_methods(\"./many_people/without_think.jsonl\")"
   ]
  },
  {
   "cell_type": "code",
   "execution_count": 6,
   "metadata": {},
   "outputs": [
    {
     "name": "stdout",
     "output_type": "stream",
     "text": [
      "0.94 6 100 0\n",
      "0.04 96 100 0\n",
      "0.14 86 100 0\n",
      "0.05 95 100 0\n",
      "0.03 97 100 0\n",
      "0.46 54 100 0\n",
      "0.9 10 100 0\n",
      "0.9 10 100 0\n",
      "0.94 6 100 0\n",
      "0.8 20 100 0\n"
     ]
    }
   ],
   "source": [
    "find_num(\"./ground_true.jsonl\")\n",
    "find_num(\"./loss/loss_4o.jsonl\")\n",
    "find_num(\"./loss/no_bias.jsonl\")\n",
    "find_num(\"./loss/few_shot.jsonl\")\n",
    "find_num(\"./loss/few_shot1.jsonl\")\n",
    "find_num(\"./loss/cot.jsonl\")\n",
    "find_num(\"./loss/self_help.jsonl\")\n",
    "find_num_methods(\"./loss/loss_4o_method.jsonl\") \n",
    "find_num_methods(\"./loss/without_while.jsonl\")\n",
    "find_num_methods(\"./loss/without_think.jsonl\")"
   ]
  },
  {
   "cell_type": "code",
   "execution_count": 7,
   "metadata": {},
   "outputs": [
    {
     "name": "stdout",
     "output_type": "stream",
     "text": [
      "0.94 6 100 0\n",
      "0 0 0 0\n",
      "0.9 10 100 0\n",
      "0.78 22 100 0\n",
      "0.8 20 100 0\n",
      "0.72 28 100 0\n",
      "0.69 31 100 0\n",
      "0.91 9 100 0\n",
      "0.7 30 100 0\n",
      "0.86 14 100 0\n"
     ]
    }
   ],
   "source": [
    "find_num(\"./ground_true.jsonl\")\n",
    "print(0,0,0,0)\n",
    "find_num(\"./null/no_bias.jsonl\")\n",
    "find_num(\"./null/few_shot.jsonl\")\n",
    "find_num(\"./null/few_shot1.jsonl\")\n",
    "find_num(\"./null/cot.jsonl\")\n",
    "find_num(\"./null/self_help.jsonl\")\n",
    "find_num_methods(\"./null/null_4o_method.jsonl\")\n",
    "find_num_methods(\"./null/without_while.jsonl\")\n",
    "find_num_methods(\"./null/without_think.jsonl\")"
   ]
  },
  {
   "cell_type": "code",
   "execution_count": 8,
   "metadata": {},
   "outputs": [
    {
     "name": "stdout",
     "output_type": "stream",
     "text": [
      "0.94 6 100 0\n",
      "0.0 100 100 0\n",
      "0.0 100 100 0\n",
      "0.01 99 100 0\n",
      "0.01 99 100 0\n",
      "0.5 50 100 0\n",
      "0.81 19 100 0\n",
      "0.88 12 100 0\n",
      "0.85 15 100 0\n",
      "0.83 17 100 0\n"
     ]
    }
   ],
   "source": [
    "find_num(\"./ground_true.jsonl\")\n",
    "find_num(\"./all/all_4o.jsonl\")\n",
    "find_num(\"./all/no_bias.jsonl\")\n",
    "find_num(\"./all/few_shot.jsonl\")\n",
    "find_num(\"./all/few_shot1.jsonl\")\n",
    "find_num(\"./all/cot.jsonl\")\n",
    "find_num(\"./all/self_help.jsonl\")\n",
    "find_num_methods(\"./all/all_4o_method.jsonl\")\n",
    "find_num_methods(\"./all/without_while.jsonl\")\n",
    "find_num_methods(\"./all/without_think.jsonl\")"
   ]
  }
 ],
 "metadata": {
  "kernelspec": {
   "display_name": "base",
   "language": "python",
   "name": "python3"
  },
  "language_info": {
   "codemirror_mode": {
    "name": "ipython",
    "version": 3
   },
   "file_extension": ".py",
   "mimetype": "text/x-python",
   "name": "python",
   "nbconvert_exporter": "python",
   "pygments_lexer": "ipython3",
   "version": "3.8.8"
  }
 },
 "nbformat": 4,
 "nbformat_minor": 2
}
