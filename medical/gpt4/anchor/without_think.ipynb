{
 "cells": [
  {
   "cell_type": "code",
   "execution_count": 1,
   "metadata": {},
   "outputs": [],
   "source": [
    "import requests\n",
    "import json\n",
    "from random import randint\n",
    "from tqdm import trange\n",
    "from openai import OpenAI\n",
    "import os\n",
    "import pandas as pd\n",
    "import pyarrow.parquet as pq\n",
    "import re\n"
   ]
  },
  {
   "cell_type": "code",
   "execution_count": 3,
   "metadata": {},
   "outputs": [],
   "source": [
    "def get_output(message):\n",
    "    response = client.chat.completions.create(\n",
    "        model=\"gpt-4o\",\n",
    "        messages=[\n",
    "            {\"role\": \"system\", \"content\": message}\n",
    "        ],\n",
    "        temperature=0\n",
    "    )\n",
    "    response_message=json.loads(response.model_dump_json())\n",
    "    return response_message['choices'][0]['message']['content']"
   ]
  },
  {
   "cell_type": "code",
   "execution_count": 4,
   "metadata": {},
   "outputs": [],
   "source": [
    "def get_prompt(ans,fact):\n",
    "    bias=''\n",
    "    if ans=='A':\n",
    "        bias='Among all the questions, 30% of them have the answer is no and 70% have the answer is yes.'\n",
    "    else:\n",
    "        bias='Among all the questions, 70% of them have the answer is no and 30% have the answer is yes.'\n",
    "    template='''Please answer the question.\n",
    "%s\n",
    "\n",
    "Question: %s '''%(bias,fact)\n",
    "    return template"
   ]
  },
  {
   "cell_type": "code",
   "execution_count": 5,
   "metadata": {},
   "outputs": [],
   "source": [
    "def recognize_bias(bias):\n",
    "    template='''The following is a medical task prompt may contain cognitive biases. Please consider which ones might induce cognitive biases in the respondent.\n",
    "\n",
    "Example:[ Your previous choice was A. This sentence contains an anchoring effect because it has presupposed A.\n",
    "Studies have shown that drinking coffee can improve alertness and concentration. There is no cognitive bias in this sentence. ]  \n",
    "\n",
    "Prompt: [%s]\n",
    "\n",
    "Output Format:\n",
    "Bias sentence1:\n",
    "...'''%(bias)\n",
    "    return template"
   ]
  },
  {
   "cell_type": "code",
   "execution_count": 6,
   "metadata": {},
   "outputs": [],
   "source": [
    "def rewrite_bias(bias):\n",
    "    template='''The following is a medical choice task may contain cognitive biases. Rewrite the task in [] such that a reviewer is not biased, while retaining the normal sentences.\n",
    "\n",
    "Task: [%s]\n",
    "\n",
    "Here is new task without bias:\n",
    "Task:'''%(bias)\n",
    "    return template"
   ]
  },
  {
   "cell_type": "code",
   "execution_count": 7,
   "metadata": {},
   "outputs": [],
   "source": [
    "def judge_bias(input):\n",
    "    ans=get_output('''Please first break prompt all in [] into sentence by sentence, and then determine whether may contain cognitive biases that affect normal selection, and provide the reasons for the cognitive biases.\n",
    "\n",
    "Example:[ Your previous choice was A. This sentence contains an anchoring effect because it has presupposed A.]\n",
    "[ Studies have shown that drinking coffee can improve alertness and concentration. There is no cognitive bias in this sentence. ]\n",
    "\n",
    "Prompt:[ %s ]\n",
    "'''%(input))\n",
    "    now=ans.split('[')\n",
    "    #print(now)\n",
    "    for i in now:\n",
    "        if len(i)==0:\n",
    "            continue\n",
    "        if \"not contain\" in i or \"Not contain\" in i or 'no cognitive bias' in i:\n",
    "            a=1\n",
    "        elif 'contain' in i:\n",
    "            return 1\n",
    "        if 'contains' in i:\n",
    "            return 1\n",
    "    return 0"
   ]
  },
  {
   "cell_type": "code",
   "execution_count": 8,
   "metadata": {},
   "outputs": [],
   "source": [
    "def judge_com(input):\n",
    "    ans=get_output('''Please help me determine whether the following question is complete or not.\n",
    "\n",
    "Prompt:[%s]\n",
    "                   \n",
    "'''%(input))\n",
    "    #print(ans)\n",
    "    if \"Incomplete\" in ans or \"incomplete\" in ans or 'not' in ans:\n",
    "        return 0\n",
    "    else:\n",
    "        return 1"
   ]
  },
  {
   "cell_type": "code",
   "execution_count": 9,
   "metadata": {},
   "outputs": [
    {
     "name": "stderr",
     "output_type": "stream",
     "text": [
      "100%|██████████| 100/100 [13:38<00:00,  8.18s/it]\n"
     ]
    }
   ],
   "source": [
    "data= open('../data/test.jsonl','r')\n",
    "for i in trange(100):\n",
    "    question=json.loads(data.readline())\n",
    "    all_num=0\n",
    "    linshi=get_prompt(str(question['ans']),question['question'])\n",
    "    while all_num<=0:\n",
    "        prompt=linshi\n",
    "        try_num=0\n",
    "        while judge_bias(prompt) and try_num<=2:\n",
    "            try:\n",
    "                #judge=re.findall(r\"Recognize Bias:([\\S|\\s]*)\",judge, re.S|re.I)[0]\n",
    "                temp=get_output(rewrite_bias(prompt))\n",
    "                #prompt=re.findall(r\"Unbiased Prompt:([\\S|\\s]*)\",temp, re.S|re.I)[0]\n",
    "                #print(prompt)\n",
    "                prompt=temp\n",
    "                try_num=try_num+1 \n",
    "            except:\n",
    "                continue\n",
    "        all_num=all_num+1\n",
    "        if judge_com(prompt+'\\nA.no   B.yes'):\n",
    "            break\n",
    "    try:\n",
    "        prompt=re.findall(r\"Task:([\\S|\\s]*)\",prompt, re.S|re.I)[0]\n",
    "    except:\n",
    "        a=1\n",
    "    prompt=prompt.replace('[','').replace(']','').replace('*','').strip()\n",
    "    #print(prompt)\n",
    "    #print(try_num)\n",
    "    ans=get_output(prompt+'\\nA.no   B.yes\\n\\nOutput format:\\nAns:  (Only one option can be selected)')\n",
    "    with open(\"without_think.jsonl\",\"a\",encoding='utf-8') as k:\n",
    "        input_dict={'number':i,'ans':str(question['ans']),'output':ans,'prompt':prompt}\n",
    "        input_json=json.dumps(input_dict)\n",
    "        k.write(input_json+'\\n')"
   ]
  }
 ],
 "metadata": {
  "kernelspec": {
   "display_name": "base",
   "language": "python",
   "name": "python3"
  },
  "language_info": {
   "codemirror_mode": {
    "name": "ipython",
    "version": 3
   },
   "file_extension": ".py",
   "mimetype": "text/x-python",
   "name": "python",
   "nbconvert_exporter": "python",
   "pygments_lexer": "ipython3",
   "version": "3.8.8"
  }
 },
 "nbformat": 4,
 "nbformat_minor": 2
}
