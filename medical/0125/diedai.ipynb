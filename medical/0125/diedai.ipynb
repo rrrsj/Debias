{
 "cells": [
  {
   "cell_type": "code",
   "execution_count": 13,
   "metadata": {
    "pycharm": {
     "name": "#%%\n"
    }
   },
   "outputs": [],
   "source": [
    "import json\n",
    "import re\n",
    "import sys\n"
   ]
  },
  {
   "cell_type": "code",
   "execution_count": 14,
   "metadata": {
    "pycharm": {
     "name": "#%%\n"
    }
   },
   "outputs": [],
   "source": [
    "def find_num_methods(path):\n",
    "    f=open(path,'r')\n",
    "    right=[0,0,0]\n",
    "    wrong=[0,0,0]\n",
    "    a=0\n",
    "    for i in range(500):\n",
    "\n",
    "        now=json.loads(f.readline())\n",
    "        while len(now['output'])<3:\n",
    "            try:\n",
    "                now['output'].append(now['output'][-1])\n",
    "            except:\n",
    "                now['output'].append(now['ans'])\n",
    "\n",
    "\n",
    "        for j in range(3):\n",
    "            try:\n",
    "                ans_temp=re.findall(r\"Ans([\\S|\\s]*)\",now['output'][j], re.S|re.I)[0]\n",
    "            except:\n",
    "                ans_temp=now['output'][j]\n",
    "            if ('no' in ans_temp  or 'No' in ans_temp) and 'A' in now['ans']:\n",
    "                right[j]=right[j]+1\n",
    "            elif ('yes' in ans_temp  or 'Yes' in ans_temp) and 'B' in now['ans']:\n",
    "                right[j]=right[j]+1\n",
    "            elif ': A' in ans_temp and 'A' in now['ans']:\n",
    "                right[j]=right[j]+1\n",
    "            elif ': B' in ans_temp and 'B' in now['ans']:\n",
    "                right[j]=right[j]+1\n",
    "            elif 'A' in ans_temp and 'A' in now['ans']:\n",
    "                right[j]=right[j]+1\n",
    "            elif 'B' in ans_temp and 'B' in now['ans']:\n",
    "                right[j]=right[j]+1\n",
    "    print(right[0]/500)\n",
    "    print(right[1]/500)\n",
    "    print(right[2]/500)"
   ]
  },
  {
   "cell_type": "code",
   "execution_count": 15,
   "metadata": {
    "pycharm": {
     "name": "#%%\n"
    }
   },
   "outputs": [
    {
     "name": "stdout",
     "output_type": "stream",
     "text": [
      "0.442\n",
      "0.716\n",
      "0.702\n"
     ]
    }
   ],
   "source": [
    "find_num_methods(\"./all/diedai.jsonl\")"
   ]
  }
 ],
 "metadata": {
  "kernelspec": {
   "display_name": "base",
   "language": "python",
   "name": "python3"
  },
  "language_info": {
   "codemirror_mode": {
    "name": "ipython",
    "version": 3
   },
   "file_extension": ".py",
   "mimetype": "text/x-python",
   "name": "python",
   "nbconvert_exporter": "python",
   "pygments_lexer": "ipython3",
   "version": "3.8.8"
  }
 },
 "nbformat": 4,
 "nbformat_minor": 2
}