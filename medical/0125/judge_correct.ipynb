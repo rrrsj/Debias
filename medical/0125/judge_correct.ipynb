{
 "cells": [
  {
   "cell_type": "code",
   "execution_count": 100,
   "metadata": {
    "pycharm": {
     "name": "#%%\n"
    }
   },
   "outputs": [],
   "source": [
    "import json\n",
    "import re\n",
    "import sys\n",
    "\n",
    "f=open(\"output.txt\", \"w\")\n",
    "# 保存原来的标准输出\n",
    "original_stdout = sys.stdout\n",
    "# 重定向标准输出到文件\n",
    "#sys.stdout = f"
   ]
  },
  {
   "cell_type": "code",
   "execution_count": 101,
   "metadata": {
    "pycharm": {
     "name": "#%%\n"
    }
   },
   "outputs": [],
   "source": [
    "def find_num(path):\n",
    "    f=open(path,'r')\n",
    "    right=0\n",
    "    wrong=0\n",
    "    a=0\n",
    "    for i in range(500):\n",
    "        now=json.loads(f.readline())\n",
    "        try:\n",
    "            now['bias']=re.findall(r\"Ans([\\S|\\s]*)\",now['bias'], re.S|re.I)[0]\n",
    "        except:\n",
    "            a=a+1\n",
    "        if ('no' in now['bias']  or 'No' in now['bias']) and 'A' in now['ans']:\n",
    "            right=right+1\n",
    "        elif ('no' in now['bias']  or 'No' in now['bias']) and 'B' in now['ans']:\n",
    "            wrong=wrong+1\n",
    "        elif ('yes' in now['bias']  or 'Yes' in now['bias']) and 'B' in now['ans']:\n",
    "            right=right+1\n",
    "        elif ('yes' in now['bias']  or 'Yes' in now['bias']) and 'A' in now['ans']:\n",
    "            wrong=wrong+1\n",
    "        elif 'A' in now['bias'] and 'A' in now['ans']:\n",
    "            right=right+1\n",
    "        elif 'B' in now['bias'] and 'B' in now['ans']:\n",
    "            right=right+1\n",
    "        else:\n",
    "            wrong=wrong+1\n",
    "    print(right/500,wrong,right+wrong,a)"
   ]
  },
  {
   "cell_type": "code",
   "execution_count": 102,
   "metadata": {
    "pycharm": {
     "name": "#%%\n"
    }
   },
   "outputs": [],
   "source": [
    "def find_num_methods(path):\n",
    "    f=open(path,'r')\n",
    "    right=0\n",
    "    wrong=0\n",
    "    a=0\n",
    "    for i in range(500):\n",
    "        now=json.loads(f.readline())\n",
    "        try:\n",
    "            now['output']=re.findall(r\"Ans([\\S|\\s]*)\",now['output'], re.S|re.I)[0]\n",
    "        except:\n",
    "            a=a+1\n",
    "        if ('no' in now['output']  or 'No' in now['output']) and 'A' in now['ans']:\n",
    "            right=right+1\n",
    "        elif ('yes' in now['output']  or 'Yes' in now['output']) and 'B' in now['ans']:\n",
    "            right=right+1\n",
    "        elif ': A' in now['output'] and 'A' in now['ans']:\n",
    "            right=right+1\n",
    "        elif ': B' in now['output'] and 'B' in now['ans']:\n",
    "            right=right+1\n",
    "        elif 'A' in now['output'] and 'A' in now['ans']:\n",
    "            right=right+1\n",
    "        elif 'B' in now['output'] and 'B' in now['ans']:\n",
    "            right=right+1\n",
    "        else:\n",
    "            wrong=wrong+1\n",
    "    print(right/500,wrong,right+wrong,a)"
   ]
  },
  {
   "cell_type": "code",
   "execution_count": 103,
   "metadata": {
    "pycharm": {
     "name": "#%%\n"
    }
   },
   "outputs": [
    {
     "name": "stdout",
     "output_type": "stream",
     "text": [
      "0.934 33 500 0\n",
      "0.2 400 500 0\n",
      "0.482 259 500 0\n",
      "0.586 207 500 0\n",
      "0.538 231 500 1\n",
      "0.384 308 500 0\n",
      "0.712 144 500 0\n",
      "0.702 149 500 20\n",
      "0.636 182 500 89\n",
      "0.594 203 500 6\n",
      "0.094 453 500 500\n",
      "0.142 429 500 1\n",
      "0.726 137 500 33\n"
     ]
    }
   ],
   "source": [
    "find_num(\"./ground_true.jsonl\")\n",
    "find_num(\"./anchor/anchor_0125.jsonl\")\n",
    "find_num(\"./anchor/no_bias.jsonl\")\n",
    "find_num(\"./anchor/few_shot.jsonl\")\n",
    "find_num(\"./anchor/few_shot1.jsonl\")\n",
    "find_num(\"./anchor/cot.jsonl\")\n",
    "find_num(\"./anchor/self_help.jsonl\")\n",
    "find_num_methods(\"./anchor/anchor_0125_method.jsonl\")\n",
    "find_num_methods(\"./anchor/without_while.jsonl\")\n",
    "find_num_methods(\"./anchor/without_think.jsonl\")\n",
    "find_num_methods(\"./anchor/multi_debate.jsonl\")\n",
    "find_num_methods(\"./anchor/reflexion.jsonl\")\n",
    "find_num(\"./anchor/get_judge.jsonl\")"
   ]
  },
  {
   "cell_type": "code",
   "execution_count": 104,
   "metadata": {
    "pycharm": {
     "name": "#%%\n"
    }
   },
   "outputs": [
    {
     "name": "stdout",
     "output_type": "stream",
     "text": [
      "0.934 33 500 0\n",
      "0.246 377 500 0\n",
      "0.54 230 500 0\n",
      "0.348 326 500 0\n",
      "0.468 266 500 0\n",
      "0.46 270 500 0\n",
      "0.68 160 500 0\n",
      "0.83 85 500 0\n",
      "0.778 111 500 1\n",
      "0.69 155 500 8\n",
      "0.168 416 500 500\n",
      "0.272 364 500 0\n",
      "0.8 100 500 6\n"
     ]
    }
   ],
   "source": [
    "find_num(\"./ground_true.jsonl\")\n",
    "find_num(\"./many_people/many_0125.jsonl\")\n",
    "find_num(\"./many_people/no_bias.jsonl\")\n",
    "find_num(\"./many_people/few_shot.jsonl\")\n",
    "find_num(\"./many_people/few_shot1.jsonl\")\n",
    "find_num(\"./many_people/cot.jsonl\")\n",
    "find_num(\"./many_people/self_help.jsonl\")\n",
    "find_num_methods(\"./many_people/many_0125_method.jsonl\")\n",
    "find_num_methods(\"./many_people/without_while.jsonl\")\n",
    "find_num_methods(\"./many_people/without_think.jsonl\")\n",
    "find_num_methods(\"./many_people/multi_debate.jsonl\")\n",
    "find_num_methods(\"./many_people/reflexion.jsonl\")\n",
    "find_num(\"./many_people/get_judge.jsonl\")"
   ]
  },
  {
   "cell_type": "code",
   "execution_count": 105,
   "metadata": {
    "pycharm": {
     "name": "#%%\n"
    }
   },
   "outputs": [
    {
     "name": "stdout",
     "output_type": "stream",
     "text": [
      "0.934 33 500 0\n",
      "0.614 193 500 0\n",
      "0.586 207 500 0\n",
      "0.79 105 500 0\n",
      "0.776 112 500 0\n",
      "0.638 181 500 0\n",
      "0.696 152 500 1\n",
      "0.858 71 500 3\n",
      "0.758 121 500 1\n",
      "0.68 160 500 6\n",
      "0.572 214 500 500\n",
      "0.232 384 500 1\n",
      "0.75 125 500 11\n"
     ]
    }
   ],
   "source": [
    "find_num(\"./ground_true.jsonl\")\n",
    "find_num(\"./loss/loss_0125.jsonl\")\n",
    "find_num(\"./loss/no_bias.jsonl\")\n",
    "find_num(\"./loss/few_shot.jsonl\")\n",
    "find_num(\"./loss/few_shot1.jsonl\")\n",
    "find_num(\"./loss/cot.jsonl\")\n",
    "find_num(\"./loss/self_help.jsonl\")\n",
    "find_num_methods(\"./loss/loss_0125_method.jsonl\") \n",
    "find_num_methods(\"./loss/without_while.jsonl\")\n",
    "find_num_methods(\"./loss/without_think.jsonl\")\n",
    "find_num_methods(\"./loss/multi_debate.jsonl\")\n",
    "find_num_methods(\"./loss/reflexion.jsonl\")\n",
    "find_num(\"./loss/get_judge.jsonl\")"
   ]
  },
  {
   "cell_type": "code",
   "execution_count": 106,
   "metadata": {
    "pycharm": {
     "name": "#%%\n"
    }
   },
   "outputs": [
    {
     "name": "stdout",
     "output_type": "stream",
     "text": [
      "0.934 33 500 0\n",
      "0 0 0 0\n",
      "0.808 96 500 0\n",
      "0.736 132 500 0\n",
      "0.714 143 500 0\n",
      "0.726 137 500 0\n",
      "0.684 158 500 0\n",
      "0.768 116 500 13\n",
      "0.648 176 500 27\n",
      "0.746 127 500 6\n",
      "0.8 100 500 500\n",
      "0.742 129 500 2\n"
     ]
    }
   ],
   "source": [
    "find_num(\"./ground_true.jsonl\")\n",
    "print(0,0,0,0)\n",
    "find_num(\"./null/no_bias.jsonl\")\n",
    "find_num(\"./null/few_shot.jsonl\")\n",
    "find_num(\"./null/few_shot1.jsonl\")\n",
    "find_num(\"./null/cot.jsonl\")\n",
    "find_num(\"./null/self_help.jsonl\")\n",
    "find_num_methods(\"./null/null_0125_method.jsonl\")\n",
    "find_num_methods(\"./null/without_while.jsonl\")\n",
    "find_num_methods(\"./null/without_think.jsonl\")\n",
    "find_num_methods(\"./null/multi_debate.jsonl\")\n",
    "find_num_methods(\"./null/reflexion.jsonl\")"
   ]
  },
  {
   "cell_type": "code",
   "execution_count": 107,
   "metadata": {
    "pycharm": {
     "name": "#%%\n"
    }
   },
   "outputs": [
    {
     "name": "stdout",
     "output_type": "stream",
     "text": [
      "0.934 33 500 0\n",
      "0.014 493 500 0\n",
      "0.034 483 500 0\n",
      "0.058 471 500 0\n",
      "0.004 498 500 0\n",
      "0.078 461 500 0\n",
      "0.516 242 500 0\n",
      "0.712 144 500 1\n",
      "0.35 325 500 0\n",
      "0.706 147 500 2\n",
      "0.0 500 500 500\n",
      "0.002 499 500 500\n",
      "0.746 127 500 17\n"
     ]
    }
   ],
   "source": [
    "find_num(\"./ground_true.jsonl\")\n",
    "find_num(\"./all/all_0125.jsonl\")\n",
    "find_num(\"./all/no_bias.jsonl\")\n",
    "find_num(\"./all/few_shot.jsonl\")\n",
    "find_num(\"./all/few_shot1.jsonl\")\n",
    "find_num(\"./all/cot.jsonl\")\n",
    "find_num(\"./all/self_help.jsonl\")\n",
    "find_num_methods(\"./all/all_0125_method.jsonl\")\n",
    "find_num_methods(\"./all/without_while.jsonl\")\n",
    "find_num_methods(\"./all/without_think.jsonl\")\n",
    "find_num_methods(\"./all/multi_debate.jsonl\")\n",
    "find_num_methods(\"./all/reflexion.jsonl\")\n",
    "find_num(\"./all/get_judge.jsonl\")"
   ]
  },
  {
   "cell_type": "code",
   "execution_count": 108,
   "metadata": {
    "pycharm": {
     "name": "#%%\n"
    }
   },
   "outputs": [
    {
     "ename": "ValueError",
     "evalue": "invalid literal for int() with base 10: ''",
     "output_type": "error",
     "traceback": [
      "\u001B[1;31m---------------------------------------------------------------------------\u001B[0m",
      "\u001B[1;31mValueError\u001B[0m                                Traceback (most recent call last)",
      "\u001B[1;32m~\\AppData\\Local\\Temp\\ipykernel_16172\\3484023907.py\u001B[0m in \u001B[0;36m<module>\u001B[1;34m\u001B[0m\n\u001B[0;32m      8\u001B[0m             \u001B[1;31m#print(linshi)\u001B[0m\u001B[1;33m\u001B[0m\u001B[1;33m\u001B[0m\u001B[0m\n\u001B[0;32m      9\u001B[0m             \u001B[1;32mfor\u001B[0m \u001B[0mk\u001B[0m \u001B[1;32min\u001B[0m \u001B[0mrange\u001B[0m\u001B[1;33m(\u001B[0m\u001B[1;36m1\u001B[0m\u001B[1;33m,\u001B[0m \u001B[1;36m5\u001B[0m\u001B[1;33m)\u001B[0m\u001B[1;33m:\u001B[0m\u001B[1;33m\u001B[0m\u001B[1;33m\u001B[0m\u001B[0m\n\u001B[1;32m---> 10\u001B[1;33m                 \u001B[0marray_3d\u001B[0m\u001B[1;33m[\u001B[0m\u001B[0mi\u001B[0m\u001B[1;33m]\u001B[0m\u001B[1;33m[\u001B[0m\u001B[0mj\u001B[0m\u001B[1;33m]\u001B[0m\u001B[1;33m[\u001B[0m\u001B[0mk\u001B[0m\u001B[1;33m]\u001B[0m \u001B[1;33m=\u001B[0m \u001B[0mint\u001B[0m\u001B[1;33m(\u001B[0m\u001B[0mlinshi\u001B[0m\u001B[1;33m[\u001B[0m\u001B[0mk\u001B[0m\u001B[1;33m-\u001B[0m\u001B[1;36m1\u001B[0m\u001B[1;33m]\u001B[0m\u001B[1;33m)\u001B[0m\u001B[1;33m\u001B[0m\u001B[1;33m\u001B[0m\u001B[0m\n\u001B[0m\u001B[0;32m     11\u001B[0m \u001B[1;33m\u001B[0m\u001B[0m\n\u001B[0;32m     12\u001B[0m \u001B[0mprint\u001B[0m\u001B[1;33m(\u001B[0m\u001B[1;34m\"||ground_true|偏差|no_bias|few_shot|few_shot1|cot|self_help|改进|without_while|without_think|\"\u001B[0m\u001B[1;33m)\u001B[0m\u001B[1;33m\u001B[0m\u001B[1;33m\u001B[0m\u001B[0m\n",
      "\u001B[1;31mValueError\u001B[0m: invalid literal for int() with base 10: ''"
     ]
    }
   ],
   "source": [
    "array_3d = [[[0 for _ in range(100)] for _ in range(100)] for _ in range(100)]\n",
    "\n",
    "# Redirect input from a file\n",
    "with open(\"./output.txt\", \"r\") as input_file:\n",
    "    for i in range(1, 6):\n",
    "        for j in range(1, 11):\n",
    "            linshi=input_file.readline().strip().split(' ')\n",
    "            #print(linshi)\n",
    "            for k in range(1, 5):\n",
    "                array_3d[i][j][k] = int(linshi[k-1])\n",
    "\n",
    "print(\"||ground_true|偏差|no_bias|few_shot|few_shot1|cot|self_help|改进|without_while|without_think|\")\n",
    "print(\"|---|---|---|---|---|---|---|---|---|\")\n",
    "for i in range(1, 6):\n",
    "    if i == 1:\n",
    "        print(\"锚定|\", end=\"\")\n",
    "    if i == 2:\n",
    "        print(\"从众|\", end=\"\")\n",
    "    if i == 3:\n",
    "        print(\"损失厌恶|\", end=\"\")\n",
    "    if i == 4:\n",
    "        print(\"无偏差|\", end=\"\")\n",
    "    if i == 5:\n",
    "        print(\"多偏差|\", end=\"\")\n",
    "    for j in range(1, 11):\n",
    "        for k in range(1, 3):\n",
    "            print(array_3d[i][j][k], end=\"\")\n",
    "            if k == 1:\n",
    "                print('\\\\', end=\"\")\n",
    "        print('|', end=\"\")\n",
    "    print()"
   ]
  }
 ],
 "metadata": {
  "kernelspec": {
   "display_name": "base",
   "language": "python",
   "name": "python3"
  },
  "language_info": {
   "codemirror_mode": {
    "name": "ipython",
    "version": 3
   },
   "file_extension": ".py",
   "mimetype": "text/x-python",
   "name": "python",
   "nbconvert_exporter": "python",
   "pygments_lexer": "ipython3",
   "version": "3.8.8"
  }
 },
 "nbformat": 4,
 "nbformat_minor": 2
}