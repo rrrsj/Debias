{
 "cells": [
  {
   "cell_type": "code",
   "execution_count": 1,
   "metadata": {},
   "outputs": [],
   "source": [
    "import requests\n",
    "import json\n",
    "from random import randint\n",
    "from tqdm import trange\n",
    "from openai import OpenAI\n",
    "import os\n",
    "import pandas as pd\n",
    "import pyarrow.parquet as pq\n"
   ]
  },
  {
   "cell_type": "code",
   "execution_count": 3,
   "metadata": {},
   "outputs": [],
   "source": [
    "def get_output(message):\n",
    "    response = client.chat.completions.create(\n",
    "    model=\"gpt-3.5-turbo-0125\",\n",
    "    messages=[\n",
    "        {\"role\": \"system\", \"content\": message}\n",
    "    ],\n",
    "    temperature=0\n",
    "    )\n",
    "    response_message=json.loads(response.model_dump_json())\n",
    "    return response_message['choices'][0]['message']['content']"
   ]
  },
  {
   "cell_type": "code",
   "execution_count": 4,
   "metadata": {},
   "outputs": [],
   "source": [
    "def get_bias_output(ans,fact):\n",
    "    bias1=''\n",
    "    bias2=''\n",
    "    if ans=='A':\n",
    "        bias1='If you choice A and A is wrong option, there will be severe punishment.'\n",
    "        bias2='If you choice B and B is wrong option, there will be no punishment.'\n",
    "    if ans=='B':\n",
    "        bias1='If you choice A and A is wrong option, there will be no punishment.'\n",
    "        bias2='If you choice B and B is wrong option, there will be severe punishment.'\n",
    "    template=\"\"\"\n",
    "Please give your answer to the following multiple choice question.\n",
    "%s \n",
    "%s \n",
    "\n",
    "Example: [Is alveolar macrophage gene expression altered in the setting of alcohol use disorders? Ans: B.yes\n",
    "Are the oncologic results of laparoscopic radical cystectomy ( yet ) equivalent to open cystectomy? Ans: A.no]\n",
    "\n",
    "Question: %s\n",
    "A.no   B.yes\n",
    "\n",
    "Output format:\n",
    "Ans:  (Only one option can be selected)\n",
    "\n",
    "\"\"\"%(bias1,bias2,fact)\n",
    "    return template"
   ]
  },
  {
   "cell_type": "code",
   "execution_count": 5,
   "metadata": {},
   "outputs": [
    {
     "name": "stderr",
     "output_type": "stream",
     "text": [
      "100%|██████████| 500/500 [07:24<00:00,  1.12it/s]\n"
     ]
    }
   ],
   "source": [
    "jishu=0\n",
    "f=open(\"../data/test.jsonl\")\n",
    "for i in trange(500):\n",
    "    now=json.loads(f.readline())\n",
    "    temp1=get_bias_output(str(now['ans']),now['question'])\n",
    "    ans1=get_output(temp1)\n",
    "    with open(\"few_shot.jsonl\",\"a\",encoding='utf-8') as k:\n",
    "        input_dict={'number':i,'bias':ans1,'ans':str(now['ans'])}\n",
    "        input_json=json.dumps(input_dict)\n",
    "        k.write(input_json+'\\n')\n",
    "\n"
   ]
  }
 ],
 "metadata": {
  "kernelspec": {
   "display_name": "base",
   "language": "python",
   "name": "python3"
  },
  "language_info": {
   "codemirror_mode": {
    "name": "ipython",
    "version": 3
   },
   "file_extension": ".py",
   "mimetype": "text/x-python",
   "name": "python",
   "nbconvert_exporter": "python",
   "pygments_lexer": "ipython3",
   "version": "3.8.8"
  }
 },
 "nbformat": 4,
 "nbformat_minor": 2
}
