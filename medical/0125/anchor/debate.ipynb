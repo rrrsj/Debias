{
 "cells": [
  {
   "cell_type": "code",
   "execution_count": 1,
   "metadata": {},
   "outputs": [],
   "source": [
    "import requests\n",
    "import json\n",
    "from random import randint\n",
    "from tqdm import trange\n",
    "from openai import OpenAI\n",
    "import os\n",
    "import pandas as pd\n",
    "import pyarrow.parquet as pq\n",
    "import re"
   ]
  },
  {
   "cell_type": "code",
   "execution_count": 3,
   "metadata": {},
   "outputs": [],
   "source": [
    "def get_output(message):\n",
    "    response = client.chat.completions.create(\n",
    "    model=\"gpt-3.5-turbo-0125\",\n",
    "    messages=[\n",
    "        {\"role\": \"system\", \"content\": message}\n",
    "    ],\n",
    "    )\n",
    "    response_message=json.loads(response.model_dump_json())\n",
    "    return response_message['choices'][0]['message']['content']"
   ]
  },
  {
   "cell_type": "code",
   "execution_count": 4,
   "metadata": {},
   "outputs": [],
   "source": [
    "def get_prompt(ans,fact):\n",
    "    bias=''\n",
    "    if ans=='A':\n",
    "        bias='Among all the questions, 30% of them have the answer is no and 70% have the answer is yes.'\n",
    "    else:\n",
    "        bias='Among all the questions, 70% of them have the answer is no and 30% have the answer is yes.'\n",
    "    template=\"\"\"\n",
    "Please give your answer to the following multiple choice question.\n",
    "%s\n",
    "\n",
    "Question: %s\n",
    "A.no   B.yes\n",
    "\n",
    "Output format:\n",
    "Ans:  (Only one option can be selected)\n",
    "\"\"\"%(bias,fact)\n",
    "    return template"
   ]
  },
  {
   "cell_type": "code",
   "execution_count": 5,
   "metadata": {},
   "outputs": [],
   "source": [
    "def debate_prompt(multi_ans,question):\n",
    "    template='''These are the solutions to the problem from other agents: [%s] \n",
    "Based off the opinion of other agents, can you give an updated response.\n",
    "\n",
    "Task:[%s]\n",
    "\n",
    "'''%(multi_ans,question)\n",
    "    return template"
   ]
  },
  {
   "cell_type": "code",
   "execution_count": 6,
   "metadata": {},
   "outputs": [],
   "source": [
    "def get_class(inputs):\n",
    "    if 'B' in inputs or 'Yes' in inputs or 'yes' in inputs:\n",
    "        return 0\n",
    "    else:\n",
    "        return 1"
   ]
  },
  {
   "cell_type": "code",
   "execution_count": 7,
   "metadata": {},
   "outputs": [
    {
     "name": "stderr",
     "output_type": "stream",
     "text": [
      "100%|██████████| 500/500 [29:10<00:00,  3.50s/it]  \n"
     ]
    }
   ],
   "source": [
    "data= open('../data/test.jsonl','r')\n",
    "num_agent=3\n",
    "for i in trange(500):\n",
    "    Experience=''\n",
    "    question=json.loads(data.readline())\n",
    "    prompt=get_prompt(str(question['ans']),question['question'])\n",
    "    \n",
    "    number=0\n",
    "    for j in range(num_agent):\n",
    "        temp=get_output(prompt)\n",
    "        number=number+get_class(temp)\n",
    "        Experience=Experience+temp+'\\n'\n",
    "    \n",
    "    while not number==0 and not number==3:\n",
    "        number=0\n",
    "        linshi=''\n",
    "        temp_prompt=debate_prompt(Experience,prompt)\n",
    "        for j in range(num_agent):\n",
    "            temp=get_output(temp_prompt)\n",
    "            number=number+get_class(temp)\n",
    "            linshi=linshi+temp+'\\n'\n",
    "        Experience=linshi\n",
    "\n",
    "    if number==0:\n",
    "        ans=\"yes\"\n",
    "    else:\n",
    "        ans='no'\n",
    "\n",
    "\n",
    "    with open(\"multi_debate.jsonl\",\"a\",encoding='utf-8') as k:\n",
    "        input_dict={'number':i,'ans':str(question['ans']),'output':ans,'prompt':prompt}\n",
    "        input_json=json.dumps(input_dict)\n",
    "        k.write(input_json+'\\n')"
   ]
  }
 ],
 "metadata": {
  "kernelspec": {
   "display_name": "base",
   "language": "python",
   "name": "python3"
  },
  "language_info": {
   "codemirror_mode": {
    "name": "ipython",
    "version": 3
   },
   "file_extension": ".py",
   "mimetype": "text/x-python",
   "name": "python",
   "nbconvert_exporter": "python",
   "pygments_lexer": "ipython3",
   "version": "3.8.8"
  }
 },
 "nbformat": 4,
 "nbformat_minor": 2
}
